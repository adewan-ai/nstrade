{
 "cells": [
  {
   "cell_type": "markdown",
   "metadata": {},
   "source": [
    "## Load data"
   ]
  },
  {
   "cell_type": "code",
   "execution_count": 1,
   "metadata": {},
   "outputs": [],
   "source": [
    "import pandas as pd"
   ]
  },
  {
   "cell_type": "code",
   "execution_count": 2,
   "metadata": {},
   "outputs": [],
   "source": [
    "def process_data_for_model(data_path):\n",
    "    df = pd.read_csv(data_path)\n",
    "\n",
    "    df = df[['time', 'close', 'volumeto']].copy()\n",
    "    df = df.rename(columns={'volumeto': 'volume'})\n",
    "    df['id'] = 'BTC'\n",
    "    df['time'] = pd.to_datetime(df['time']).dt.tz_localize(None)\n",
    "    df['return'] = df['close'].pct_change().shift(-1)  # 1-step-ahead return\n",
    "    df=df.dropna(subset=['return'])\n",
    "    df.info()\n",
    "    df.head()\n",
    "\n",
    "    return df"
   ]
  },
  {
   "cell_type": "markdown",
   "metadata": {},
   "source": [
    "## AutoMLStrategy"
   ]
  },
  {
   "cell_type": "code",
   "execution_count": 8,
   "metadata": {},
   "outputs": [],
   "source": [
    "import sys\n",
    "import numpy as np\n",
    "from autogluon.timeseries import TimeSeriesDataFrame, TimeSeriesPredictor\n",
    "\n",
    "sys.path.append(\"../src\")\n",
    "\n",
    "from strategy import Strategy\n",
    "from backtest import run_backtest\n",
    "\n",
    "class AutoMLStrategy(Strategy):\n",
    "    def __init__(self, initial_capital=10000, df=None, lookback=1000):\n",
    "        super().__init__(initial_capital)\n",
    "        self.has_bought = False\n",
    "        self.lookback = lookback           # how many bars to keep\n",
    "        self.window   = pd.DataFrame()  # seed with training tail\n",
    "        self.prev_close = None\n",
    "\n",
    "\n",
    "        train_df = TimeSeriesDataFrame.from_data_frame(\n",
    "            df.head(10),          # drop last NaN caused by shift\n",
    "            timestamp_column='time',\n",
    "            id_column='id',\n",
    "            static_features_df=None\n",
    "        )\n",
    "        self.model = TimeSeriesPredictor(\n",
    "            target='return',\n",
    "            prediction_length=1,\n",
    "            eval_metric='rmse',\n",
    "            quantile_levels=[0.05, 0.25, 0.5, 0.75, 0.95],  # gives you a distribution\n",
    "            freq='1H'             # or '1H', '5min', …  match your data\n",
    "            # presets='medium_quality'\n",
    "        )\n",
    "        \n",
    "\n",
    "        self.model.fit(train_df)\n",
    "        self.model.save()\n",
    "\n",
    "    # -----------------------------------------------------------------\n",
    "    # called once per new bar by the back-testing engine\n",
    "    # -----------------------------------------------------------------\n",
    "    def process_bar(self, bar):\n",
    "        # ── 1 ▪ add id and compute return ───────────────────────────\n",
    "        bar['id'] = 'BTC'\n",
    "        if self.prev_close is None:\n",
    "            bar['return'] = np.nan                # first bar\n",
    "        else:\n",
    "            bar['return'] = (bar['close'] - self.prev_close) / self.prev_close\n",
    "        self.prev_close = bar['close']\n",
    "\n",
    "        # ── 2 ▪ update rolling window ───────────────────────────────\n",
    "        self.window = (\n",
    "            pd.concat([self.window, pd.DataFrame([bar])])\n",
    "              .tail(self.lookback)\n",
    "              .reset_index(drop=True)\n",
    "        )\n",
    "        # self.window.head()\n",
    "\n",
    "        # Need at least one non-NaN return to forecast\n",
    "        if self.window['return'].count() < 2:\n",
    "            return\n",
    "\n",
    "        # ── 3 ▪ TimeSeriesDataFrame for AG ──────────────────────────\n",
    "        latest_tsd = TimeSeriesDataFrame.from_data_frame(\n",
    "            self.window,\n",
    "            timestamp_column='time',\n",
    "            id_column='id',\n",
    "        )\n",
    "        # latest_tsd.head()\n",
    "        # print(latest_tsd)\n",
    "\n",
    "        # ── 4 ▪ Forecast next-bar return distribution ───────────────\n",
    "        self.fcst = self.model.predict(latest_tsd).iloc[0]\n",
    "\n",
    "\n",
    "    # -----------------------------------------------------------------\n",
    "    # turn forecast + risk estimate into trading instruction\n",
    "    # -----------------------------------------------------------------\n",
    "    def get_signal(self) -> str:\n",
    "        \"\"\"\n",
    "        BUY  :  μ > k·σ  and entire 90 % interval is positive\n",
    "        SELL :  μ < −k·σ and entire 90 % interval is negative\n",
    "        HOLD :  otherwise\n",
    "        \"\"\"\n",
    "\n",
    "        # Need enough history to compute σ -- otherwise stay flat\n",
    "        if len(self.window) < self.lookback:\n",
    "            return \"hold\"\n",
    "\n",
    "        sigma = self.window[\"return\"].std(ddof=1)     # sample std\n",
    "        k_sigma = self.thresh_factor * sigma\n",
    "\n",
    "        mu   = self.fcst[\"0.5\"]   # median / mean\n",
    "        q05  = self.fcst[\"0.05\"]\n",
    "        q95  = self.fcst[\"0.95\"]\n",
    "\n",
    "        print(mu, k_sigma, q05, q95)\n",
    "        call = 'hold'\n",
    "\n",
    "        # --- decision logic ------------------------------------------\n",
    "        if (mu > k_sigma) and (q05 > 0) and not self.has_position:\n",
    "            self.has_position = True\n",
    "            call = \"buy\"\n",
    "\n",
    "        if (mu < -k_sigma) and (q95 < 0) and self.has_position:\n",
    "            self.has_position = False\n",
    "            call = \"sell\"\n",
    "\n",
    "        print(call)\n",
    "        return call"
   ]
  },
  {
   "cell_type": "code",
   "execution_count": 9,
   "metadata": {},
   "outputs": [
    {
     "name": "stderr",
     "output_type": "stream",
     "text": [
      "/Users/jiro/play/nstrade/.venv/lib/python3.12/site-packages/autogluon/timeseries/predictor.py:198: FutureWarning: 'H' is deprecated and will be removed in a future version, please use 'h' instead.\n",
      "  offset = pd.tseries.frequencies.to_offset(self.freq)\n",
      "Frequency '1H' stored as 'h'\n",
      "Beginning AutoGluon training...\n",
      "AutoGluon will save models to '/Users/jiro/play/nstrade/notebooks/AutogluonModels/ag-20250517_112123'\n"
     ]
    },
    {
     "name": "stdout",
     "output_type": "stream",
     "text": [
      "<class 'pandas.core.frame.DataFrame'>\n",
      "Index: 118058 entries, 0 to 118057\n",
      "Data columns (total 5 columns):\n",
      " #   Column  Non-Null Count   Dtype         \n",
      "---  ------  --------------   -----         \n",
      " 0   time    118058 non-null  datetime64[ns]\n",
      " 1   close   118058 non-null  float64       \n",
      " 2   volume  118058 non-null  float64       \n",
      " 3   id      118058 non-null  object        \n",
      " 4   return  118058 non-null  float64       \n",
      "dtypes: datetime64[ns](1), float64(3), object(1)\n",
      "memory usage: 5.4+ MB\n"
     ]
    },
    {
     "name": "stderr",
     "output_type": "stream",
     "text": [
      "=================== System Info ===================\n",
      "AutoGluon Version:  1.3.0\n",
      "Python Version:     3.12.8\n",
      "Operating System:   Darwin\n",
      "Platform Machine:   arm64\n",
      "Platform Version:   Darwin Kernel Version 23.6.0: Thu Mar  6 22:08:50 PST 2025; root:xnu-10063.141.1.704.6~1/RELEASE_ARM64_T8112\n",
      "CPU Count:          8\n",
      "GPU Count:          0\n",
      "Memory Avail:       4.84 GB / 16.00 GB (30.2%)\n",
      "Disk Space Avail:   21.65 GB / 228.27 GB (9.5%)\n",
      "===================================================\n",
      "\n",
      "Fitting with arguments:\n",
      "{'enable_ensemble': True,\n",
      " 'eval_metric': RMSE,\n",
      " 'freq': 'h',\n",
      " 'hyperparameters': 'default',\n",
      " 'known_covariates_names': [],\n",
      " 'num_val_windows': 1,\n",
      " 'prediction_length': 1,\n",
      " 'quantile_levels': [0.05, 0.25, 0.5, 0.75, 0.95],\n",
      " 'random_seed': 123,\n",
      " 'refit_every_n_windows': 1,\n",
      " 'refit_full': False,\n",
      " 'skip_model_selection': False,\n",
      " 'target': 'return',\n",
      " 'verbosity': 4}\n",
      "\n",
      "Provided train_data has 10 rows, 1 time series. Median time series length is 10 (min=10, max=10). \n",
      "\n",
      "Provided data contains following columns:\n",
      "\ttarget: 'return'\n",
      "\tpast_covariates:\n",
      "\t\tcategorical:        []\n",
      "\t\tcontinuous (float): ['close', 'volume']\n",
      "\n",
      "To learn how to fix incorrectly inferred types, please see documentation for TimeSeriesPredictor.fit\n",
      "\n",
      "AutoGluon will gauge predictive performance using evaluation metric: 'RMSE'\n",
      "\tThis metric's sign has been flipped to adhere to being higher_is_better. The metric score can be multiplied by -1 to get the metric value.\n",
      "===================================================\n",
      "\n",
      "Starting training. Start time is 2025-05-17 19:21:25\n",
      "Models that will be trained: ['SeasonalNaive', 'RecursiveTabular', 'DirectTabular', 'NPTS', 'DynamicOptimizedTheta', 'AutoETS', 'ChronosZeroShot[bolt_base]', 'ChronosFineTuned[bolt_small]', 'TemporalFusionTransformer', 'DeepAR', 'PatchTST', 'TiDE']\n",
      "Training timeseries model SeasonalNaive. \n",
      "\tWindow 0\n",
      "Shortening all time series to at most 2500\n",
      "\t\t-0.0020      = Validation score (-RMSE)\n",
      "\t\t0.002   s    = Training runtime\n",
      "\t\t1.137   s    = Prediction runtime\n",
      "\t-0.0020       = Validation score (-RMSE)\n",
      "\t0.01    s     = Training runtime\n",
      "\t1.14    s     = Validation (prediction) runtime\n",
      "Training timeseries model RecursiveTabular. \n",
      "\tWindow 0\n",
      "\tTime series in the dataset are too short for chosen differences [24]. Setting differences to [1].\n",
      "Shortening all series to at most 1000002\n",
      "train_df shape: (7, 47), val_df shape: (1, 47)\n",
      "Verbosity: 2 (Standard Logging)\n",
      "=================== System Info ===================\n",
      "AutoGluon Version:  1.3.0\n",
      "Python Version:     3.12.8\n",
      "Operating System:   Darwin\n",
      "Platform Machine:   arm64\n",
      "Platform Version:   Darwin Kernel Version 23.6.0: Thu Mar  6 22:08:50 PST 2025; root:xnu-10063.141.1.704.6~1/RELEASE_ARM64_T8112\n",
      "CPU Count:          8\n",
      "Memory Avail:       4.72 GB / 16.00 GB (29.5%)\n",
      "Disk Space Avail:   21.64 GB / 228.27 GB (9.5%)\n",
      "===================================================\n",
      "No presets specified! To achieve strong results with AutoGluon, it is recommended to use the available presets. Defaulting to `'medium'`...\n",
      "\tRecommended Presets (For more details refer to https://auto.gluon.ai/stable/tutorials/tabular/tabular-essentials.html#presets):\n",
      "\tpresets='experimental' : New in v1.2: Pre-trained foundation model + parallel fits. The absolute best accuracy without consideration for inference speed. Does not support GPU.\n",
      "\tpresets='best'         : Maximize accuracy. Recommended for most users. Use in competitions and benchmarks.\n",
      "\tpresets='high'         : Strong accuracy with fast inference speed.\n",
      "\tpresets='good'         : Good accuracy with very fast inference speed.\n",
      "\tpresets='medium'       : Fast training time, ideal for initial prototyping.\n",
      "Beginning AutoGluon training ...\n",
      "AutoGluon will save models to \"/Users/jiro/play/nstrade/notebooks/AutogluonModels/ag-20250517_112123/models/RecursiveTabular/W0/tabular_predictor\"\n",
      "Train Data Rows:    7\n",
      "Train Data Columns: 44\n",
      "Tuning Data Rows:    1\n",
      "Tuning Data Columns: 44\n",
      "Label Column:       y\n",
      "Problem Type:       regression\n",
      "Preprocessing data ...\n",
      "Using Feature Generators to preprocess the data ...\n",
      "Fitting AutoMLPipelineFeatureGenerator...\n",
      "\tAvailable Memory:                    4814.33 MB\n",
      "\tTrain Data (Original)  Memory Usage: 0.00 MB (0.0% of available memory)\n",
      "\tInferring data type of each feature based on column values. Set feature_metadata_in to manually specify special dtypes of the features.\n",
      "\tStage 1 Generators:\n",
      "\t\tFitting AsTypeFeatureGenerator...\n",
      "\t\t\tNote: Converting 1 features to boolean dtype as they only contain 2 unique values.\n",
      "\tStage 2 Generators:\n",
      "\t\tFitting FillNaFeatureGenerator...\n",
      "\tStage 3 Generators:\n",
      "\t\tFitting IdentityFeatureGenerator...\n",
      "\tStage 4 Generators:\n",
      "\t\tFitting DropUniqueFeatureGenerator...\n",
      "\tStage 5 Generators:\n",
      "\t\tFitting DropDuplicatesFeatureGenerator...\n",
      "\tUseless Original Features (Count: 36): ['lag23', 'lag24', 'lag25', 'lag47', 'lag48', 'lag49', 'lag71', 'lag72', 'lag73', 'lag95', 'lag96', 'lag97', 'lag119', 'lag120', 'lag121', 'lag143', 'lag144', 'lag145', 'lag167', 'lag168', 'lag169', 'lag335', 'lag336', 'lag337', 'lag503', 'lag504', 'lag505', 'lag671', 'lag672', 'lag673', 'lag719', 'lag720', 'lag721', 'day_of_week', 'day_of_month', 'day_of_year']\n",
      "\t\tThese features carry no predictive signal and should be manually investigated.\n",
      "\t\tThis is typically a feature which has the same value for all rows.\n",
      "\t\tThese features do not need to be present at inference time.\n",
      "\tTypes of features in original data (raw dtype, special dtypes):\n",
      "\t\t('float', []) : 8 | ['lag1', 'lag2', 'lag3', 'lag4', 'lag5', ...]\n",
      "\tTypes of features in processed data (raw dtype, special dtypes):\n",
      "\t\t('float', [])     : 7 | ['lag1', 'lag2', 'lag3', 'lag4', 'lag5', ...]\n",
      "\t\t('int', ['bool']) : 1 | ['lag7']\n",
      "\t0.0s = Fit runtime\n",
      "\t8 features in original data used to generate 8 features in processed data.\n",
      "\tTrain Data (Processed) Memory Usage: 0.00 MB (0.0% of available memory)\n",
      "Data preprocessing and feature engineering runtime = 0.02s ...\n",
      "AutoGluon will gauge predictive performance using evaluation metric: 'root_mean_squared_error'\n",
      "\tThis metric's sign has been flipped to adhere to being higher_is_better. The metric score can be multiplied by -1 to get the metric value.\n",
      "\tTo change this, specify the eval_metric parameter of Predictor()\n",
      "User-specified model hyperparameters to be fit:\n",
      "{\n",
      "\t'GBM': [{}],\n",
      "}\n",
      "Fitting 1 L1 models, fit_strategy=\"sequential\" ...\n",
      "Fitting model: LightGBM ...\n",
      "\t-0.9711999893188477\t = Validation score   (-root_mean_squared_error)\n",
      "\t0.09s\t = Training   runtime\n",
      "\t0.0s\t = Validation runtime\n",
      "Fitting model: WeightedEnsemble_L2 ...\n",
      "\tEnsemble Weights: {'LightGBM': 1.0}\n",
      "\t-0.9711999893188477\t = Validation score   (-root_mean_squared_error)\n",
      "\t0.0s\t = Training   runtime\n",
      "\t0.0s\t = Validation runtime\n",
      "AutoGluon training complete, total runtime = 0.12s ... Best model: WeightedEnsemble_L2 | Estimated inference throughput: 746.7 rows/s (1 batch size)\n",
      "TabularPredictor saved. To load, use: predictor = TabularPredictor.load(\"/Users/jiro/play/nstrade/notebooks/AutogluonModels/ag-20250517_112123/models/RecursiveTabular/W0/tabular_predictor\")\n",
      "Shortening all series to at most 1000002\n",
      "\t\t-0.0004      = Validation score (-RMSE)\n",
      "\t\t0.205   s    = Training runtime\n",
      "\t\t0.015   s    = Prediction runtime\n",
      "\t-0.0004       = Validation score (-RMSE)\n",
      "\t0.21    s     = Training runtime\n",
      "\t0.02    s     = Validation (prediction) runtime\n",
      "Training timeseries model DirectTabular. \n",
      "\tWindow 0\n",
      "Shortening all series to at most 1000001\n",
      "train_df shape: (8, 47), val_df shape: (1, 47)\n",
      "Verbosity: 2 (Standard Logging)\n",
      "=================== System Info ===================\n",
      "AutoGluon Version:  1.3.0\n",
      "Python Version:     3.12.8\n",
      "Operating System:   Darwin\n",
      "Platform Machine:   arm64\n",
      "Platform Version:   Darwin Kernel Version 23.6.0: Thu Mar  6 22:08:50 PST 2025; root:xnu-10063.141.1.704.6~1/RELEASE_ARM64_T8112\n",
      "CPU Count:          8\n",
      "Memory Avail:       4.70 GB / 16.00 GB (29.4%)\n",
      "Disk Space Avail:   21.64 GB / 228.27 GB (9.5%)\n",
      "===================================================\n",
      "No presets specified! To achieve strong results with AutoGluon, it is recommended to use the available presets. Defaulting to `'medium'`...\n",
      "\tRecommended Presets (For more details refer to https://auto.gluon.ai/stable/tutorials/tabular/tabular-essentials.html#presets):\n",
      "\tpresets='experimental' : New in v1.2: Pre-trained foundation model + parallel fits. The absolute best accuracy without consideration for inference speed. Does not support GPU.\n",
      "\tpresets='best'         : Maximize accuracy. Recommended for most users. Use in competitions and benchmarks.\n",
      "\tpresets='high'         : Strong accuracy with fast inference speed.\n",
      "\tpresets='good'         : Good accuracy with very fast inference speed.\n",
      "\tpresets='medium'       : Fast training time, ideal for initial prototyping.\n",
      "Beginning AutoGluon training ...\n",
      "AutoGluon will save models to \"/Users/jiro/play/nstrade/notebooks/AutogluonModels/ag-20250517_112123/models/DirectTabular/W0/tabular_predictor\"\n",
      "Train Data Rows:    8\n",
      "Train Data Columns: 44\n",
      "Tuning Data Rows:    1\n",
      "Tuning Data Columns: 44\n",
      "Label Column:       y\n",
      "Problem Type:       regression\n",
      "Preprocessing data ...\n",
      "Using Feature Generators to preprocess the data ...\n",
      "Fitting AutoMLPipelineFeatureGenerator...\n",
      "\tAvailable Memory:                    4809.75 MB\n",
      "\tTrain Data (Original)  Memory Usage: 0.00 MB (0.0% of available memory)\n",
      "\tInferring data type of each feature based on column values. Set feature_metadata_in to manually specify special dtypes of the features.\n",
      "\tStage 1 Generators:\n",
      "\t\tFitting AsTypeFeatureGenerator...\n",
      "\tStage 2 Generators:\n",
      "\t\tFitting FillNaFeatureGenerator...\n",
      "\tStage 3 Generators:\n",
      "\t\tFitting IdentityFeatureGenerator...\n",
      "\tStage 4 Generators:\n",
      "\t\tFitting DropUniqueFeatureGenerator...\n",
      "\tStage 5 Generators:\n",
      "\t\tFitting DropDuplicatesFeatureGenerator...\n",
      "\tUseless Original Features (Count: 36): ['lag23', 'lag24', 'lag25', 'lag47', 'lag48', 'lag49', 'lag71', 'lag72', 'lag73', 'lag95', 'lag96', 'lag97', 'lag119', 'lag120', 'lag121', 'lag143', 'lag144', 'lag145', 'lag167', 'lag168', 'lag169', 'lag335', 'lag336', 'lag337', 'lag503', 'lag504', 'lag505', 'lag671', 'lag672', 'lag673', 'lag719', 'lag720', 'lag721', 'day_of_week', 'day_of_month', 'day_of_year']\n",
      "\t\tThese features carry no predictive signal and should be manually investigated.\n",
      "\t\tThis is typically a feature which has the same value for all rows.\n",
      "\t\tThese features do not need to be present at inference time.\n",
      "\tTypes of features in original data (raw dtype, special dtypes):\n",
      "\t\t('float', []) : 8 | ['lag1', 'lag2', 'lag3', 'lag4', 'lag5', ...]\n",
      "\tTypes of features in processed data (raw dtype, special dtypes):\n",
      "\t\t('float', []) : 8 | ['lag1', 'lag2', 'lag3', 'lag4', 'lag5', ...]\n",
      "\t0.0s = Fit runtime\n",
      "\t8 features in original data used to generate 8 features in processed data.\n",
      "\tTrain Data (Processed) Memory Usage: 0.00 MB (0.0% of available memory)\n",
      "Data preprocessing and feature engineering runtime = 0.02s ...\n",
      "AutoGluon will gauge predictive performance using evaluation metric: 'root_mean_squared_error'\n",
      "\tThis metric's sign has been flipped to adhere to being higher_is_better. The metric score can be multiplied by -1 to get the metric value.\n",
      "\tTo change this, specify the eval_metric parameter of Predictor()\n",
      "User-specified model hyperparameters to be fit:\n",
      "{\n",
      "\t'GBM': [{}],\n",
      "}\n",
      "Fitting 1 L1 models, fit_strategy=\"sequential\" ...\n",
      "Fitting model: LightGBM ...\n",
      "\t-0.09350000321865082\t = Validation score   (-root_mean_squared_error)\n",
      "\t0.1s\t = Training   runtime\n",
      "\t0.0s\t = Validation runtime\n",
      "Fitting model: WeightedEnsemble_L2 ...\n",
      "\tEnsemble Weights: {'LightGBM': 1.0}\n",
      "\t-0.09350000321865082\t = Validation score   (-root_mean_squared_error)\n",
      "\t0.0s\t = Training   runtime\n",
      "\t0.0s\t = Validation runtime\n",
      "AutoGluon training complete, total runtime = 0.13s ... Best model: WeightedEnsemble_L2 | Estimated inference throughput: 2054.0 rows/s (1 batch size)\n",
      "TabularPredictor saved. To load, use: predictor = TabularPredictor.load(\"/Users/jiro/play/nstrade/notebooks/AutogluonModels/ag-20250517_112123/models/DirectTabular/W0/tabular_predictor\")\n",
      "Shortening all series to at most 1000002\n",
      "Shortening all series to at most 1000001\n",
      "\t\t-0.0011      = Validation score (-RMSE)\n",
      "\t\t0.160   s    = Training runtime\n",
      "\t\t0.022   s    = Prediction runtime\n",
      "\t-0.0011       = Validation score (-RMSE)\n",
      "\t0.16    s     = Training runtime\n",
      "\t0.02    s     = Validation (prediction) runtime\n",
      "Training timeseries model NPTS. \n",
      "\tWindow 0\n",
      "Shortening all time series to at most 2500\n",
      "\t\t-0.0020      = Validation score (-RMSE)\n",
      "\t\t0.001   s    = Training runtime\n",
      "\t\t0.657   s    = Prediction runtime\n",
      "\t-0.0020       = Validation score (-RMSE)\n",
      "\t0.01    s     = Training runtime\n",
      "\t0.66    s     = Validation (prediction) runtime\n",
      "Training timeseries model DynamicOptimizedTheta. \n",
      "\tWindow 0\n",
      "Shortening all time series to at most 2500\n",
      "\t\t-0.0030      = Validation score (-RMSE)\n",
      "\t\t0.002   s    = Training runtime\n",
      "\t\t1.746   s    = Prediction runtime\n",
      "\t-0.0030       = Validation score (-RMSE)\n",
      "\t0.01    s     = Training runtime\n",
      "\t1.75    s     = Validation (prediction) runtime\n",
      "Training timeseries model AutoETS. \n",
      "\tWindow 0\n",
      "Shortening all time series to at most 2500\n",
      "\t\t-0.0012      = Validation score (-RMSE)\n",
      "\t\t0.002   s    = Training runtime\n",
      "\t\t0.344   s    = Prediction runtime\n",
      "\t-0.0012       = Validation score (-RMSE)\n",
      "\t0.01    s     = Training runtime\n",
      "\t0.34    s     = Validation (prediction) runtime\n",
      "Training timeseries model ChronosZeroShot[bolt_base]. \n",
      "\tWindow 0\n",
      "\tWarning: Exception caused ChronosZeroShot[bolt_base] to fail during training... Skipping this model.\n",
      "\tFailed to import transformers.integrations.integration_utils because of the following error (look up to see its traceback):\n",
      "Failed to import transformers.modeling_tf_utils because of the following error (look up to see its traceback):\n",
      "Your currently installed version of Keras is Keras 3, but this is not yet supported in Transformers. Please install the backwards-compatible tf-keras package with `pip install tf-keras`.\n",
      "Traceback (most recent call last):\n",
      "  File \"/Users/jiro/play/nstrade/.venv/lib/python3.12/site-packages/transformers/activations_tf.py\", line 22, in <module>\n",
      "    import tf_keras as keras\n",
      "ModuleNotFoundError: No module named 'tf_keras'\n",
      "\n",
      "During handling of the above exception, another exception occurred:\n",
      "\n",
      "Traceback (most recent call last):\n",
      "  File \"/Users/jiro/play/nstrade/.venv/lib/python3.12/site-packages/transformers/utils/import_utils.py\", line 1863, in _get_module\n",
      "    return importlib.import_module(\".\" + module_name, self.__name__)\n",
      "           ^^^^^^^^^^^^^^^^^^^^^^^^^^^^^^^^^^^^^^^^^^^^^^^^^^^^^^^^^\n",
      "  File \"/Library/Frameworks/Python.framework/Versions/3.12/lib/python3.12/importlib/__init__.py\", line 90, in import_module\n",
      "    return _bootstrap._gcd_import(name[level:], package, level)\n",
      "           ^^^^^^^^^^^^^^^^^^^^^^^^^^^^^^^^^^^^^^^^^^^^^^^^^^^^\n",
      "  File \"<frozen importlib._bootstrap>\", line 1387, in _gcd_import\n",
      "  File \"<frozen importlib._bootstrap>\", line 1360, in _find_and_load\n",
      "  File \"<frozen importlib._bootstrap>\", line 1331, in _find_and_load_unlocked\n",
      "  File \"<frozen importlib._bootstrap>\", line 935, in _load_unlocked\n",
      "  File \"<frozen importlib._bootstrap_external>\", line 999, in exec_module\n",
      "  File \"<frozen importlib._bootstrap>\", line 488, in _call_with_frames_removed\n",
      "  File \"/Users/jiro/play/nstrade/.venv/lib/python3.12/site-packages/transformers/modeling_tf_utils.py\", line 38, in <module>\n",
      "    from .activations_tf import get_tf_activation\n",
      "  File \"/Users/jiro/play/nstrade/.venv/lib/python3.12/site-packages/transformers/activations_tf.py\", line 27, in <module>\n",
      "    raise ValueError(\n",
      "ValueError: Your currently installed version of Keras is Keras 3, but this is not yet supported in Transformers. Please install the backwards-compatible tf-keras package with `pip install tf-keras`.\n",
      "\n",
      "The above exception was the direct cause of the following exception:\n",
      "\n",
      "Traceback (most recent call last):\n",
      "  File \"/Users/jiro/play/nstrade/.venv/lib/python3.12/site-packages/transformers/utils/import_utils.py\", line 1863, in _get_module\n",
      "    return importlib.import_module(\".\" + module_name, self.__name__)\n",
      "           ^^^^^^^^^^^^^^^^^^^^^^^^^^^^^^^^^^^^^^^^^^^^^^^^^^^^^^^^^\n",
      "  File \"/Library/Frameworks/Python.framework/Versions/3.12/lib/python3.12/importlib/__init__.py\", line 90, in import_module\n",
      "    return _bootstrap._gcd_import(name[level:], package, level)\n",
      "           ^^^^^^^^^^^^^^^^^^^^^^^^^^^^^^^^^^^^^^^^^^^^^^^^^^^^\n",
      "  File \"<frozen importlib._bootstrap>\", line 1387, in _gcd_import\n",
      "  File \"<frozen importlib._bootstrap>\", line 1360, in _find_and_load\n",
      "  File \"<frozen importlib._bootstrap>\", line 1331, in _find_and_load_unlocked\n",
      "  File \"<frozen importlib._bootstrap>\", line 935, in _load_unlocked\n",
      "  File \"<frozen importlib._bootstrap_external>\", line 999, in exec_module\n",
      "  File \"<frozen importlib._bootstrap>\", line 488, in _call_with_frames_removed\n",
      "  File \"/Users/jiro/play/nstrade/.venv/lib/python3.12/site-packages/transformers/integrations/integration_utils.py\", line 36, in <module>\n",
      "    from .. import PreTrainedModel, TFPreTrainedModel\n",
      "  File \"<frozen importlib._bootstrap>\", line 1412, in _handle_fromlist\n",
      "  File \"/Users/jiro/play/nstrade/.venv/lib/python3.12/site-packages/transformers/utils/import_utils.py\", line 1851, in __getattr__\n",
      "    module = self._get_module(self._class_to_module[name])\n",
      "             ^^^^^^^^^^^^^^^^^^^^^^^^^^^^^^^^^^^^^^^^^^^^^\n",
      "  File \"/Users/jiro/play/nstrade/.venv/lib/python3.12/site-packages/transformers/utils/import_utils.py\", line 1865, in _get_module\n",
      "    raise RuntimeError(\n",
      "RuntimeError: Failed to import transformers.modeling_tf_utils because of the following error (look up to see its traceback):\n",
      "Your currently installed version of Keras is Keras 3, but this is not yet supported in Transformers. Please install the backwards-compatible tf-keras package with `pip install tf-keras`.\n",
      "\n",
      "The above exception was the direct cause of the following exception:\n",
      "\n",
      "Traceback (most recent call last):\n",
      "  File \"/Users/jiro/play/nstrade/.venv/lib/python3.12/site-packages/autogluon/timeseries/trainer.py\", line 357, in _train_and_save\n",
      "    model = self._train_single(train_data, model, val_data=val_data, time_limit=time_limit)\n",
      "            ^^^^^^^^^^^^^^^^^^^^^^^^^^^^^^^^^^^^^^^^^^^^^^^^^^^^^^^^^^^^^^^^^^^^^^^^^^^^^^^\n",
      "  File \"/Users/jiro/play/nstrade/.venv/lib/python3.12/site-packages/autogluon/timeseries/trainer.py\", line 273, in _train_single\n",
      "    model.fit(\n",
      "  File \"/Users/jiro/play/nstrade/.venv/lib/python3.12/site-packages/autogluon/timeseries/models/abstract/abstract_timeseries_model.py\", line 511, in fit\n",
      "    self._fit(\n",
      "  File \"/Users/jiro/play/nstrade/.venv/lib/python3.12/site-packages/autogluon/timeseries/models/multi_window/multi_window_model.py\", line 137, in _fit\n",
      "    model.fit(\n",
      "  File \"/Users/jiro/play/nstrade/.venv/lib/python3.12/site-packages/autogluon/timeseries/models/abstract/abstract_timeseries_model.py\", line 511, in fit\n",
      "    self._fit(\n",
      "  File \"/Users/jiro/play/nstrade/.venv/lib/python3.12/site-packages/autogluon/timeseries/models/chronos/model.py\", line 422, in _fit\n",
      "    from transformers.trainer import PrinterCallback, Trainer, TrainingArguments\n",
      "  File \"/Users/jiro/play/nstrade/.venv/lib/python3.12/site-packages/transformers/trainer.py\", line 42, in <module>\n",
      "    from .integrations import (\n",
      "  File \"<frozen importlib._bootstrap>\", line 1412, in _handle_fromlist\n",
      "  File \"/Users/jiro/play/nstrade/.venv/lib/python3.12/site-packages/transformers/utils/import_utils.py\", line 1851, in __getattr__\n",
      "    module = self._get_module(self._class_to_module[name])\n",
      "             ^^^^^^^^^^^^^^^^^^^^^^^^^^^^^^^^^^^^^^^^^^^^^\n",
      "  File \"/Users/jiro/play/nstrade/.venv/lib/python3.12/site-packages/transformers/utils/import_utils.py\", line 1865, in _get_module\n",
      "    raise RuntimeError(\n",
      "RuntimeError: Failed to import transformers.integrations.integration_utils because of the following error (look up to see its traceback):\n",
      "Failed to import transformers.modeling_tf_utils because of the following error (look up to see its traceback):\n",
      "Your currently installed version of Keras is Keras 3, but this is not yet supported in Transformers. Please install the backwards-compatible tf-keras package with `pip install tf-keras`.\n",
      "\n",
      "Training timeseries model ChronosFineTuned[bolt_small]. \n",
      "\tWindow 0\n",
      "\tSkipping covariate_regressor since the dataset contains no covariates or static features.\n",
      "\tWarning: Exception caused ChronosFineTuned[bolt_small] to fail during training... Skipping this model.\n",
      "\tFailed to import transformers.integrations.integration_utils because of the following error (look up to see its traceback):\n",
      "Failed to import transformers.modeling_tf_utils because of the following error (look up to see its traceback):\n",
      "Your currently installed version of Keras is Keras 3, but this is not yet supported in Transformers. Please install the backwards-compatible tf-keras package with `pip install tf-keras`.\n",
      "Traceback (most recent call last):\n",
      "  File \"/Users/jiro/play/nstrade/.venv/lib/python3.12/site-packages/transformers/activations_tf.py\", line 22, in <module>\n",
      "    import tf_keras as keras\n",
      "ModuleNotFoundError: No module named 'tf_keras'\n",
      "\n",
      "During handling of the above exception, another exception occurred:\n",
      "\n",
      "Traceback (most recent call last):\n",
      "  File \"/Users/jiro/play/nstrade/.venv/lib/python3.12/site-packages/transformers/utils/import_utils.py\", line 1863, in _get_module\n",
      "    return importlib.import_module(\".\" + module_name, self.__name__)\n",
      "           ^^^^^^^^^^^^^^^^^^^^^^^^^^^^^^^^^^^^^^^^^^^^^^^^^^^^^^^^^\n",
      "  File \"/Library/Frameworks/Python.framework/Versions/3.12/lib/python3.12/importlib/__init__.py\", line 90, in import_module\n",
      "    return _bootstrap._gcd_import(name[level:], package, level)\n",
      "           ^^^^^^^^^^^^^^^^^^^^^^^^^^^^^^^^^^^^^^^^^^^^^^^^^^^^\n",
      "  File \"<frozen importlib._bootstrap>\", line 1387, in _gcd_import\n",
      "  File \"<frozen importlib._bootstrap>\", line 1360, in _find_and_load\n",
      "  File \"<frozen importlib._bootstrap>\", line 1331, in _find_and_load_unlocked\n",
      "  File \"<frozen importlib._bootstrap>\", line 935, in _load_unlocked\n",
      "  File \"<frozen importlib._bootstrap_external>\", line 999, in exec_module\n",
      "  File \"<frozen importlib._bootstrap>\", line 488, in _call_with_frames_removed\n",
      "  File \"/Users/jiro/play/nstrade/.venv/lib/python3.12/site-packages/transformers/modeling_tf_utils.py\", line 38, in <module>\n",
      "    from .activations_tf import get_tf_activation\n",
      "  File \"/Users/jiro/play/nstrade/.venv/lib/python3.12/site-packages/transformers/activations_tf.py\", line 27, in <module>\n",
      "    raise ValueError(\n",
      "ValueError: Your currently installed version of Keras is Keras 3, but this is not yet supported in Transformers. Please install the backwards-compatible tf-keras package with `pip install tf-keras`.\n",
      "\n",
      "The above exception was the direct cause of the following exception:\n",
      "\n",
      "Traceback (most recent call last):\n",
      "  File \"/Users/jiro/play/nstrade/.venv/lib/python3.12/site-packages/transformers/utils/import_utils.py\", line 1863, in _get_module\n",
      "    return importlib.import_module(\".\" + module_name, self.__name__)\n",
      "           ^^^^^^^^^^^^^^^^^^^^^^^^^^^^^^^^^^^^^^^^^^^^^^^^^^^^^^^^^\n",
      "  File \"/Library/Frameworks/Python.framework/Versions/3.12/lib/python3.12/importlib/__init__.py\", line 90, in import_module\n",
      "    return _bootstrap._gcd_import(name[level:], package, level)\n",
      "           ^^^^^^^^^^^^^^^^^^^^^^^^^^^^^^^^^^^^^^^^^^^^^^^^^^^^\n",
      "  File \"<frozen importlib._bootstrap>\", line 1387, in _gcd_import\n",
      "  File \"<frozen importlib._bootstrap>\", line 1360, in _find_and_load\n",
      "  File \"<frozen importlib._bootstrap>\", line 1331, in _find_and_load_unlocked\n",
      "  File \"<frozen importlib._bootstrap>\", line 935, in _load_unlocked\n",
      "  File \"<frozen importlib._bootstrap_external>\", line 999, in exec_module\n",
      "  File \"<frozen importlib._bootstrap>\", line 488, in _call_with_frames_removed\n",
      "  File \"/Users/jiro/play/nstrade/.venv/lib/python3.12/site-packages/transformers/integrations/integration_utils.py\", line 36, in <module>\n",
      "    from .. import PreTrainedModel, TFPreTrainedModel\n",
      "  File \"<frozen importlib._bootstrap>\", line 1412, in _handle_fromlist\n",
      "  File \"/Users/jiro/play/nstrade/.venv/lib/python3.12/site-packages/transformers/utils/import_utils.py\", line 1851, in __getattr__\n",
      "    module = self._get_module(self._class_to_module[name])\n",
      "             ^^^^^^^^^^^^^^^^^^^^^^^^^^^^^^^^^^^^^^^^^^^^^\n",
      "  File \"/Users/jiro/play/nstrade/.venv/lib/python3.12/site-packages/transformers/utils/import_utils.py\", line 1865, in _get_module\n",
      "    raise RuntimeError(\n",
      "RuntimeError: Failed to import transformers.modeling_tf_utils because of the following error (look up to see its traceback):\n",
      "Your currently installed version of Keras is Keras 3, but this is not yet supported in Transformers. Please install the backwards-compatible tf-keras package with `pip install tf-keras`.\n",
      "\n",
      "The above exception was the direct cause of the following exception:\n",
      "\n",
      "Traceback (most recent call last):\n",
      "  File \"/Users/jiro/play/nstrade/.venv/lib/python3.12/site-packages/autogluon/timeseries/trainer.py\", line 357, in _train_and_save\n",
      "    model = self._train_single(train_data, model, val_data=val_data, time_limit=time_limit)\n",
      "            ^^^^^^^^^^^^^^^^^^^^^^^^^^^^^^^^^^^^^^^^^^^^^^^^^^^^^^^^^^^^^^^^^^^^^^^^^^^^^^^\n",
      "  File \"/Users/jiro/play/nstrade/.venv/lib/python3.12/site-packages/autogluon/timeseries/trainer.py\", line 273, in _train_single\n",
      "    model.fit(\n",
      "  File \"/Users/jiro/play/nstrade/.venv/lib/python3.12/site-packages/autogluon/timeseries/models/abstract/abstract_timeseries_model.py\", line 511, in fit\n",
      "    self._fit(\n",
      "  File \"/Users/jiro/play/nstrade/.venv/lib/python3.12/site-packages/autogluon/timeseries/models/multi_window/multi_window_model.py\", line 137, in _fit\n",
      "    model.fit(\n",
      "  File \"/Users/jiro/play/nstrade/.venv/lib/python3.12/site-packages/autogluon/timeseries/models/abstract/abstract_timeseries_model.py\", line 511, in fit\n",
      "    self._fit(\n",
      "  File \"/Users/jiro/play/nstrade/.venv/lib/python3.12/site-packages/autogluon/timeseries/models/chronos/model.py\", line 422, in _fit\n",
      "    from transformers.trainer import PrinterCallback, Trainer, TrainingArguments\n",
      "  File \"/Users/jiro/play/nstrade/.venv/lib/python3.12/site-packages/transformers/trainer.py\", line 42, in <module>\n",
      "    from .integrations import (\n",
      "  File \"<frozen importlib._bootstrap>\", line 1412, in _handle_fromlist\n",
      "  File \"/Users/jiro/play/nstrade/.venv/lib/python3.12/site-packages/transformers/utils/import_utils.py\", line 1851, in __getattr__\n",
      "    module = self._get_module(self._class_to_module[name])\n",
      "             ^^^^^^^^^^^^^^^^^^^^^^^^^^^^^^^^^^^^^^^^^^^^^\n",
      "  File \"/Users/jiro/play/nstrade/.venv/lib/python3.12/site-packages/transformers/utils/import_utils.py\", line 1865, in _get_module\n",
      "    raise RuntimeError(\n",
      "RuntimeError: Failed to import transformers.integrations.integration_utils because of the following error (look up to see its traceback):\n",
      "Failed to import transformers.modeling_tf_utils because of the following error (look up to see its traceback):\n",
      "Your currently installed version of Keras is Keras 3, but this is not yet supported in Transformers. Please install the backwards-compatible tf-keras package with `pip install tf-keras`.\n",
      "\n",
      "Training timeseries model TemporalFusionTransformer. \n",
      "\tWindow 0\n",
      "\tbool_features: [], continuous_features: ['close', 'volume'], skewed_features: []\n",
      "GluonTS logging is turned on during training. Note that losses reported by GluonTS may not correspond to those specified via `eval_metric`.\n",
      "\tTraining on device 'cpu'\n",
      "GPU available: True (mps), used: False\n",
      "TPU available: False, using: 0 TPU cores\n",
      "HPU available: False, using: 0 HPUs\n",
      "\n",
      "  | Name  | Type                           | Params | Mode  | In sizes                                                                           | Out sizes                    \n",
      "--------------------------------------------------------------------------------------------------------------------------------------------------------------------------------------\n",
      "0 | model | TemporalFusionTransformerModel | 126 K  | train | [[1, 64], [1, 64], [1, 1], [1, 1], [1, 65, 4], [1, 65, 0], [1, 64, 2], [1, 64, 0]] | [[[1, 1, 5]], [1, 1], [1, 1]]\n",
      "--------------------------------------------------------------------------------------------------------------------------------------------------------------------------------------\n",
      "126 K     Trainable params\n",
      "0         Non-trainable params\n",
      "126 K     Total params\n",
      "0.507     Total estimated model params size (MB)\n",
      "237       Modules in train mode\n",
      "0         Modules in eval mode\n",
      "Epoch 0, global step 50: 'val_loss' reached 0.00235 (best 0.00235), saving model to '/Users/jiro/play/nstrade/notebooks/AutogluonModels/ag-20250517_112123/models/TemporalFusionTransformer/W0/lightning_logs/version_0/checkpoints/epoch=0-step=50.ckpt' as top 1\n",
      "Epoch 1, global step 100: 'val_loss' reached 0.00223 (best 0.00223), saving model to '/Users/jiro/play/nstrade/notebooks/AutogluonModels/ag-20250517_112123/models/TemporalFusionTransformer/W0/lightning_logs/version_0/checkpoints/epoch=1-step=100.ckpt' as top 1\n",
      "Epoch 2, global step 150: 'val_loss' reached 0.00151 (best 0.00151), saving model to '/Users/jiro/play/nstrade/notebooks/AutogluonModels/ag-20250517_112123/models/TemporalFusionTransformer/W0/lightning_logs/version_0/checkpoints/epoch=2-step=150.ckpt' as top 1\n",
      "Epoch 3, global step 200: 'val_loss' reached 0.00059 (best 0.00059), saving model to '/Users/jiro/play/nstrade/notebooks/AutogluonModels/ag-20250517_112123/models/TemporalFusionTransformer/W0/lightning_logs/version_0/checkpoints/epoch=3-step=200.ckpt' as top 1\n",
      "Epoch 4, global step 250: 'val_loss' reached 0.00043 (best 0.00043), saving model to '/Users/jiro/play/nstrade/notebooks/AutogluonModels/ag-20250517_112123/models/TemporalFusionTransformer/W0/lightning_logs/version_0/checkpoints/epoch=4-step=250.ckpt' as top 1\n",
      "Epoch 5, global step 300: 'val_loss' was not in top 1\n",
      "Epoch 6, global step 350: 'val_loss' was not in top 1\n",
      "Epoch 7, global step 400: 'val_loss' was not in top 1\n",
      "Epoch 8, global step 450: 'val_loss' was not in top 1\n",
      "Epoch 9, global step 500: 'val_loss' was not in top 1\n",
      "Epoch 10, global step 550: 'val_loss' was not in top 1\n",
      "Epoch 11, global step 600: 'val_loss' was not in top 1\n",
      "Epoch 12, global step 650: 'val_loss' was not in top 1\n",
      "Epoch 13, global step 700: 'val_loss' was not in top 1\n",
      "Epoch 14, global step 750: 'val_loss' was not in top 1\n",
      "Epoch 15, global step 800: 'val_loss' was not in top 1\n",
      "Epoch 16, global step 850: 'val_loss' was not in top 1\n",
      "Epoch 17, global step 900: 'val_loss' was not in top 1\n",
      "Epoch 18, global step 950: 'val_loss' was not in top 1\n",
      "Epoch 19, global step 1000: 'val_loss' was not in top 1\n",
      "Epoch 20, global step 1050: 'val_loss' was not in top 1\n",
      "Epoch 21, global step 1100: 'val_loss' was not in top 1\n",
      "Epoch 22, global step 1150: 'val_loss' was not in top 1\n",
      "Epoch 23, global step 1200: 'val_loss' was not in top 1\n",
      "Epoch 24, global step 1250: 'val_loss' was not in top 1\n",
      "Removing lightning_logs directory /Users/jiro/play/nstrade/notebooks/AutogluonModels/ag-20250517_112123/models/TemporalFusionTransformer/W0/lightning_logs\n",
      "\t\t-0.0007      = Validation score (-RMSE)\n",
      "\t\t57.096  s    = Training runtime\n",
      "\t\t0.008   s    = Prediction runtime\n",
      "\t-0.0007       = Validation score (-RMSE)\n",
      "\t57.10   s     = Training runtime\n",
      "\t0.01    s     = Validation (prediction) runtime\n",
      "Training timeseries model DeepAR. \n",
      "\tWindow 0\n",
      "GluonTS logging is turned on during training. Note that losses reported by GluonTS may not correspond to those specified via `eval_metric`.\n",
      "\tTraining on device 'cpu'\n",
      "GPU available: True (mps), used: False\n",
      "TPU available: False, using: 0 TPU cores\n",
      "HPU available: False, using: 0 HPUs\n",
      "\n",
      "  | Name  | Type        | Params | Mode  | In sizes                                                     | Out sizes  \n",
      "---------------------------------------------------------------------------------------------------------------------------\n",
      "0 | model | DeepARModel | 27.6 K | train | [[1, 1], [1, 1], [1, 730, 5], [1, 730], [1, 730], [1, 1, 5]] | [1, 100, 1]\n",
      "---------------------------------------------------------------------------------------------------------------------------\n",
      "27.6 K    Trainable params\n",
      "0         Non-trainable params\n",
      "27.6 K    Total params\n",
      "0.111     Total estimated model params size (MB)\n",
      "11        Modules in train mode\n",
      "0         Modules in eval mode\n",
      "Epoch 0, global step 50: 'val_loss' reached -3.68645 (best -3.68645), saving model to '/Users/jiro/play/nstrade/notebooks/AutogluonModels/ag-20250517_112123/models/DeepAR/W0/lightning_logs/version_0/checkpoints/epoch=0-step=50.ckpt' as top 1\n",
      "Epoch 1, global step 100: 'val_loss' reached -4.89861 (best -4.89861), saving model to '/Users/jiro/play/nstrade/notebooks/AutogluonModels/ag-20250517_112123/models/DeepAR/W0/lightning_logs/version_0/checkpoints/epoch=1-step=100.ckpt' as top 1\n",
      "Epoch 2, global step 150: 'val_loss' reached -5.39061 (best -5.39061), saving model to '/Users/jiro/play/nstrade/notebooks/AutogluonModels/ag-20250517_112123/models/DeepAR/W0/lightning_logs/version_0/checkpoints/epoch=2-step=150.ckpt' as top 1\n",
      "Epoch 3, global step 200: 'val_loss' reached -5.42475 (best -5.42475), saving model to '/Users/jiro/play/nstrade/notebooks/AutogluonModels/ag-20250517_112123/models/DeepAR/W0/lightning_logs/version_0/checkpoints/epoch=3-step=200.ckpt' as top 1\n",
      "Epoch 4, global step 250: 'val_loss' reached -5.65651 (best -5.65651), saving model to '/Users/jiro/play/nstrade/notebooks/AutogluonModels/ag-20250517_112123/models/DeepAR/W0/lightning_logs/version_0/checkpoints/epoch=4-step=250.ckpt' as top 1\n",
      "Epoch 5, global step 300: 'val_loss' was not in top 1\n",
      "Epoch 6, global step 350: 'val_loss' was not in top 1\n",
      "Epoch 7, global step 400: 'val_loss' was not in top 1\n",
      "Epoch 8, global step 450: 'val_loss' was not in top 1\n",
      "Epoch 9, global step 500: 'val_loss' was not in top 1\n",
      "Epoch 10, global step 550: 'val_loss' was not in top 1\n",
      "Epoch 11, global step 600: 'val_loss' was not in top 1\n",
      "Epoch 12, global step 650: 'val_loss' was not in top 1\n",
      "Epoch 13, global step 700: 'val_loss' was not in top 1\n",
      "Epoch 14, global step 750: 'val_loss' was not in top 1\n",
      "Epoch 15, global step 800: 'val_loss' was not in top 1\n",
      "Epoch 16, global step 850: 'val_loss' was not in top 1\n",
      "Epoch 17, global step 900: 'val_loss' was not in top 1\n",
      "Epoch 18, global step 950: 'val_loss' was not in top 1\n",
      "Epoch 19, global step 1000: 'val_loss' was not in top 1\n",
      "Epoch 20, global step 1050: 'val_loss' was not in top 1\n",
      "Epoch 21, global step 1100: 'val_loss' was not in top 1\n",
      "Epoch 22, global step 1150: 'val_loss' was not in top 1\n",
      "Epoch 23, global step 1200: 'val_loss' was not in top 1\n",
      "Epoch 24, global step 1250: 'val_loss' was not in top 1\n",
      "Removing lightning_logs directory /Users/jiro/play/nstrade/notebooks/AutogluonModels/ag-20250517_112123/models/DeepAR/W0/lightning_logs\n",
      "\t\t-0.0070      = Validation score (-RMSE)\n",
      "\t\t10.949  s    = Training runtime\n",
      "\t\t0.007   s    = Prediction runtime\n",
      "\t-0.0070       = Validation score (-RMSE)\n",
      "\t10.95   s     = Training runtime\n",
      "\t0.01    s     = Validation (prediction) runtime\n",
      "Training timeseries model PatchTST. \n",
      "\tWindow 0\n",
      "GluonTS logging is turned on during training. Note that losses reported by GluonTS may not correspond to those specified via `eval_metric`.\n",
      "\tTraining on device 'cpu'\n",
      "GPU available: True (mps), used: False\n",
      "TPU available: False, using: 0 TPU cores\n",
      "HPU available: False, using: 0 HPUs\n",
      "\n",
      "  | Name  | Type          | Params | Mode \n",
      "------------------------------------------------\n",
      "0 | model | PatchTSTModel | 38.9 K | train\n",
      "------------------------------------------------\n",
      "38.5 K    Trainable params\n",
      "384       Non-trainable params\n",
      "38.9 K    Total params\n",
      "0.156     Total estimated model params size (MB)\n",
      "34        Modules in train mode\n",
      "0         Modules in eval mode\n",
      "Epoch 0, global step 50: 'val_loss' reached -3.87427 (best -3.87427), saving model to '/Users/jiro/play/nstrade/notebooks/AutogluonModels/ag-20250517_112123/models/PatchTST/W0/lightning_logs/version_0/checkpoints/epoch=0-step=50.ckpt' as top 1\n",
      "Epoch 1, global step 100: 'val_loss' reached -4.02789 (best -4.02789), saving model to '/Users/jiro/play/nstrade/notebooks/AutogluonModels/ag-20250517_112123/models/PatchTST/W0/lightning_logs/version_0/checkpoints/epoch=1-step=100.ckpt' as top 1\n",
      "Epoch 2, global step 150: 'val_loss' reached -4.50713 (best -4.50713), saving model to '/Users/jiro/play/nstrade/notebooks/AutogluonModels/ag-20250517_112123/models/PatchTST/W0/lightning_logs/version_0/checkpoints/epoch=2-step=150.ckpt' as top 1\n",
      "Epoch 3, global step 200: 'val_loss' was not in top 1\n",
      "Epoch 4, global step 250: 'val_loss' was not in top 1\n",
      "Epoch 5, global step 300: 'val_loss' was not in top 1\n",
      "Epoch 6, global step 350: 'val_loss' reached -5.30893 (best -5.30893), saving model to '/Users/jiro/play/nstrade/notebooks/AutogluonModels/ag-20250517_112123/models/PatchTST/W0/lightning_logs/version_0/checkpoints/epoch=6-step=350.ckpt' as top 1\n",
      "Epoch 7, global step 400: 'val_loss' reached -5.39013 (best -5.39013), saving model to '/Users/jiro/play/nstrade/notebooks/AutogluonModels/ag-20250517_112123/models/PatchTST/W0/lightning_logs/version_0/checkpoints/epoch=7-step=400.ckpt' as top 1\n",
      "Epoch 8, global step 450: 'val_loss' was not in top 1\n",
      "Epoch 9, global step 500: 'val_loss' reached -5.49959 (best -5.49959), saving model to '/Users/jiro/play/nstrade/notebooks/AutogluonModels/ag-20250517_112123/models/PatchTST/W0/lightning_logs/version_0/checkpoints/epoch=9-step=500.ckpt' as top 1\n",
      "Epoch 10, global step 550: 'val_loss' was not in top 1\n",
      "Epoch 11, global step 600: 'val_loss' was not in top 1\n",
      "Epoch 12, global step 650: 'val_loss' was not in top 1\n",
      "Epoch 13, global step 700: 'val_loss' reached -5.61342 (best -5.61342), saving model to '/Users/jiro/play/nstrade/notebooks/AutogluonModels/ag-20250517_112123/models/PatchTST/W0/lightning_logs/version_0/checkpoints/epoch=13-step=700.ckpt' as top 1\n",
      "Epoch 14, global step 750: 'val_loss' was not in top 1\n",
      "Epoch 15, global step 800: 'val_loss' was not in top 1\n",
      "Epoch 16, global step 850: 'val_loss' was not in top 1\n",
      "Epoch 17, global step 900: 'val_loss' was not in top 1\n",
      "Epoch 18, global step 950: 'val_loss' was not in top 1\n",
      "Epoch 19, global step 1000: 'val_loss' was not in top 1\n",
      "Epoch 20, global step 1050: 'val_loss' was not in top 1\n",
      "Epoch 21, global step 1100: 'val_loss' was not in top 1\n",
      "Epoch 22, global step 1150: 'val_loss' was not in top 1\n",
      "Epoch 23, global step 1200: 'val_loss' was not in top 1\n",
      "Epoch 24, global step 1250: 'val_loss' was not in top 1\n",
      "Epoch 25, global step 1300: 'val_loss' was not in top 1\n",
      "Epoch 26, global step 1350: 'val_loss' was not in top 1\n",
      "Epoch 27, global step 1400: 'val_loss' was not in top 1\n",
      "Epoch 28, global step 1450: 'val_loss' was not in top 1\n",
      "Epoch 29, global step 1500: 'val_loss' was not in top 1\n",
      "Epoch 30, global step 1550: 'val_loss' was not in top 1\n",
      "Epoch 31, global step 1600: 'val_loss' was not in top 1\n",
      "Epoch 32, global step 1650: 'val_loss' was not in top 1\n",
      "Epoch 33, global step 1700: 'val_loss' was not in top 1\n",
      "Removing lightning_logs directory /Users/jiro/play/nstrade/notebooks/AutogluonModels/ag-20250517_112123/models/PatchTST/W0/lightning_logs\n",
      "\t\t-0.0006      = Validation score (-RMSE)\n",
      "\t\t21.350  s    = Training runtime\n",
      "\t\t0.007   s    = Prediction runtime\n",
      "\t-0.0006       = Validation score (-RMSE)\n",
      "\t21.36   s     = Training runtime\n",
      "\t0.01    s     = Validation (prediction) runtime\n",
      "Training timeseries model TiDE. \n",
      "\tWindow 0\n",
      "GluonTS logging is turned on during training. Note that losses reported by GluonTS may not correspond to those specified via `eval_metric`.\n",
      "\tTraining on device 'cpu'\n",
      "GPU available: True (mps), used: False\n",
      "TPU available: False, using: 0 TPU cores\n",
      "HPU available: False, using: 0 HPUs\n",
      "\n",
      "  | Name  | Type      | Params | Mode \n",
      "--------------------------------------------\n",
      "0 | model | TiDEModel | 655 K  | train\n",
      "--------------------------------------------\n",
      "655 K     Trainable params\n",
      "0         Non-trainable params\n",
      "655 K     Total params\n",
      "2.623     Total estimated model params size (MB)\n",
      "65        Modules in train mode\n",
      "0         Modules in eval mode\n",
      "Epoch 0, global step 100: 'val_loss' reached 0.52636 (best 0.52636), saving model to '/Users/jiro/play/nstrade/notebooks/AutogluonModels/ag-20250517_112123/models/TiDE/W0/lightning_logs/version_0/checkpoints/epoch=0-step=100.ckpt' as top 1\n",
      "Epoch 1, global step 200: 'val_loss' was not in top 1\n",
      "Epoch 2, global step 300: 'val_loss' was not in top 1\n",
      "Epoch 3, global step 400: 'val_loss' was not in top 1\n",
      "Epoch 4, global step 500: 'val_loss' was not in top 1\n",
      "Epoch 5, global step 600: 'val_loss' was not in top 1\n",
      "Epoch 6, global step 700: 'val_loss' was not in top 1\n",
      "Epoch 7, global step 800: 'val_loss' was not in top 1\n",
      "Epoch 8, global step 900: 'val_loss' was not in top 1\n",
      "Epoch 9, global step 1000: 'val_loss' was not in top 1\n",
      "Epoch 10, global step 1100: 'val_loss' was not in top 1\n",
      "Epoch 11, global step 1200: 'val_loss' was not in top 1\n",
      "Epoch 12, global step 1300: 'val_loss' was not in top 1\n",
      "Epoch 13, global step 1400: 'val_loss' was not in top 1\n",
      "Epoch 14, global step 1500: 'val_loss' was not in top 1\n",
      "Epoch 15, global step 1600: 'val_loss' was not in top 1\n",
      "Epoch 16, global step 1700: 'val_loss' was not in top 1\n",
      "Epoch 17, global step 1800: 'val_loss' was not in top 1\n",
      "Epoch 18, global step 1900: 'val_loss' was not in top 1\n",
      "Epoch 19, global step 2000: 'val_loss' was not in top 1\n",
      "Epoch 20, global step 2100: 'val_loss' was not in top 1\n",
      "Removing lightning_logs directory /Users/jiro/play/nstrade/notebooks/AutogluonModels/ag-20250517_112123/models/TiDE/W0/lightning_logs\n",
      "\t\t-0.0041      = Validation score (-RMSE)\n",
      "\t\t46.588  s    = Training runtime\n",
      "\t\t0.005   s    = Prediction runtime\n",
      "\t-0.0041       = Validation score (-RMSE)\n",
      "\t46.59   s     = Training runtime\n",
      "\t0.01    s     = Validation (prediction) runtime\n",
      "Fitting simple weighted ensemble.\n",
      "\tEnsemble weights: {'AutoETS': np.float64(0.14), 'DynamicOptimizedTheta': np.float64(0.17), 'RecursiveTabular': np.float64(0.66), 'SeasonalNaive': np.float64(0.03)}\n",
      "/Users/jiro/play/nstrade/.venv/lib/python3.12/site-packages/autogluon/timeseries/metrics/abstract.py:101: FutureWarning: Passing `prediction_length` to `TimeSeriesScorer.__call__` is deprecated and will be removed in v2.0. Please set the `eval_metric.prediction_length` attribute instead.\n",
      "  warnings.warn(\n",
      "\t-0.0000       = Validation score (-RMSE)\n",
      "\t0.10    s     = Training runtime\n",
      "\t3.24    s     = Validation (prediction) runtime\n",
      "Training complete. Models trained: ['SeasonalNaive', 'RecursiveTabular', 'DirectTabular', 'NPTS', 'DynamicOptimizedTheta', 'AutoETS', 'TemporalFusionTransformer', 'DeepAR', 'PatchTST', 'TiDE', 'WeightedEnsemble']\n",
      "Total runtime: 153.57 s\n",
      "Best model: WeightedEnsemble\n",
      "Best model score: -0.0000\n"
     ]
    },
    {
     "data": {
      "text/html": [
       "<div>\n",
       "<style scoped>\n",
       "    .dataframe tbody tr th:only-of-type {\n",
       "        vertical-align: middle;\n",
       "    }\n",
       "\n",
       "    .dataframe tbody tr th {\n",
       "        vertical-align: top;\n",
       "    }\n",
       "\n",
       "    .dataframe thead th {\n",
       "        text-align: right;\n",
       "    }\n",
       "</style>\n",
       "<table border=\"1\" class=\"dataframe\">\n",
       "  <thead>\n",
       "    <tr style=\"text-align: right;\">\n",
       "      <th></th>\n",
       "      <th>time</th>\n",
       "      <th>close</th>\n",
       "      <th>volume</th>\n",
       "      <th>id</th>\n",
       "      <th>return</th>\n",
       "    </tr>\n",
       "  </thead>\n",
       "  <tbody>\n",
       "    <tr>\n",
       "      <th>0</th>\n",
       "      <td>2011-11-28 00:00:00</td>\n",
       "      <td>2.497</td>\n",
       "      <td>8571.74</td>\n",
       "      <td>BTC</td>\n",
       "      <td>0.000400</td>\n",
       "    </tr>\n",
       "    <tr>\n",
       "      <th>1</th>\n",
       "      <td>2011-11-28 01:00:00</td>\n",
       "      <td>2.498</td>\n",
       "      <td>1698.15</td>\n",
       "      <td>BTC</td>\n",
       "      <td>-0.004404</td>\n",
       "    </tr>\n",
       "    <tr>\n",
       "      <th>2</th>\n",
       "      <td>2011-11-28 02:00:00</td>\n",
       "      <td>2.487</td>\n",
       "      <td>1559.13</td>\n",
       "      <td>BTC</td>\n",
       "      <td>-0.018094</td>\n",
       "    </tr>\n",
       "    <tr>\n",
       "      <th>3</th>\n",
       "      <td>2011-11-28 03:00:00</td>\n",
       "      <td>2.442</td>\n",
       "      <td>6519.05</td>\n",
       "      <td>BTC</td>\n",
       "      <td>0.008190</td>\n",
       "    </tr>\n",
       "    <tr>\n",
       "      <th>4</th>\n",
       "      <td>2011-11-28 04:00:00</td>\n",
       "      <td>2.462</td>\n",
       "      <td>10667.19</td>\n",
       "      <td>BTC</td>\n",
       "      <td>0.000812</td>\n",
       "    </tr>\n",
       "  </tbody>\n",
       "</table>\n",
       "</div>"
      ],
      "text/plain": [
       "                 time  close    volume   id    return\n",
       "0 2011-11-28 00:00:00  2.497   8571.74  BTC  0.000400\n",
       "1 2011-11-28 01:00:00  2.498   1698.15  BTC -0.004404\n",
       "2 2011-11-28 02:00:00  2.487   1559.13  BTC -0.018094\n",
       "3 2011-11-28 03:00:00  2.442   6519.05  BTC  0.008190\n",
       "4 2011-11-28 04:00:00  2.462  10667.19  BTC  0.000812"
      ]
     },
     "execution_count": 9,
     "metadata": {},
     "output_type": "execute_result"
    }
   ],
   "source": [
    "df = process_data_for_model('../data/btc_hour.csv')\n",
    "training_df = df.copy().head(20)\n",
    "test_df = df.copy().tail(1000)\n",
    "\n",
    "strategy = AutoMLStrategy(initial_capital=10000, df=training_df, lookback=1000)\n",
    "\n",
    "training_df.head()"
   ]
  },
  {
   "cell_type": "code",
   "execution_count": 96,
   "metadata": {},
   "outputs": [
    {
     "data": {
      "text/html": [
       "<div>\n",
       "<style scoped>\n",
       "    .dataframe tbody tr th:only-of-type {\n",
       "        vertical-align: middle;\n",
       "    }\n",
       "\n",
       "    .dataframe tbody tr th {\n",
       "        vertical-align: top;\n",
       "    }\n",
       "\n",
       "    .dataframe thead th {\n",
       "        text-align: right;\n",
       "    }\n",
       "</style>\n",
       "<table border=\"1\" class=\"dataframe\">\n",
       "  <thead>\n",
       "    <tr style=\"text-align: right;\">\n",
       "      <th></th>\n",
       "      <th>time</th>\n",
       "      <th>close</th>\n",
       "      <th>volume</th>\n",
       "      <th>id</th>\n",
       "      <th>return</th>\n",
       "    </tr>\n",
       "  </thead>\n",
       "  <tbody>\n",
       "    <tr>\n",
       "      <th>0</th>\n",
       "      <td>2024-03-26 12:00:00</td>\n",
       "      <td>71113.61</td>\n",
       "      <td>8.020626e+07</td>\n",
       "      <td>BTC</td>\n",
       "      <td>0.005855</td>\n",
       "    </tr>\n",
       "    <tr>\n",
       "      <th>1</th>\n",
       "      <td>2024-03-26 13:00:00</td>\n",
       "      <td>70402.66</td>\n",
       "      <td>1.554150e+08</td>\n",
       "      <td>BTC</td>\n",
       "      <td>-0.009997</td>\n",
       "    </tr>\n",
       "    <tr>\n",
       "      <th>2</th>\n",
       "      <td>2024-03-26 14:00:00</td>\n",
       "      <td>70321.85</td>\n",
       "      <td>3.032331e+08</td>\n",
       "      <td>BTC</td>\n",
       "      <td>-0.001148</td>\n",
       "    </tr>\n",
       "    <tr>\n",
       "      <th>3</th>\n",
       "      <td>2024-03-26 15:00:00</td>\n",
       "      <td>70270.72</td>\n",
       "      <td>1.173906e+08</td>\n",
       "      <td>BTC</td>\n",
       "      <td>-0.000727</td>\n",
       "    </tr>\n",
       "    <tr>\n",
       "      <th>4</th>\n",
       "      <td>2024-03-26 16:00:00</td>\n",
       "      <td>69758.08</td>\n",
       "      <td>1.291990e+08</td>\n",
       "      <td>BTC</td>\n",
       "      <td>-0.007295</td>\n",
       "    </tr>\n",
       "  </tbody>\n",
       "</table>\n",
       "</div>"
      ],
      "text/plain": [
       "                 time     close        volume   id    return\n",
       "0 2024-03-26 12:00:00  71113.61  8.020626e+07  BTC  0.005855\n",
       "1 2024-03-26 13:00:00  70402.66  1.554150e+08  BTC -0.009997\n",
       "2 2024-03-26 14:00:00  70321.85  3.032331e+08  BTC -0.001148\n",
       "3 2024-03-26 15:00:00  70270.72  1.173906e+08  BTC -0.000727\n",
       "4 2024-03-26 16:00:00  69758.08  1.291990e+08  BTC -0.007295"
      ]
     },
     "execution_count": 96,
     "metadata": {},
     "output_type": "execute_result"
    }
   ],
   "source": [
    "strategy.window.head()"
   ]
  },
  {
   "cell_type": "code",
   "execution_count": 99,
   "metadata": {},
   "outputs": [
    {
     "name": "stdout",
     "output_type": "stream",
     "text": [
      "time      datetime64[ns]\n",
      "close            float64\n",
      "volume           float64\n",
      "id                object\n",
      "return           float64\n",
      "dtype: object\n",
      "                 time     close        volume   id    return\n",
      "0 2024-03-26 13:00:00  70402.66  1.554150e+08  BTC -0.009997\n",
      "1 2024-03-26 14:00:00  70321.85  3.032331e+08  BTC -0.001148\n",
      "2 2024-03-26 15:00:00  70270.72  1.173906e+08  BTC -0.000727\n",
      "3 2024-03-26 16:00:00  69758.08  1.291990e+08  BTC -0.007295\n",
      "4 2024-03-26 17:00:00  70078.50  1.108090e+08  BTC  0.004593\n"
     ]
    }
   ],
   "source": [
    "print(strategy.window.dtypes)\n",
    "print(strategy.window.head())"
   ]
  },
  {
   "cell_type": "code",
   "execution_count": null,
   "metadata": {},
   "outputs": [
    {
     "name": "stderr",
     "output_type": "stream",
     "text": [
      "Model not specified in predict, will default to the model with the best validation score: WeightedEnsemble\n",
      "Prediction order: ['RecursiveTabular', 'DynamicOptimizedTheta', 'AutoETS', 'SeasonalNaive', 'WeightedEnsemble']\n",
      "Shortening all series to at most 1000002\n",
      "Shortening all time series to at most 2500\n"
     ]
    },
    {
     "name": "stdout",
     "output_type": "stream",
     "text": [
      "<class 'pandas.core.frame.DataFrame'>\n",
      "Index: 1000 entries, 117058 to 118057\n",
      "Data columns (total 5 columns):\n",
      " #   Column  Non-Null Count  Dtype         \n",
      "---  ------  --------------  -----         \n",
      " 0   time    1000 non-null   datetime64[ns]\n",
      " 1   close   1000 non-null   float64       \n",
      " 2   volume  1000 non-null   float64       \n",
      " 3   id      1000 non-null   object        \n",
      " 4   return  1000 non-null   float64       \n",
      "dtypes: datetime64[ns](1), float64(3), object(1)\n",
      "memory usage: 46.9+ KB\n",
      "hold\n",
      "hold\n"
     ]
    },
    {
     "name": "stderr",
     "output_type": "stream",
     "text": [
      "\tWarning: DynamicOptimizedTheta/W0 failed for 1 time series (100.0%). Fallback model SeasonalNaive was used for these time series.\n",
      "Shortening all time series to at most 2500\n",
      "\tWarning: AutoETS/W0 failed for 1 time series (100.0%). Fallback model SeasonalNaive was used for these time series.\n",
      "Shortening all time series to at most 2500\n",
      "Cached predictions saved to /Users/jiro/play/nstrade/notebooks/AutogluonModels/ag-20250517_112123/models/cached_predictions.pkl\n",
      "Model not specified in predict, will default to the model with the best validation score: WeightedEnsemble\n",
      "Prediction order: ['RecursiveTabular', 'DynamicOptimizedTheta', 'AutoETS', 'SeasonalNaive', 'WeightedEnsemble']\n",
      "Shortening all series to at most 1000002\n",
      "Shortening all time series to at most 2500\n",
      "\tWarning: DynamicOptimizedTheta/W0 failed for 1 time series (100.0%). Fallback model SeasonalNaive was used for these time series.\n",
      "Shortening all time series to at most 2500\n",
      "\tWarning: AutoETS/W0 failed for 1 time series (100.0%). Fallback model SeasonalNaive was used for these time series.\n",
      "Shortening all time series to at most 2500\n",
      "Cached predictions saved to /Users/jiro/play/nstrade/notebooks/AutogluonModels/ag-20250517_112123/models/cached_predictions.pkl\n",
      "Model not specified in predict, will default to the model with the best validation score: WeightedEnsemble\n",
      "Prediction order: ['RecursiveTabular', 'DynamicOptimizedTheta', 'AutoETS', 'SeasonalNaive', 'WeightedEnsemble']\n",
      "Shortening all series to at most 1000002\n",
      "Shortening all time series to at most 2500\n",
      "Shortening all time series to at most 2500\n",
      "\tWarning: AutoETS/W0 failed for 1 time series (100.0%). Fallback model SeasonalNaive was used for these time series.\n",
      "Shortening all time series to at most 2500\n",
      "Cached predictions saved to /Users/jiro/play/nstrade/notebooks/AutogluonModels/ag-20250517_112123/models/cached_predictions.pkl\n",
      "Model not specified in predict, will default to the model with the best validation score: WeightedEnsemble\n",
      "Prediction order: ['RecursiveTabular', 'DynamicOptimizedTheta', 'AutoETS', 'SeasonalNaive', 'WeightedEnsemble']\n",
      "Shortening all series to at most 1000002\n",
      "Shortening all time series to at most 2500\n",
      "Shortening all time series to at most 2500\n",
      "\tWarning: AutoETS/W0 failed for 1 time series (100.0%). Fallback model SeasonalNaive was used for these time series.\n",
      "Shortening all time series to at most 2500\n"
     ]
    },
    {
     "name": "stdout",
     "output_type": "stream",
     "text": [
      "hold\n",
      "hold\n",
      "hold\n"
     ]
    },
    {
     "name": "stderr",
     "output_type": "stream",
     "text": [
      "Cached predictions saved to /Users/jiro/play/nstrade/notebooks/AutogluonModels/ag-20250517_112123/models/cached_predictions.pkl\n",
      "Model not specified in predict, will default to the model with the best validation score: WeightedEnsemble\n",
      "Prediction order: ['RecursiveTabular', 'DynamicOptimizedTheta', 'AutoETS', 'SeasonalNaive', 'WeightedEnsemble']\n",
      "Shortening all series to at most 1000002\n",
      "Shortening all time series to at most 2500\n",
      "Shortening all time series to at most 2500\n",
      "Shortening all time series to at most 2500\n",
      "Cached predictions saved to /Users/jiro/play/nstrade/notebooks/AutogluonModels/ag-20250517_112123/models/cached_predictions.pkl\n",
      "Model not specified in predict, will default to the model with the best validation score: WeightedEnsemble\n",
      "Prediction order: ['RecursiveTabular', 'DynamicOptimizedTheta', 'AutoETS', 'SeasonalNaive', 'WeightedEnsemble']\n",
      "Shortening all series to at most 1000002\n",
      "Shortening all time series to at most 2500\n",
      "Shortening all time series to at most 2500\n",
      "Shortening all time series to at most 2500\n",
      "Cached predictions saved to /Users/jiro/play/nstrade/notebooks/AutogluonModels/ag-20250517_112123/models/cached_predictions.pkl\n",
      "Model not specified in predict, will default to the model with the best validation score: WeightedEnsemble\n",
      "Prediction order: ['RecursiveTabular', 'DynamicOptimizedTheta', 'AutoETS', 'SeasonalNaive', 'WeightedEnsemble']\n",
      "Shortening all series to at most 1000002\n",
      "Shortening all time series to at most 2500\n",
      "Shortening all time series to at most 2500\n"
     ]
    },
    {
     "name": "stdout",
     "output_type": "stream",
     "text": [
      "hold\n",
      "hold\n",
      "hold\n"
     ]
    },
    {
     "name": "stderr",
     "output_type": "stream",
     "text": [
      "Shortening all time series to at most 2500\n",
      "Cached predictions saved to /Users/jiro/play/nstrade/notebooks/AutogluonModels/ag-20250517_112123/models/cached_predictions.pkl\n",
      "Model not specified in predict, will default to the model with the best validation score: WeightedEnsemble\n",
      "Prediction order: ['RecursiveTabular', 'DynamicOptimizedTheta', 'AutoETS', 'SeasonalNaive', 'WeightedEnsemble']\n",
      "Shortening all series to at most 1000002\n",
      "Shortening all time series to at most 2500\n",
      "Shortening all time series to at most 2500\n",
      "Shortening all time series to at most 2500\n",
      "Cached predictions saved to /Users/jiro/play/nstrade/notebooks/AutogluonModels/ag-20250517_112123/models/cached_predictions.pkl\n",
      "Model not specified in predict, will default to the model with the best validation score: WeightedEnsemble\n",
      "Prediction order: ['RecursiveTabular', 'DynamicOptimizedTheta', 'AutoETS', 'SeasonalNaive', 'WeightedEnsemble']\n",
      "Shortening all series to at most 1000002\n",
      "Shortening all time series to at most 2500\n",
      "Shortening all time series to at most 2500\n",
      "Shortening all time series to at most 2500\n",
      "Cached predictions saved to /Users/jiro/play/nstrade/notebooks/AutogluonModels/ag-20250517_112123/models/cached_predictions.pkl\n",
      "Model not specified in predict, will default to the model with the best validation score: WeightedEnsemble\n",
      "Prediction order: ['RecursiveTabular', 'DynamicOptimizedTheta', 'AutoETS', 'SeasonalNaive', 'WeightedEnsemble']\n",
      "Shortening all series to at most 1000002\n",
      "Shortening all time series to at most 2500\n",
      "Shortening all time series to at most 2500\n"
     ]
    },
    {
     "name": "stdout",
     "output_type": "stream",
     "text": [
      "hold\n",
      "hold\n",
      "hold\n"
     ]
    },
    {
     "name": "stderr",
     "output_type": "stream",
     "text": [
      "Shortening all time series to at most 2500\n",
      "Cached predictions saved to /Users/jiro/play/nstrade/notebooks/AutogluonModels/ag-20250517_112123/models/cached_predictions.pkl\n",
      "Model not specified in predict, will default to the model with the best validation score: WeightedEnsemble\n",
      "Prediction order: ['RecursiveTabular', 'DynamicOptimizedTheta', 'AutoETS', 'SeasonalNaive', 'WeightedEnsemble']\n",
      "Shortening all series to at most 1000002\n",
      "Shortening all time series to at most 2500\n",
      "Shortening all time series to at most 2500\n",
      "Shortening all time series to at most 2500\n",
      "Cached predictions saved to /Users/jiro/play/nstrade/notebooks/AutogluonModels/ag-20250517_112123/models/cached_predictions.pkl\n",
      "Model not specified in predict, will default to the model with the best validation score: WeightedEnsemble\n",
      "Prediction order: ['RecursiveTabular', 'DynamicOptimizedTheta', 'AutoETS', 'SeasonalNaive', 'WeightedEnsemble']\n",
      "Shortening all series to at most 1000002\n",
      "Shortening all time series to at most 2500\n",
      "Shortening all time series to at most 2500\n",
      "Shortening all time series to at most 2500\n",
      "Cached predictions saved to /Users/jiro/play/nstrade/notebooks/AutogluonModels/ag-20250517_112123/models/cached_predictions.pkl\n",
      "Model not specified in predict, will default to the model with the best validation score: WeightedEnsemble\n",
      "Prediction order: ['RecursiveTabular', 'DynamicOptimizedTheta', 'AutoETS', 'SeasonalNaive', 'WeightedEnsemble']\n",
      "Shortening all series to at most 1000002\n",
      "Shortening all time series to at most 2500\n",
      "Shortening all time series to at most 2500\n"
     ]
    },
    {
     "name": "stdout",
     "output_type": "stream",
     "text": [
      "hold\n",
      "hold\n",
      "hold\n"
     ]
    },
    {
     "name": "stderr",
     "output_type": "stream",
     "text": [
      "Shortening all time series to at most 2500\n",
      "Cached predictions saved to /Users/jiro/play/nstrade/notebooks/AutogluonModels/ag-20250517_112123/models/cached_predictions.pkl\n",
      "Model not specified in predict, will default to the model with the best validation score: WeightedEnsemble\n",
      "Prediction order: ['RecursiveTabular', 'DynamicOptimizedTheta', 'AutoETS', 'SeasonalNaive', 'WeightedEnsemble']\n",
      "Shortening all series to at most 1000002\n",
      "Shortening all time series to at most 2500\n",
      "Shortening all time series to at most 2500\n",
      "Shortening all time series to at most 2500\n",
      "Cached predictions saved to /Users/jiro/play/nstrade/notebooks/AutogluonModels/ag-20250517_112123/models/cached_predictions.pkl\n",
      "Model not specified in predict, will default to the model with the best validation score: WeightedEnsemble\n",
      "Prediction order: ['RecursiveTabular', 'DynamicOptimizedTheta', 'AutoETS', 'SeasonalNaive', 'WeightedEnsemble']\n",
      "Shortening all series to at most 1000002\n",
      "Shortening all time series to at most 2500\n",
      "Shortening all time series to at most 2500\n",
      "Shortening all time series to at most 2500\n",
      "Cached predictions saved to /Users/jiro/play/nstrade/notebooks/AutogluonModels/ag-20250517_112123/models/cached_predictions.pkl\n",
      "Model not specified in predict, will default to the model with the best validation score: WeightedEnsemble\n",
      "Prediction order: ['RecursiveTabular', 'DynamicOptimizedTheta', 'AutoETS', 'SeasonalNaive', 'WeightedEnsemble']\n",
      "Shortening all series to at most 1000002\n",
      "Shortening all time series to at most 2500\n"
     ]
    },
    {
     "name": "stdout",
     "output_type": "stream",
     "text": [
      "hold\n",
      "hold\n",
      "hold\n"
     ]
    },
    {
     "name": "stderr",
     "output_type": "stream",
     "text": [
      "Shortening all time series to at most 2500\n",
      "Shortening all time series to at most 2500\n",
      "Cached predictions saved to /Users/jiro/play/nstrade/notebooks/AutogluonModels/ag-20250517_112123/models/cached_predictions.pkl\n",
      "Model not specified in predict, will default to the model with the best validation score: WeightedEnsemble\n",
      "Prediction order: ['RecursiveTabular', 'DynamicOptimizedTheta', 'AutoETS', 'SeasonalNaive', 'WeightedEnsemble']\n",
      "Shortening all series to at most 1000002\n",
      "Shortening all time series to at most 2500\n",
      "Shortening all time series to at most 2500\n",
      "Shortening all time series to at most 2500\n",
      "Cached predictions saved to /Users/jiro/play/nstrade/notebooks/AutogluonModels/ag-20250517_112123/models/cached_predictions.pkl\n",
      "Model not specified in predict, will default to the model with the best validation score: WeightedEnsemble\n",
      "Prediction order: ['RecursiveTabular', 'DynamicOptimizedTheta', 'AutoETS', 'SeasonalNaive', 'WeightedEnsemble']\n",
      "Shortening all series to at most 1000002\n",
      "Shortening all time series to at most 2500\n",
      "Shortening all time series to at most 2500\n",
      "Shortening all time series to at most 2500\n",
      "Cached predictions saved to /Users/jiro/play/nstrade/notebooks/AutogluonModels/ag-20250517_112123/models/cached_predictions.pkl\n",
      "Model not specified in predict, will default to the model with the best validation score: WeightedEnsemble\n",
      "Prediction order: ['RecursiveTabular', 'DynamicOptimizedTheta', 'AutoETS', 'SeasonalNaive', 'WeightedEnsemble']\n",
      "Shortening all series to at most 1000002\n",
      "Shortening all time series to at most 2500\n"
     ]
    },
    {
     "name": "stdout",
     "output_type": "stream",
     "text": [
      "hold\n",
      "hold\n",
      "hold\n"
     ]
    },
    {
     "name": "stderr",
     "output_type": "stream",
     "text": [
      "Shortening all time series to at most 2500\n",
      "Shortening all time series to at most 2500\n",
      "Cached predictions saved to /Users/jiro/play/nstrade/notebooks/AutogluonModels/ag-20250517_112123/models/cached_predictions.pkl\n",
      "Model not specified in predict, will default to the model with the best validation score: WeightedEnsemble\n",
      "Prediction order: ['RecursiveTabular', 'DynamicOptimizedTheta', 'AutoETS', 'SeasonalNaive', 'WeightedEnsemble']\n",
      "Shortening all series to at most 1000002\n",
      "Shortening all time series to at most 2500\n",
      "Shortening all time series to at most 2500\n",
      "Shortening all time series to at most 2500\n",
      "Cached predictions saved to /Users/jiro/play/nstrade/notebooks/AutogluonModels/ag-20250517_112123/models/cached_predictions.pkl\n",
      "Model not specified in predict, will default to the model with the best validation score: WeightedEnsemble\n",
      "Prediction order: ['RecursiveTabular', 'DynamicOptimizedTheta', 'AutoETS', 'SeasonalNaive', 'WeightedEnsemble']\n",
      "Shortening all series to at most 1000002\n",
      "Shortening all time series to at most 2500\n",
      "Shortening all time series to at most 2500\n",
      "Shortening all time series to at most 2500\n",
      "Cached predictions saved to /Users/jiro/play/nstrade/notebooks/AutogluonModels/ag-20250517_112123/models/cached_predictions.pkl\n",
      "Model not specified in predict, will default to the model with the best validation score: WeightedEnsemble\n",
      "Prediction order: ['RecursiveTabular', 'DynamicOptimizedTheta', 'AutoETS', 'SeasonalNaive', 'WeightedEnsemble']\n",
      "Shortening all series to at most 1000002\n",
      "Shortening all time series to at most 2500\n"
     ]
    },
    {
     "name": "stdout",
     "output_type": "stream",
     "text": [
      "hold\n",
      "hold\n",
      "hold\n"
     ]
    },
    {
     "name": "stderr",
     "output_type": "stream",
     "text": [
      "Shortening all time series to at most 2500\n",
      "Shortening all time series to at most 2500\n",
      "Cached predictions saved to /Users/jiro/play/nstrade/notebooks/AutogluonModels/ag-20250517_112123/models/cached_predictions.pkl\n",
      "Model not specified in predict, will default to the model with the best validation score: WeightedEnsemble\n",
      "Prediction order: ['RecursiveTabular', 'DynamicOptimizedTheta', 'AutoETS', 'SeasonalNaive', 'WeightedEnsemble']\n",
      "Shortening all series to at most 1000002\n",
      "Shortening all time series to at most 2500\n",
      "Shortening all time series to at most 2500\n",
      "Shortening all time series to at most 2500\n",
      "Cached predictions saved to /Users/jiro/play/nstrade/notebooks/AutogluonModels/ag-20250517_112123/models/cached_predictions.pkl\n",
      "Model not specified in predict, will default to the model with the best validation score: WeightedEnsemble\n",
      "Prediction order: ['RecursiveTabular', 'DynamicOptimizedTheta', 'AutoETS', 'SeasonalNaive', 'WeightedEnsemble']\n",
      "Shortening all series to at most 1000002\n",
      "Shortening all time series to at most 2500\n",
      "Shortening all time series to at most 2500\n",
      "Shortening all time series to at most 2500\n",
      "Cached predictions saved to /Users/jiro/play/nstrade/notebooks/AutogluonModels/ag-20250517_112123/models/cached_predictions.pkl\n",
      "Model not specified in predict, will default to the model with the best validation score: WeightedEnsemble\n",
      "Prediction order: ['RecursiveTabular', 'DynamicOptimizedTheta', 'AutoETS', 'SeasonalNaive', 'WeightedEnsemble']\n",
      "Shortening all series to at most 1000002\n",
      "Shortening all time series to at most 2500\n"
     ]
    },
    {
     "name": "stdout",
     "output_type": "stream",
     "text": [
      "hold\n",
      "hold\n",
      "hold\n"
     ]
    },
    {
     "name": "stderr",
     "output_type": "stream",
     "text": [
      "Shortening all time series to at most 2500\n",
      "Shortening all time series to at most 2500\n",
      "Cached predictions saved to /Users/jiro/play/nstrade/notebooks/AutogluonModels/ag-20250517_112123/models/cached_predictions.pkl\n",
      "Model not specified in predict, will default to the model with the best validation score: WeightedEnsemble\n",
      "Prediction order: ['RecursiveTabular', 'DynamicOptimizedTheta', 'AutoETS', 'SeasonalNaive', 'WeightedEnsemble']\n",
      "Shortening all series to at most 1000002\n",
      "Shortening all time series to at most 2500\n",
      "Shortening all time series to at most 2500\n",
      "Shortening all time series to at most 2500\n",
      "Cached predictions saved to /Users/jiro/play/nstrade/notebooks/AutogluonModels/ag-20250517_112123/models/cached_predictions.pkl\n",
      "Model not specified in predict, will default to the model with the best validation score: WeightedEnsemble\n",
      "Prediction order: ['RecursiveTabular', 'DynamicOptimizedTheta', 'AutoETS', 'SeasonalNaive', 'WeightedEnsemble']\n",
      "Shortening all series to at most 1000002\n",
      "Shortening all time series to at most 2500\n",
      "Shortening all time series to at most 2500\n",
      "Shortening all time series to at most 2500\n",
      "Cached predictions saved to /Users/jiro/play/nstrade/notebooks/AutogluonModels/ag-20250517_112123/models/cached_predictions.pkl\n",
      "Model not specified in predict, will default to the model with the best validation score: WeightedEnsemble\n",
      "Prediction order: ['RecursiveTabular', 'DynamicOptimizedTheta', 'AutoETS', 'SeasonalNaive', 'WeightedEnsemble']\n",
      "Shortening all series to at most 1000002\n",
      "Shortening all time series to at most 2500\n"
     ]
    },
    {
     "name": "stdout",
     "output_type": "stream",
     "text": [
      "hold\n",
      "hold\n",
      "hold\n"
     ]
    },
    {
     "name": "stderr",
     "output_type": "stream",
     "text": [
      "Shortening all time series to at most 2500\n",
      "Shortening all time series to at most 2500\n",
      "Cached predictions saved to /Users/jiro/play/nstrade/notebooks/AutogluonModels/ag-20250517_112123/models/cached_predictions.pkl\n",
      "Model not specified in predict, will default to the model with the best validation score: WeightedEnsemble\n",
      "Prediction order: ['RecursiveTabular', 'DynamicOptimizedTheta', 'AutoETS', 'SeasonalNaive', 'WeightedEnsemble']\n",
      "Shortening all series to at most 1000002\n",
      "Shortening all time series to at most 2500\n",
      "Shortening all time series to at most 2500\n",
      "Shortening all time series to at most 2500\n",
      "Cached predictions saved to /Users/jiro/play/nstrade/notebooks/AutogluonModels/ag-20250517_112123/models/cached_predictions.pkl\n",
      "Model not specified in predict, will default to the model with the best validation score: WeightedEnsemble\n",
      "Prediction order: ['RecursiveTabular', 'DynamicOptimizedTheta', 'AutoETS', 'SeasonalNaive', 'WeightedEnsemble']\n",
      "Shortening all series to at most 1000002\n",
      "Shortening all time series to at most 2500\n",
      "Shortening all time series to at most 2500\n",
      "Shortening all time series to at most 2500\n",
      "Cached predictions saved to /Users/jiro/play/nstrade/notebooks/AutogluonModels/ag-20250517_112123/models/cached_predictions.pkl\n",
      "Model not specified in predict, will default to the model with the best validation score: WeightedEnsemble\n",
      "Prediction order: ['RecursiveTabular', 'DynamicOptimizedTheta', 'AutoETS', 'SeasonalNaive', 'WeightedEnsemble']\n",
      "Shortening all series to at most 1000002\n"
     ]
    },
    {
     "name": "stdout",
     "output_type": "stream",
     "text": [
      "hold\n",
      "hold\n",
      "hold\n"
     ]
    },
    {
     "name": "stderr",
     "output_type": "stream",
     "text": [
      "Shortening all time series to at most 2500\n",
      "Shortening all time series to at most 2500\n",
      "Shortening all time series to at most 2500\n",
      "Cached predictions saved to /Users/jiro/play/nstrade/notebooks/AutogluonModels/ag-20250517_112123/models/cached_predictions.pkl\n",
      "Model not specified in predict, will default to the model with the best validation score: WeightedEnsemble\n",
      "Prediction order: ['RecursiveTabular', 'DynamicOptimizedTheta', 'AutoETS', 'SeasonalNaive', 'WeightedEnsemble']\n",
      "Shortening all series to at most 1000002\n",
      "Shortening all time series to at most 2500\n",
      "Shortening all time series to at most 2500\n",
      "Shortening all time series to at most 2500\n",
      "Cached predictions saved to /Users/jiro/play/nstrade/notebooks/AutogluonModels/ag-20250517_112123/models/cached_predictions.pkl\n",
      "Model not specified in predict, will default to the model with the best validation score: WeightedEnsemble\n",
      "Prediction order: ['RecursiveTabular', 'DynamicOptimizedTheta', 'AutoETS', 'SeasonalNaive', 'WeightedEnsemble']\n",
      "Shortening all series to at most 1000002\n",
      "Shortening all time series to at most 2500\n",
      "Shortening all time series to at most 2500\n",
      "Shortening all time series to at most 2500\n",
      "Cached predictions saved to /Users/jiro/play/nstrade/notebooks/AutogluonModels/ag-20250517_112123/models/cached_predictions.pkl\n",
      "Model not specified in predict, will default to the model with the best validation score: WeightedEnsemble\n",
      "Prediction order: ['RecursiveTabular', 'DynamicOptimizedTheta', 'AutoETS', 'SeasonalNaive', 'WeightedEnsemble']\n",
      "Shortening all series to at most 1000002\n"
     ]
    },
    {
     "name": "stdout",
     "output_type": "stream",
     "text": [
      "hold\n",
      "hold\n",
      "hold\n"
     ]
    },
    {
     "name": "stderr",
     "output_type": "stream",
     "text": [
      "Shortening all time series to at most 2500\n",
      "Shortening all time series to at most 2500\n",
      "Shortening all time series to at most 2500\n",
      "Cached predictions saved to /Users/jiro/play/nstrade/notebooks/AutogluonModels/ag-20250517_112123/models/cached_predictions.pkl\n",
      "Model not specified in predict, will default to the model with the best validation score: WeightedEnsemble\n",
      "Prediction order: ['RecursiveTabular', 'DynamicOptimizedTheta', 'AutoETS', 'SeasonalNaive', 'WeightedEnsemble']\n",
      "Shortening all series to at most 1000002\n",
      "Shortening all time series to at most 2500\n",
      "Shortening all time series to at most 2500\n",
      "Shortening all time series to at most 2500\n",
      "Cached predictions saved to /Users/jiro/play/nstrade/notebooks/AutogluonModels/ag-20250517_112123/models/cached_predictions.pkl\n",
      "Model not specified in predict, will default to the model with the best validation score: WeightedEnsemble\n"
     ]
    },
    {
     "name": "stdout",
     "output_type": "stream",
     "text": [
      "hold\n",
      "hold\n"
     ]
    },
    {
     "name": "stderr",
     "output_type": "stream",
     "text": [
      "Prediction order: ['RecursiveTabular', 'DynamicOptimizedTheta', 'AutoETS', 'SeasonalNaive', 'WeightedEnsemble']\n",
      "Shortening all series to at most 1000002\n",
      "Shortening all time series to at most 2500\n",
      "Shortening all time series to at most 2500\n",
      "Shortening all time series to at most 2500\n",
      "Cached predictions saved to /Users/jiro/play/nstrade/notebooks/AutogluonModels/ag-20250517_112123/models/cached_predictions.pkl\n",
      "Model not specified in predict, will default to the model with the best validation score: WeightedEnsemble\n",
      "Prediction order: ['RecursiveTabular', 'DynamicOptimizedTheta', 'AutoETS', 'SeasonalNaive', 'WeightedEnsemble']\n",
      "Shortening all series to at most 1000002\n",
      "Shortening all time series to at most 2500\n",
      "Shortening all time series to at most 2500\n",
      "Shortening all time series to at most 2500\n",
      "Cached predictions saved to /Users/jiro/play/nstrade/notebooks/AutogluonModels/ag-20250517_112123/models/cached_predictions.pkl\n",
      "Model not specified in predict, will default to the model with the best validation score: WeightedEnsemble\n",
      "Prediction order: ['RecursiveTabular', 'DynamicOptimizedTheta', 'AutoETS', 'SeasonalNaive', 'WeightedEnsemble']\n",
      "Shortening all series to at most 1000002\n",
      "Shortening all time series to at most 2500\n",
      "Shortening all time series to at most 2500\n",
      "Shortening all time series to at most 2500\n",
      "Cached predictions saved to /Users/jiro/play/nstrade/notebooks/AutogluonModels/ag-20250517_112123/models/cached_predictions.pkl\n",
      "Model not specified in predict, will default to the model with the best validation score: WeightedEnsemble\n",
      "Prediction order: ['RecursiveTabular', 'DynamicOptimizedTheta', 'AutoETS', 'SeasonalNaive', 'WeightedEnsemble']\n"
     ]
    },
    {
     "name": "stdout",
     "output_type": "stream",
     "text": [
      "hold\n",
      "hold\n",
      "hold\n"
     ]
    },
    {
     "name": "stderr",
     "output_type": "stream",
     "text": [
      "Shortening all series to at most 1000002\n",
      "Shortening all time series to at most 2500\n",
      "Shortening all time series to at most 2500\n",
      "Shortening all time series to at most 2500\n",
      "Cached predictions saved to /Users/jiro/play/nstrade/notebooks/AutogluonModels/ag-20250517_112123/models/cached_predictions.pkl\n",
      "Model not specified in predict, will default to the model with the best validation score: WeightedEnsemble\n",
      "Prediction order: ['RecursiveTabular', 'DynamicOptimizedTheta', 'AutoETS', 'SeasonalNaive', 'WeightedEnsemble']\n",
      "Shortening all series to at most 1000002\n",
      "Shortening all time series to at most 2500\n",
      "Shortening all time series to at most 2500\n",
      "Shortening all time series to at most 2500\n",
      "Cached predictions saved to /Users/jiro/play/nstrade/notebooks/AutogluonModels/ag-20250517_112123/models/cached_predictions.pkl\n",
      "Model not specified in predict, will default to the model with the best validation score: WeightedEnsemble\n",
      "Prediction order: ['RecursiveTabular', 'DynamicOptimizedTheta', 'AutoETS', 'SeasonalNaive', 'WeightedEnsemble']\n",
      "Shortening all series to at most 1000002\n",
      "Shortening all time series to at most 2500\n",
      "Shortening all time series to at most 2500\n",
      "Shortening all time series to at most 2500\n",
      "Cached predictions saved to /Users/jiro/play/nstrade/notebooks/AutogluonModels/ag-20250517_112123/models/cached_predictions.pkl\n",
      "Model not specified in predict, will default to the model with the best validation score: WeightedEnsemble\n",
      "Prediction order: ['RecursiveTabular', 'DynamicOptimizedTheta', 'AutoETS', 'SeasonalNaive', 'WeightedEnsemble']\n"
     ]
    },
    {
     "name": "stdout",
     "output_type": "stream",
     "text": [
      "hold\n",
      "hold\n",
      "hold\n"
     ]
    },
    {
     "name": "stderr",
     "output_type": "stream",
     "text": [
      "Shortening all series to at most 1000002\n",
      "Shortening all time series to at most 2500\n",
      "Shortening all time series to at most 2500\n",
      "Shortening all time series to at most 2500\n",
      "Cached predictions saved to /Users/jiro/play/nstrade/notebooks/AutogluonModels/ag-20250517_112123/models/cached_predictions.pkl\n",
      "Model not specified in predict, will default to the model with the best validation score: WeightedEnsemble\n",
      "Prediction order: ['RecursiveTabular', 'DynamicOptimizedTheta', 'AutoETS', 'SeasonalNaive', 'WeightedEnsemble']\n",
      "Shortening all series to at most 1000002\n",
      "Shortening all time series to at most 2500\n",
      "Shortening all time series to at most 2500\n",
      "Shortening all time series to at most 2500\n",
      "Cached predictions saved to /Users/jiro/play/nstrade/notebooks/AutogluonModels/ag-20250517_112123/models/cached_predictions.pkl\n",
      "Model not specified in predict, will default to the model with the best validation score: WeightedEnsemble\n",
      "Prediction order: ['RecursiveTabular', 'DynamicOptimizedTheta', 'AutoETS', 'SeasonalNaive', 'WeightedEnsemble']\n",
      "Shortening all series to at most 1000002\n",
      "Shortening all time series to at most 2500\n",
      "Shortening all time series to at most 2500\n",
      "Shortening all time series to at most 2500\n",
      "Cached predictions saved to /Users/jiro/play/nstrade/notebooks/AutogluonModels/ag-20250517_112123/models/cached_predictions.pkl\n",
      "Model not specified in predict, will default to the model with the best validation score: WeightedEnsemble\n"
     ]
    },
    {
     "name": "stdout",
     "output_type": "stream",
     "text": [
      "hold\n",
      "hold\n",
      "hold\n"
     ]
    },
    {
     "name": "stderr",
     "output_type": "stream",
     "text": [
      "Prediction order: ['RecursiveTabular', 'DynamicOptimizedTheta', 'AutoETS', 'SeasonalNaive', 'WeightedEnsemble']\n",
      "Shortening all series to at most 1000002\n",
      "Shortening all time series to at most 2500\n",
      "Shortening all time series to at most 2500\n",
      "Shortening all time series to at most 2500\n",
      "Cached predictions saved to /Users/jiro/play/nstrade/notebooks/AutogluonModels/ag-20250517_112123/models/cached_predictions.pkl\n",
      "Model not specified in predict, will default to the model with the best validation score: WeightedEnsemble\n",
      "Prediction order: ['RecursiveTabular', 'DynamicOptimizedTheta', 'AutoETS', 'SeasonalNaive', 'WeightedEnsemble']\n",
      "Shortening all series to at most 1000002\n",
      "Shortening all time series to at most 2500\n",
      "Shortening all time series to at most 2500\n",
      "Shortening all time series to at most 2500\n",
      "Cached predictions saved to /Users/jiro/play/nstrade/notebooks/AutogluonModels/ag-20250517_112123/models/cached_predictions.pkl\n",
      "Model not specified in predict, will default to the model with the best validation score: WeightedEnsemble\n",
      "Prediction order: ['RecursiveTabular', 'DynamicOptimizedTheta', 'AutoETS', 'SeasonalNaive', 'WeightedEnsemble']\n",
      "Shortening all series to at most 1000002\n",
      "Shortening all time series to at most 2500\n",
      "Shortening all time series to at most 2500\n",
      "Shortening all time series to at most 2500\n"
     ]
    },
    {
     "name": "stdout",
     "output_type": "stream",
     "text": [
      "hold\n",
      "hold\n"
     ]
    },
    {
     "name": "stderr",
     "output_type": "stream",
     "text": [
      "Cached predictions saved to /Users/jiro/play/nstrade/notebooks/AutogluonModels/ag-20250517_112123/models/cached_predictions.pkl\n",
      "Model not specified in predict, will default to the model with the best validation score: WeightedEnsemble\n",
      "Prediction order: ['RecursiveTabular', 'DynamicOptimizedTheta', 'AutoETS', 'SeasonalNaive', 'WeightedEnsemble']\n",
      "Shortening all series to at most 1000002\n",
      "Shortening all time series to at most 2500\n"
     ]
    },
    {
     "name": "stdout",
     "output_type": "stream",
     "text": [
      "hold\n"
     ]
    },
    {
     "name": "stderr",
     "output_type": "stream",
     "text": [
      "Shortening all time series to at most 2500\n",
      "Shortening all time series to at most 2500\n",
      "Cached predictions saved to /Users/jiro/play/nstrade/notebooks/AutogluonModels/ag-20250517_112123/models/cached_predictions.pkl\n",
      "Model not specified in predict, will default to the model with the best validation score: WeightedEnsemble\n",
      "Prediction order: ['RecursiveTabular', 'DynamicOptimizedTheta', 'AutoETS', 'SeasonalNaive', 'WeightedEnsemble']\n",
      "Shortening all series to at most 1000002\n",
      "Shortening all time series to at most 2500\n"
     ]
    },
    {
     "name": "stdout",
     "output_type": "stream",
     "text": [
      "hold\n"
     ]
    },
    {
     "name": "stderr",
     "output_type": "stream",
     "text": [
      "Shortening all time series to at most 2500\n",
      "Shortening all time series to at most 2500\n",
      "Cached predictions saved to /Users/jiro/play/nstrade/notebooks/AutogluonModels/ag-20250517_112123/models/cached_predictions.pkl\n",
      "Model not specified in predict, will default to the model with the best validation score: WeightedEnsemble\n",
      "Prediction order: ['RecursiveTabular', 'DynamicOptimizedTheta', 'AutoETS', 'SeasonalNaive', 'WeightedEnsemble']\n",
      "Shortening all series to at most 1000002\n",
      "Shortening all time series to at most 2500\n",
      "Shortening all time series to at most 2500\n",
      "Shortening all time series to at most 2500\n",
      "Cached predictions saved to /Users/jiro/play/nstrade/notebooks/AutogluonModels/ag-20250517_112123/models/cached_predictions.pkl\n",
      "Model not specified in predict, will default to the model with the best validation score: WeightedEnsemble\n",
      "Prediction order: ['RecursiveTabular', 'DynamicOptimizedTheta', 'AutoETS', 'SeasonalNaive', 'WeightedEnsemble']\n",
      "Shortening all series to at most 1000002\n",
      "Shortening all time series to at most 2500\n",
      "Shortening all time series to at most 2500\n",
      "Shortening all time series to at most 2500\n"
     ]
    },
    {
     "name": "stdout",
     "output_type": "stream",
     "text": [
      "hold\n",
      "hold\n"
     ]
    },
    {
     "name": "stderr",
     "output_type": "stream",
     "text": [
      "Cached predictions saved to /Users/jiro/play/nstrade/notebooks/AutogluonModels/ag-20250517_112123/models/cached_predictions.pkl\n",
      "Model not specified in predict, will default to the model with the best validation score: WeightedEnsemble\n",
      "Prediction order: ['RecursiveTabular', 'DynamicOptimizedTheta', 'AutoETS', 'SeasonalNaive', 'WeightedEnsemble']\n",
      "Shortening all series to at most 1000002\n",
      "Shortening all time series to at most 2500\n",
      "Shortening all time series to at most 2500\n",
      "Shortening all time series to at most 2500\n",
      "Cached predictions saved to /Users/jiro/play/nstrade/notebooks/AutogluonModels/ag-20250517_112123/models/cached_predictions.pkl\n",
      "Model not specified in predict, will default to the model with the best validation score: WeightedEnsemble\n",
      "Prediction order: ['RecursiveTabular', 'DynamicOptimizedTheta', 'AutoETS', 'SeasonalNaive', 'WeightedEnsemble']\n",
      "Shortening all series to at most 1000002\n",
      "Shortening all time series to at most 2500\n",
      "Shortening all time series to at most 2500\n",
      "Shortening all time series to at most 2500\n"
     ]
    },
    {
     "name": "stdout",
     "output_type": "stream",
     "text": [
      "hold\n",
      "hold\n"
     ]
    },
    {
     "name": "stderr",
     "output_type": "stream",
     "text": [
      "Cached predictions saved to /Users/jiro/play/nstrade/notebooks/AutogluonModels/ag-20250517_112123/models/cached_predictions.pkl\n",
      "Model not specified in predict, will default to the model with the best validation score: WeightedEnsemble\n",
      "Prediction order: ['RecursiveTabular', 'DynamicOptimizedTheta', 'AutoETS', 'SeasonalNaive', 'WeightedEnsemble']\n",
      "Shortening all series to at most 1000002\n",
      "Shortening all time series to at most 2500\n",
      "Shortening all time series to at most 2500\n",
      "Shortening all time series to at most 2500\n",
      "Cached predictions saved to /Users/jiro/play/nstrade/notebooks/AutogluonModels/ag-20250517_112123/models/cached_predictions.pkl\n",
      "Model not specified in predict, will default to the model with the best validation score: WeightedEnsemble\n",
      "Prediction order: ['RecursiveTabular', 'DynamicOptimizedTheta', 'AutoETS', 'SeasonalNaive', 'WeightedEnsemble']\n",
      "Shortening all series to at most 1000002\n",
      "Shortening all time series to at most 2500\n",
      "Shortening all time series to at most 2500\n",
      "Shortening all time series to at most 2500\n"
     ]
    },
    {
     "name": "stdout",
     "output_type": "stream",
     "text": [
      "hold\n",
      "hold\n"
     ]
    },
    {
     "name": "stderr",
     "output_type": "stream",
     "text": [
      "Cached predictions saved to /Users/jiro/play/nstrade/notebooks/AutogluonModels/ag-20250517_112123/models/cached_predictions.pkl\n",
      "Model not specified in predict, will default to the model with the best validation score: WeightedEnsemble\n",
      "Prediction order: ['RecursiveTabular', 'DynamicOptimizedTheta', 'AutoETS', 'SeasonalNaive', 'WeightedEnsemble']\n",
      "Shortening all series to at most 1000002\n",
      "Shortening all time series to at most 2500\n",
      "Shortening all time series to at most 2500\n",
      "Shortening all time series to at most 2500\n"
     ]
    },
    {
     "name": "stdout",
     "output_type": "stream",
     "text": [
      "hold\n"
     ]
    },
    {
     "name": "stderr",
     "output_type": "stream",
     "text": [
      "Cached predictions saved to /Users/jiro/play/nstrade/notebooks/AutogluonModels/ag-20250517_112123/models/cached_predictions.pkl\n",
      "Model not specified in predict, will default to the model with the best validation score: WeightedEnsemble\n",
      "Prediction order: ['RecursiveTabular', 'DynamicOptimizedTheta', 'AutoETS', 'SeasonalNaive', 'WeightedEnsemble']\n",
      "Shortening all series to at most 1000002\n",
      "Shortening all time series to at most 2500\n",
      "Shortening all time series to at most 2500\n",
      "Shortening all time series to at most 2500\n",
      "Cached predictions saved to /Users/jiro/play/nstrade/notebooks/AutogluonModels/ag-20250517_112123/models/cached_predictions.pkl\n",
      "Model not specified in predict, will default to the model with the best validation score: WeightedEnsemble\n",
      "Prediction order: ['RecursiveTabular', 'DynamicOptimizedTheta', 'AutoETS', 'SeasonalNaive', 'WeightedEnsemble']\n",
      "Shortening all series to at most 1000002\n",
      "Shortening all time series to at most 2500\n",
      "Shortening all time series to at most 2500\n",
      "Shortening all time series to at most 2500\n"
     ]
    },
    {
     "name": "stdout",
     "output_type": "stream",
     "text": [
      "hold\n",
      "hold\n"
     ]
    },
    {
     "name": "stderr",
     "output_type": "stream",
     "text": [
      "Cached predictions saved to /Users/jiro/play/nstrade/notebooks/AutogluonModels/ag-20250517_112123/models/cached_predictions.pkl\n",
      "Model not specified in predict, will default to the model with the best validation score: WeightedEnsemble\n",
      "Prediction order: ['RecursiveTabular', 'DynamicOptimizedTheta', 'AutoETS', 'SeasonalNaive', 'WeightedEnsemble']\n",
      "Shortening all series to at most 1000002\n",
      "Shortening all time series to at most 2500\n",
      "Shortening all time series to at most 2500\n",
      "Shortening all time series to at most 2500\n",
      "Cached predictions saved to /Users/jiro/play/nstrade/notebooks/AutogluonModels/ag-20250517_112123/models/cached_predictions.pkl\n",
      "Model not specified in predict, will default to the model with the best validation score: WeightedEnsemble\n",
      "Prediction order: ['RecursiveTabular', 'DynamicOptimizedTheta', 'AutoETS', 'SeasonalNaive', 'WeightedEnsemble']\n",
      "Shortening all series to at most 1000002\n",
      "Shortening all time series to at most 2500\n",
      "Shortening all time series to at most 2500\n",
      "Shortening all time series to at most 2500\n"
     ]
    },
    {
     "name": "stdout",
     "output_type": "stream",
     "text": [
      "hold\n",
      "hold\n"
     ]
    },
    {
     "name": "stderr",
     "output_type": "stream",
     "text": [
      "Cached predictions saved to /Users/jiro/play/nstrade/notebooks/AutogluonModels/ag-20250517_112123/models/cached_predictions.pkl\n",
      "Model not specified in predict, will default to the model with the best validation score: WeightedEnsemble\n",
      "Prediction order: ['RecursiveTabular', 'DynamicOptimizedTheta', 'AutoETS', 'SeasonalNaive', 'WeightedEnsemble']\n",
      "Shortening all series to at most 1000002\n",
      "Shortening all time series to at most 2500\n",
      "Shortening all time series to at most 2500\n",
      "Shortening all time series to at most 2500\n",
      "Cached predictions saved to /Users/jiro/play/nstrade/notebooks/AutogluonModels/ag-20250517_112123/models/cached_predictions.pkl\n",
      "Model not specified in predict, will default to the model with the best validation score: WeightedEnsemble\n",
      "Prediction order: ['RecursiveTabular', 'DynamicOptimizedTheta', 'AutoETS', 'SeasonalNaive', 'WeightedEnsemble']\n",
      "Shortening all series to at most 1000002\n",
      "Shortening all time series to at most 2500\n",
      "Shortening all time series to at most 2500\n"
     ]
    },
    {
     "name": "stdout",
     "output_type": "stream",
     "text": [
      "hold\n",
      "hold\n"
     ]
    },
    {
     "name": "stderr",
     "output_type": "stream",
     "text": [
      "Shortening all time series to at most 2500\n",
      "Cached predictions saved to /Users/jiro/play/nstrade/notebooks/AutogluonModels/ag-20250517_112123/models/cached_predictions.pkl\n",
      "Model not specified in predict, will default to the model with the best validation score: WeightedEnsemble\n",
      "Prediction order: ['RecursiveTabular', 'DynamicOptimizedTheta', 'AutoETS', 'SeasonalNaive', 'WeightedEnsemble']\n",
      "Shortening all series to at most 1000002\n",
      "Shortening all time series to at most 2500\n",
      "Shortening all time series to at most 2500\n",
      "Shortening all time series to at most 2500\n"
     ]
    },
    {
     "name": "stdout",
     "output_type": "stream",
     "text": [
      "hold\n"
     ]
    },
    {
     "name": "stderr",
     "output_type": "stream",
     "text": [
      "Cached predictions saved to /Users/jiro/play/nstrade/notebooks/AutogluonModels/ag-20250517_112123/models/cached_predictions.pkl\n",
      "Model not specified in predict, will default to the model with the best validation score: WeightedEnsemble\n",
      "Prediction order: ['RecursiveTabular', 'DynamicOptimizedTheta', 'AutoETS', 'SeasonalNaive', 'WeightedEnsemble']\n",
      "Shortening all series to at most 1000002\n",
      "Shortening all time series to at most 2500\n",
      "Shortening all time series to at most 2500\n",
      "Shortening all time series to at most 2500\n",
      "Cached predictions saved to /Users/jiro/play/nstrade/notebooks/AutogluonModels/ag-20250517_112123/models/cached_predictions.pkl\n",
      "Model not specified in predict, will default to the model with the best validation score: WeightedEnsemble\n",
      "Prediction order: ['RecursiveTabular', 'DynamicOptimizedTheta', 'AutoETS', 'SeasonalNaive', 'WeightedEnsemble']\n",
      "Shortening all series to at most 1000002\n",
      "Shortening all time series to at most 2500\n",
      "Shortening all time series to at most 2500\n",
      "Shortening all time series to at most 2500\n"
     ]
    },
    {
     "name": "stdout",
     "output_type": "stream",
     "text": [
      "hold\n",
      "hold\n"
     ]
    },
    {
     "name": "stderr",
     "output_type": "stream",
     "text": [
      "Cached predictions saved to /Users/jiro/play/nstrade/notebooks/AutogluonModels/ag-20250517_112123/models/cached_predictions.pkl\n",
      "Model not specified in predict, will default to the model with the best validation score: WeightedEnsemble\n",
      "Prediction order: ['RecursiveTabular', 'DynamicOptimizedTheta', 'AutoETS', 'SeasonalNaive', 'WeightedEnsemble']\n",
      "Shortening all series to at most 1000002\n",
      "Shortening all time series to at most 2500\n",
      "Shortening all time series to at most 2500\n",
      "Shortening all time series to at most 2500\n",
      "Cached predictions saved to /Users/jiro/play/nstrade/notebooks/AutogluonModels/ag-20250517_112123/models/cached_predictions.pkl\n",
      "Model not specified in predict, will default to the model with the best validation score: WeightedEnsemble\n",
      "Prediction order: ['RecursiveTabular', 'DynamicOptimizedTheta', 'AutoETS', 'SeasonalNaive', 'WeightedEnsemble']\n",
      "Shortening all series to at most 1000002\n",
      "Shortening all time series to at most 2500\n",
      "Shortening all time series to at most 2500\n",
      "Shortening all time series to at most 2500\n"
     ]
    },
    {
     "name": "stdout",
     "output_type": "stream",
     "text": [
      "hold\n",
      "hold\n"
     ]
    },
    {
     "name": "stderr",
     "output_type": "stream",
     "text": [
      "Cached predictions saved to /Users/jiro/play/nstrade/notebooks/AutogluonModels/ag-20250517_112123/models/cached_predictions.pkl\n",
      "Model not specified in predict, will default to the model with the best validation score: WeightedEnsemble\n",
      "Prediction order: ['RecursiveTabular', 'DynamicOptimizedTheta', 'AutoETS', 'SeasonalNaive', 'WeightedEnsemble']\n",
      "Shortening all series to at most 1000002\n",
      "Shortening all time series to at most 2500\n",
      "Shortening all time series to at most 2500\n",
      "Shortening all time series to at most 2500\n",
      "Cached predictions saved to /Users/jiro/play/nstrade/notebooks/AutogluonModels/ag-20250517_112123/models/cached_predictions.pkl\n",
      "Model not specified in predict, will default to the model with the best validation score: WeightedEnsemble\n",
      "Prediction order: ['RecursiveTabular', 'DynamicOptimizedTheta', 'AutoETS', 'SeasonalNaive', 'WeightedEnsemble']\n",
      "Shortening all series to at most 1000002\n",
      "Shortening all time series to at most 2500\n",
      "Shortening all time series to at most 2500\n",
      "Shortening all time series to at most 2500\n"
     ]
    },
    {
     "name": "stdout",
     "output_type": "stream",
     "text": [
      "hold\n",
      "hold\n"
     ]
    },
    {
     "name": "stderr",
     "output_type": "stream",
     "text": [
      "Cached predictions saved to /Users/jiro/play/nstrade/notebooks/AutogluonModels/ag-20250517_112123/models/cached_predictions.pkl\n",
      "Model not specified in predict, will default to the model with the best validation score: WeightedEnsemble\n",
      "Prediction order: ['RecursiveTabular', 'DynamicOptimizedTheta', 'AutoETS', 'SeasonalNaive', 'WeightedEnsemble']\n",
      "Shortening all series to at most 1000002\n",
      "Shortening all time series to at most 2500\n",
      "Shortening all time series to at most 2500\n",
      "Shortening all time series to at most 2500\n",
      "Cached predictions saved to /Users/jiro/play/nstrade/notebooks/AutogluonModels/ag-20250517_112123/models/cached_predictions.pkl\n",
      "Model not specified in predict, will default to the model with the best validation score: WeightedEnsemble\n",
      "Prediction order: ['RecursiveTabular', 'DynamicOptimizedTheta', 'AutoETS', 'SeasonalNaive', 'WeightedEnsemble']\n",
      "Shortening all series to at most 1000002\n",
      "Shortening all time series to at most 2500\n"
     ]
    },
    {
     "name": "stdout",
     "output_type": "stream",
     "text": [
      "hold\n",
      "hold\n"
     ]
    },
    {
     "name": "stderr",
     "output_type": "stream",
     "text": [
      "Shortening all time series to at most 2500\n",
      "Shortening all time series to at most 2500\n",
      "Cached predictions saved to /Users/jiro/play/nstrade/notebooks/AutogluonModels/ag-20250517_112123/models/cached_predictions.pkl\n",
      "Model not specified in predict, will default to the model with the best validation score: WeightedEnsemble\n",
      "Prediction order: ['RecursiveTabular', 'DynamicOptimizedTheta', 'AutoETS', 'SeasonalNaive', 'WeightedEnsemble']\n",
      "Shortening all series to at most 1000002\n",
      "Shortening all time series to at most 2500\n",
      "Shortening all time series to at most 2500\n",
      "Shortening all time series to at most 2500\n",
      "Cached predictions saved to /Users/jiro/play/nstrade/notebooks/AutogluonModels/ag-20250517_112123/models/cached_predictions.pkl\n",
      "Model not specified in predict, will default to the model with the best validation score: WeightedEnsemble\n",
      "Prediction order: ['RecursiveTabular', 'DynamicOptimizedTheta', 'AutoETS', 'SeasonalNaive', 'WeightedEnsemble']\n",
      "Shortening all series to at most 1000002\n",
      "Shortening all time series to at most 2500\n",
      "Shortening all time series to at most 2500\n",
      "Shortening all time series to at most 2500\n"
     ]
    },
    {
     "name": "stdout",
     "output_type": "stream",
     "text": [
      "hold\n",
      "hold\n"
     ]
    },
    {
     "name": "stderr",
     "output_type": "stream",
     "text": [
      "Cached predictions saved to /Users/jiro/play/nstrade/notebooks/AutogluonModels/ag-20250517_112123/models/cached_predictions.pkl\n",
      "Model not specified in predict, will default to the model with the best validation score: WeightedEnsemble\n",
      "Prediction order: ['RecursiveTabular', 'DynamicOptimizedTheta', 'AutoETS', 'SeasonalNaive', 'WeightedEnsemble']\n",
      "Shortening all series to at most 1000002\n",
      "Shortening all time series to at most 2500\n",
      "Shortening all time series to at most 2500\n",
      "Shortening all time series to at most 2500\n",
      "Cached predictions saved to /Users/jiro/play/nstrade/notebooks/AutogluonModels/ag-20250517_112123/models/cached_predictions.pkl\n",
      "Model not specified in predict, will default to the model with the best validation score: WeightedEnsemble\n",
      "Prediction order: ['RecursiveTabular', 'DynamicOptimizedTheta', 'AutoETS', 'SeasonalNaive', 'WeightedEnsemble']\n",
      "Shortening all series to at most 1000002\n",
      "Shortening all time series to at most 2500\n",
      "Shortening all time series to at most 2500\n"
     ]
    },
    {
     "name": "stdout",
     "output_type": "stream",
     "text": [
      "hold\n",
      "hold\n"
     ]
    },
    {
     "name": "stderr",
     "output_type": "stream",
     "text": [
      "Shortening all time series to at most 2500\n",
      "Cached predictions saved to /Users/jiro/play/nstrade/notebooks/AutogluonModels/ag-20250517_112123/models/cached_predictions.pkl\n",
      "Model not specified in predict, will default to the model with the best validation score: WeightedEnsemble\n",
      "Prediction order: ['RecursiveTabular', 'DynamicOptimizedTheta', 'AutoETS', 'SeasonalNaive', 'WeightedEnsemble']\n",
      "Shortening all series to at most 1000002\n",
      "Shortening all time series to at most 2500\n",
      "Shortening all time series to at most 2500\n",
      "Shortening all time series to at most 2500\n",
      "Cached predictions saved to /Users/jiro/play/nstrade/notebooks/AutogluonModels/ag-20250517_112123/models/cached_predictions.pkl\n",
      "Model not specified in predict, will default to the model with the best validation score: WeightedEnsemble\n",
      "Prediction order: ['RecursiveTabular', 'DynamicOptimizedTheta', 'AutoETS', 'SeasonalNaive', 'WeightedEnsemble']\n",
      "Shortening all series to at most 1000002\n",
      "Shortening all time series to at most 2500\n",
      "Shortening all time series to at most 2500\n",
      "Shortening all time series to at most 2500\n"
     ]
    },
    {
     "name": "stdout",
     "output_type": "stream",
     "text": [
      "hold\n",
      "hold\n"
     ]
    },
    {
     "name": "stderr",
     "output_type": "stream",
     "text": [
      "Cached predictions saved to /Users/jiro/play/nstrade/notebooks/AutogluonModels/ag-20250517_112123/models/cached_predictions.pkl\n",
      "Model not specified in predict, will default to the model with the best validation score: WeightedEnsemble\n",
      "Prediction order: ['RecursiveTabular', 'DynamicOptimizedTheta', 'AutoETS', 'SeasonalNaive', 'WeightedEnsemble']\n",
      "Shortening all series to at most 1000002\n",
      "Shortening all time series to at most 2500\n",
      "Shortening all time series to at most 2500\n",
      "Shortening all time series to at most 2500\n",
      "Cached predictions saved to /Users/jiro/play/nstrade/notebooks/AutogluonModels/ag-20250517_112123/models/cached_predictions.pkl\n",
      "Model not specified in predict, will default to the model with the best validation score: WeightedEnsemble\n",
      "Prediction order: ['RecursiveTabular', 'DynamicOptimizedTheta', 'AutoETS', 'SeasonalNaive', 'WeightedEnsemble']\n",
      "Shortening all series to at most 1000002\n",
      "Shortening all time series to at most 2500\n",
      "Shortening all time series to at most 2500\n"
     ]
    },
    {
     "name": "stdout",
     "output_type": "stream",
     "text": [
      "hold\n",
      "hold\n"
     ]
    },
    {
     "name": "stderr",
     "output_type": "stream",
     "text": [
      "Shortening all time series to at most 2500\n",
      "Cached predictions saved to /Users/jiro/play/nstrade/notebooks/AutogluonModels/ag-20250517_112123/models/cached_predictions.pkl\n",
      "Model not specified in predict, will default to the model with the best validation score: WeightedEnsemble\n",
      "Prediction order: ['RecursiveTabular', 'DynamicOptimizedTheta', 'AutoETS', 'SeasonalNaive', 'WeightedEnsemble']\n",
      "Shortening all series to at most 1000002\n",
      "Shortening all time series to at most 2500\n"
     ]
    },
    {
     "name": "stdout",
     "output_type": "stream",
     "text": [
      "hold\n"
     ]
    },
    {
     "name": "stderr",
     "output_type": "stream",
     "text": [
      "Shortening all time series to at most 2500\n",
      "Shortening all time series to at most 2500\n",
      "Cached predictions saved to /Users/jiro/play/nstrade/notebooks/AutogluonModels/ag-20250517_112123/models/cached_predictions.pkl\n",
      "Model not specified in predict, will default to the model with the best validation score: WeightedEnsemble\n",
      "Prediction order: ['RecursiveTabular', 'DynamicOptimizedTheta', 'AutoETS', 'SeasonalNaive', 'WeightedEnsemble']\n",
      "Shortening all series to at most 1000002\n",
      "Shortening all time series to at most 2500\n",
      "Shortening all time series to at most 2500\n",
      "Shortening all time series to at most 2500\n",
      "Cached predictions saved to /Users/jiro/play/nstrade/notebooks/AutogluonModels/ag-20250517_112123/models/cached_predictions.pkl\n",
      "Model not specified in predict, will default to the model with the best validation score: WeightedEnsemble\n",
      "Prediction order: ['RecursiveTabular', 'DynamicOptimizedTheta', 'AutoETS', 'SeasonalNaive', 'WeightedEnsemble']\n",
      "Shortening all series to at most 1000002\n",
      "Shortening all time series to at most 2500\n",
      "Shortening all time series to at most 2500\n"
     ]
    },
    {
     "name": "stdout",
     "output_type": "stream",
     "text": [
      "hold\n",
      "hold\n"
     ]
    },
    {
     "name": "stderr",
     "output_type": "stream",
     "text": [
      "Shortening all time series to at most 2500\n",
      "Cached predictions saved to /Users/jiro/play/nstrade/notebooks/AutogluonModels/ag-20250517_112123/models/cached_predictions.pkl\n",
      "Model not specified in predict, will default to the model with the best validation score: WeightedEnsemble\n",
      "Prediction order: ['RecursiveTabular', 'DynamicOptimizedTheta', 'AutoETS', 'SeasonalNaive', 'WeightedEnsemble']\n",
      "Shortening all series to at most 1000002\n",
      "Shortening all time series to at most 2500\n",
      "Shortening all time series to at most 2500\n",
      "Shortening all time series to at most 2500\n",
      "Cached predictions saved to /Users/jiro/play/nstrade/notebooks/AutogluonModels/ag-20250517_112123/models/cached_predictions.pkl\n",
      "Model not specified in predict, will default to the model with the best validation score: WeightedEnsemble\n",
      "Prediction order: ['RecursiveTabular', 'DynamicOptimizedTheta', 'AutoETS', 'SeasonalNaive', 'WeightedEnsemble']\n",
      "Shortening all series to at most 1000002\n",
      "Shortening all time series to at most 2500\n",
      "Shortening all time series to at most 2500\n"
     ]
    },
    {
     "name": "stdout",
     "output_type": "stream",
     "text": [
      "hold\n",
      "hold\n"
     ]
    },
    {
     "name": "stderr",
     "output_type": "stream",
     "text": [
      "Shortening all time series to at most 2500\n",
      "Cached predictions saved to /Users/jiro/play/nstrade/notebooks/AutogluonModels/ag-20250517_112123/models/cached_predictions.pkl\n",
      "Model not specified in predict, will default to the model with the best validation score: WeightedEnsemble\n",
      "Prediction order: ['RecursiveTabular', 'DynamicOptimizedTheta', 'AutoETS', 'SeasonalNaive', 'WeightedEnsemble']\n",
      "Shortening all series to at most 1000002\n",
      "Shortening all time series to at most 2500\n"
     ]
    },
    {
     "name": "stdout",
     "output_type": "stream",
     "text": [
      "hold\n"
     ]
    },
    {
     "name": "stderr",
     "output_type": "stream",
     "text": [
      "Shortening all time series to at most 2500\n",
      "Shortening all time series to at most 2500\n",
      "Cached predictions saved to /Users/jiro/play/nstrade/notebooks/AutogluonModels/ag-20250517_112123/models/cached_predictions.pkl\n",
      "Model not specified in predict, will default to the model with the best validation score: WeightedEnsemble\n",
      "Prediction order: ['RecursiveTabular', 'DynamicOptimizedTheta', 'AutoETS', 'SeasonalNaive', 'WeightedEnsemble']\n",
      "Shortening all series to at most 1000002\n",
      "Shortening all time series to at most 2500\n",
      "Shortening all time series to at most 2500\n",
      "Shortening all time series to at most 2500\n",
      "Cached predictions saved to /Users/jiro/play/nstrade/notebooks/AutogluonModels/ag-20250517_112123/models/cached_predictions.pkl\n",
      "Model not specified in predict, will default to the model with the best validation score: WeightedEnsemble\n",
      "Prediction order: ['RecursiveTabular', 'DynamicOptimizedTheta', 'AutoETS', 'SeasonalNaive', 'WeightedEnsemble']\n",
      "Shortening all series to at most 1000002\n",
      "Shortening all time series to at most 2500\n",
      "Shortening all time series to at most 2500\n"
     ]
    },
    {
     "name": "stdout",
     "output_type": "stream",
     "text": [
      "hold\n",
      "hold\n"
     ]
    },
    {
     "name": "stderr",
     "output_type": "stream",
     "text": [
      "Shortening all time series to at most 2500\n",
      "Cached predictions saved to /Users/jiro/play/nstrade/notebooks/AutogluonModels/ag-20250517_112123/models/cached_predictions.pkl\n",
      "Model not specified in predict, will default to the model with the best validation score: WeightedEnsemble\n",
      "Prediction order: ['RecursiveTabular', 'DynamicOptimizedTheta', 'AutoETS', 'SeasonalNaive', 'WeightedEnsemble']\n",
      "Shortening all series to at most 1000002\n",
      "Shortening all time series to at most 2500\n",
      "Shortening all time series to at most 2500\n",
      "Shortening all time series to at most 2500\n",
      "Cached predictions saved to /Users/jiro/play/nstrade/notebooks/AutogluonModels/ag-20250517_112123/models/cached_predictions.pkl\n",
      "Model not specified in predict, will default to the model with the best validation score: WeightedEnsemble\n"
     ]
    },
    {
     "name": "stdout",
     "output_type": "stream",
     "text": [
      "hold\n",
      "hold\n"
     ]
    },
    {
     "name": "stderr",
     "output_type": "stream",
     "text": [
      "Prediction order: ['RecursiveTabular', 'DynamicOptimizedTheta', 'AutoETS', 'SeasonalNaive', 'WeightedEnsemble']\n",
      "Shortening all series to at most 1000002\n",
      "Shortening all time series to at most 2500\n",
      "Shortening all time series to at most 2500\n",
      "Shortening all time series to at most 2500\n",
      "Cached predictions saved to /Users/jiro/play/nstrade/notebooks/AutogluonModels/ag-20250517_112123/models/cached_predictions.pkl\n",
      "Model not specified in predict, will default to the model with the best validation score: WeightedEnsemble\n",
      "Prediction order: ['RecursiveTabular', 'DynamicOptimizedTheta', 'AutoETS', 'SeasonalNaive', 'WeightedEnsemble']\n",
      "Shortening all series to at most 1000002\n",
      "Shortening all time series to at most 2500\n",
      "Shortening all time series to at most 2500\n",
      "Shortening all time series to at most 2500\n",
      "Cached predictions saved to /Users/jiro/play/nstrade/notebooks/AutogluonModels/ag-20250517_112123/models/cached_predictions.pkl\n",
      "Model not specified in predict, will default to the model with the best validation score: WeightedEnsemble\n",
      "Prediction order: ['RecursiveTabular', 'DynamicOptimizedTheta', 'AutoETS', 'SeasonalNaive', 'WeightedEnsemble']\n",
      "Shortening all series to at most 1000002\n",
      "Shortening all time series to at most 2500\n",
      "Shortening all time series to at most 2500\n"
     ]
    },
    {
     "name": "stdout",
     "output_type": "stream",
     "text": [
      "hold\n",
      "hold\n"
     ]
    },
    {
     "name": "stderr",
     "output_type": "stream",
     "text": [
      "Shortening all time series to at most 2500\n",
      "Cached predictions saved to /Users/jiro/play/nstrade/notebooks/AutogluonModels/ag-20250517_112123/models/cached_predictions.pkl\n",
      "Model not specified in predict, will default to the model with the best validation score: WeightedEnsemble\n",
      "Prediction order: ['RecursiveTabular', 'DynamicOptimizedTheta', 'AutoETS', 'SeasonalNaive', 'WeightedEnsemble']\n",
      "Shortening all series to at most 1000002\n",
      "Shortening all time series to at most 2500\n",
      "Shortening all time series to at most 2500\n",
      "Shortening all time series to at most 2500\n",
      "Cached predictions saved to /Users/jiro/play/nstrade/notebooks/AutogluonModels/ag-20250517_112123/models/cached_predictions.pkl\n",
      "Model not specified in predict, will default to the model with the best validation score: WeightedEnsemble\n",
      "Prediction order: ['RecursiveTabular', 'DynamicOptimizedTheta', 'AutoETS', 'SeasonalNaive', 'WeightedEnsemble']\n",
      "Shortening all series to at most 1000002\n",
      "Shortening all time series to at most 2500\n",
      "Shortening all time series to at most 2500\n"
     ]
    },
    {
     "name": "stdout",
     "output_type": "stream",
     "text": [
      "hold\n",
      "hold\n"
     ]
    },
    {
     "name": "stderr",
     "output_type": "stream",
     "text": [
      "Shortening all time series to at most 2500\n",
      "Cached predictions saved to /Users/jiro/play/nstrade/notebooks/AutogluonModels/ag-20250517_112123/models/cached_predictions.pkl\n",
      "Model not specified in predict, will default to the model with the best validation score: WeightedEnsemble\n",
      "Prediction order: ['RecursiveTabular', 'DynamicOptimizedTheta', 'AutoETS', 'SeasonalNaive', 'WeightedEnsemble']\n",
      "Shortening all series to at most 1000002\n",
      "Shortening all time series to at most 2500\n",
      "Shortening all time series to at most 2500\n",
      "Shortening all time series to at most 2500\n",
      "Cached predictions saved to /Users/jiro/play/nstrade/notebooks/AutogluonModels/ag-20250517_112123/models/cached_predictions.pkl\n",
      "Model not specified in predict, will default to the model with the best validation score: WeightedEnsemble\n",
      "Prediction order: ['RecursiveTabular', 'DynamicOptimizedTheta', 'AutoETS', 'SeasonalNaive', 'WeightedEnsemble']\n",
      "Shortening all series to at most 1000002\n",
      "Shortening all time series to at most 2500\n"
     ]
    },
    {
     "name": "stdout",
     "output_type": "stream",
     "text": [
      "hold\n",
      "hold\n"
     ]
    },
    {
     "name": "stderr",
     "output_type": "stream",
     "text": [
      "Shortening all time series to at most 2500\n",
      "Shortening all time series to at most 2500\n",
      "Cached predictions saved to /Users/jiro/play/nstrade/notebooks/AutogluonModels/ag-20250517_112123/models/cached_predictions.pkl\n",
      "Model not specified in predict, will default to the model with the best validation score: WeightedEnsemble\n",
      "Prediction order: ['RecursiveTabular', 'DynamicOptimizedTheta', 'AutoETS', 'SeasonalNaive', 'WeightedEnsemble']\n",
      "Shortening all series to at most 1000002\n",
      "Shortening all time series to at most 2500\n",
      "Shortening all time series to at most 2500\n",
      "Shortening all time series to at most 2500\n",
      "Cached predictions saved to /Users/jiro/play/nstrade/notebooks/AutogluonModels/ag-20250517_112123/models/cached_predictions.pkl\n",
      "Model not specified in predict, will default to the model with the best validation score: WeightedEnsemble\n",
      "Prediction order: ['RecursiveTabular', 'DynamicOptimizedTheta', 'AutoETS', 'SeasonalNaive', 'WeightedEnsemble']\n",
      "Shortening all series to at most 1000002\n",
      "Shortening all time series to at most 2500\n",
      "Shortening all time series to at most 2500\n"
     ]
    },
    {
     "name": "stdout",
     "output_type": "stream",
     "text": [
      "hold\n",
      "hold\n"
     ]
    },
    {
     "name": "stderr",
     "output_type": "stream",
     "text": [
      "Shortening all time series to at most 2500\n",
      "Cached predictions saved to /Users/jiro/play/nstrade/notebooks/AutogluonModels/ag-20250517_112123/models/cached_predictions.pkl\n",
      "Model not specified in predict, will default to the model with the best validation score: WeightedEnsemble\n",
      "Prediction order: ['RecursiveTabular', 'DynamicOptimizedTheta', 'AutoETS', 'SeasonalNaive', 'WeightedEnsemble']\n",
      "Shortening all series to at most 1000002\n",
      "Shortening all time series to at most 2500\n",
      "Shortening all time series to at most 2500\n",
      "Shortening all time series to at most 2500\n",
      "Cached predictions saved to /Users/jiro/play/nstrade/notebooks/AutogluonModels/ag-20250517_112123/models/cached_predictions.pkl\n",
      "Model not specified in predict, will default to the model with the best validation score: WeightedEnsemble\n",
      "Prediction order: ['RecursiveTabular', 'DynamicOptimizedTheta', 'AutoETS', 'SeasonalNaive', 'WeightedEnsemble']\n",
      "Shortening all series to at most 1000002\n",
      "Shortening all time series to at most 2500\n",
      "Shortening all time series to at most 2500\n"
     ]
    },
    {
     "name": "stdout",
     "output_type": "stream",
     "text": [
      "hold\n",
      "hold\n"
     ]
    },
    {
     "name": "stderr",
     "output_type": "stream",
     "text": [
      "Shortening all time series to at most 2500\n",
      "Cached predictions saved to /Users/jiro/play/nstrade/notebooks/AutogluonModels/ag-20250517_112123/models/cached_predictions.pkl\n",
      "Model not specified in predict, will default to the model with the best validation score: WeightedEnsemble\n",
      "Prediction order: ['RecursiveTabular', 'DynamicOptimizedTheta', 'AutoETS', 'SeasonalNaive', 'WeightedEnsemble']\n",
      "Shortening all series to at most 1000002\n",
      "Shortening all time series to at most 2500\n",
      "Shortening all time series to at most 2500\n",
      "Shortening all time series to at most 2500\n",
      "Cached predictions saved to /Users/jiro/play/nstrade/notebooks/AutogluonModels/ag-20250517_112123/models/cached_predictions.pkl\n",
      "Model not specified in predict, will default to the model with the best validation score: WeightedEnsemble\n"
     ]
    },
    {
     "name": "stdout",
     "output_type": "stream",
     "text": [
      "hold\n",
      "hold\n"
     ]
    },
    {
     "name": "stderr",
     "output_type": "stream",
     "text": [
      "Prediction order: ['RecursiveTabular', 'DynamicOptimizedTheta', 'AutoETS', 'SeasonalNaive', 'WeightedEnsemble']\n",
      "Shortening all series to at most 1000002\n",
      "Shortening all time series to at most 2500\n",
      "Shortening all time series to at most 2500\n",
      "Shortening all time series to at most 2500\n",
      "Cached predictions saved to /Users/jiro/play/nstrade/notebooks/AutogluonModels/ag-20250517_112123/models/cached_predictions.pkl\n",
      "Model not specified in predict, will default to the model with the best validation score: WeightedEnsemble\n",
      "Prediction order: ['RecursiveTabular', 'DynamicOptimizedTheta', 'AutoETS', 'SeasonalNaive', 'WeightedEnsemble']\n",
      "Shortening all series to at most 1000002\n",
      "Shortening all time series to at most 2500\n",
      "Shortening all time series to at most 2500\n",
      "Shortening all time series to at most 2500\n",
      "Cached predictions saved to /Users/jiro/play/nstrade/notebooks/AutogluonModels/ag-20250517_112123/models/cached_predictions.pkl\n",
      "Model not specified in predict, will default to the model with the best validation score: WeightedEnsemble\n"
     ]
    },
    {
     "name": "stdout",
     "output_type": "stream",
     "text": [
      "hold\n",
      "hold\n"
     ]
    },
    {
     "name": "stderr",
     "output_type": "stream",
     "text": [
      "Prediction order: ['RecursiveTabular', 'DynamicOptimizedTheta', 'AutoETS', 'SeasonalNaive', 'WeightedEnsemble']\n",
      "Shortening all series to at most 1000002\n",
      "Shortening all time series to at most 2500\n",
      "Shortening all time series to at most 2500\n",
      "Shortening all time series to at most 2500\n",
      "Cached predictions saved to /Users/jiro/play/nstrade/notebooks/AutogluonModels/ag-20250517_112123/models/cached_predictions.pkl\n",
      "Model not specified in predict, will default to the model with the best validation score: WeightedEnsemble\n",
      "Prediction order: ['RecursiveTabular', 'DynamicOptimizedTheta', 'AutoETS', 'SeasonalNaive', 'WeightedEnsemble']\n",
      "Shortening all series to at most 1000002\n",
      "Shortening all time series to at most 2500\n",
      "Shortening all time series to at most 2500\n",
      "Shortening all time series to at most 2500\n"
     ]
    },
    {
     "name": "stdout",
     "output_type": "stream",
     "text": [
      "hold\n"
     ]
    },
    {
     "name": "stderr",
     "output_type": "stream",
     "text": [
      "Cached predictions saved to /Users/jiro/play/nstrade/notebooks/AutogluonModels/ag-20250517_112123/models/cached_predictions.pkl\n",
      "Model not specified in predict, will default to the model with the best validation score: WeightedEnsemble\n",
      "Prediction order: ['RecursiveTabular', 'DynamicOptimizedTheta', 'AutoETS', 'SeasonalNaive', 'WeightedEnsemble']\n",
      "Shortening all series to at most 1000002\n",
      "Shortening all time series to at most 2500\n",
      "Shortening all time series to at most 2500\n",
      "Shortening all time series to at most 2500\n",
      "Cached predictions saved to /Users/jiro/play/nstrade/notebooks/AutogluonModels/ag-20250517_112123/models/cached_predictions.pkl\n",
      "Model not specified in predict, will default to the model with the best validation score: WeightedEnsemble\n",
      "Prediction order: ['RecursiveTabular', 'DynamicOptimizedTheta', 'AutoETS', 'SeasonalNaive', 'WeightedEnsemble']\n",
      "Shortening all series to at most 1000002\n",
      "Shortening all time series to at most 2500\n"
     ]
    },
    {
     "name": "stdout",
     "output_type": "stream",
     "text": [
      "hold\n",
      "hold\n"
     ]
    },
    {
     "name": "stderr",
     "output_type": "stream",
     "text": [
      "Shortening all time series to at most 2500\n",
      "Shortening all time series to at most 2500\n",
      "Cached predictions saved to /Users/jiro/play/nstrade/notebooks/AutogluonModels/ag-20250517_112123/models/cached_predictions.pkl\n",
      "Model not specified in predict, will default to the model with the best validation score: WeightedEnsemble\n",
      "Prediction order: ['RecursiveTabular', 'DynamicOptimizedTheta', 'AutoETS', 'SeasonalNaive', 'WeightedEnsemble']\n",
      "Shortening all series to at most 1000002\n",
      "Shortening all time series to at most 2500\n",
      "Shortening all time series to at most 2500\n",
      "Shortening all time series to at most 2500\n",
      "Cached predictions saved to /Users/jiro/play/nstrade/notebooks/AutogluonModels/ag-20250517_112123/models/cached_predictions.pkl\n",
      "Model not specified in predict, will default to the model with the best validation score: WeightedEnsemble\n"
     ]
    },
    {
     "name": "stdout",
     "output_type": "stream",
     "text": [
      "hold\n",
      "hold\n"
     ]
    },
    {
     "name": "stderr",
     "output_type": "stream",
     "text": [
      "Prediction order: ['RecursiveTabular', 'DynamicOptimizedTheta', 'AutoETS', 'SeasonalNaive', 'WeightedEnsemble']\n",
      "Shortening all series to at most 1000002\n",
      "Shortening all time series to at most 2500\n",
      "Shortening all time series to at most 2500\n",
      "Shortening all time series to at most 2500\n",
      "Cached predictions saved to /Users/jiro/play/nstrade/notebooks/AutogluonModels/ag-20250517_112123/models/cached_predictions.pkl\n",
      "Model not specified in predict, will default to the model with the best validation score: WeightedEnsemble\n",
      "Prediction order: ['RecursiveTabular', 'DynamicOptimizedTheta', 'AutoETS', 'SeasonalNaive', 'WeightedEnsemble']\n",
      "Shortening all series to at most 1000002\n",
      "Shortening all time series to at most 2500\n",
      "Shortening all time series to at most 2500\n",
      "Shortening all time series to at most 2500\n",
      "Cached predictions saved to /Users/jiro/play/nstrade/notebooks/AutogluonModels/ag-20250517_112123/models/cached_predictions.pkl\n",
      "Model not specified in predict, will default to the model with the best validation score: WeightedEnsemble\n",
      "Prediction order: ['RecursiveTabular', 'DynamicOptimizedTheta', 'AutoETS', 'SeasonalNaive', 'WeightedEnsemble']\n",
      "Shortening all series to at most 1000002\n",
      "Shortening all time series to at most 2500\n"
     ]
    },
    {
     "name": "stdout",
     "output_type": "stream",
     "text": [
      "hold\n",
      "hold\n"
     ]
    },
    {
     "name": "stderr",
     "output_type": "stream",
     "text": [
      "Shortening all time series to at most 2500\n",
      "Shortening all time series to at most 2500\n",
      "Cached predictions saved to /Users/jiro/play/nstrade/notebooks/AutogluonModels/ag-20250517_112123/models/cached_predictions.pkl\n",
      "Model not specified in predict, will default to the model with the best validation score: WeightedEnsemble\n",
      "Prediction order: ['RecursiveTabular', 'DynamicOptimizedTheta', 'AutoETS', 'SeasonalNaive', 'WeightedEnsemble']\n",
      "Shortening all series to at most 1000002\n",
      "Shortening all time series to at most 2500\n",
      "Shortening all time series to at most 2500\n",
      "Shortening all time series to at most 2500\n"
     ]
    },
    {
     "name": "stdout",
     "output_type": "stream",
     "text": [
      "hold\n"
     ]
    },
    {
     "name": "stderr",
     "output_type": "stream",
     "text": [
      "Cached predictions saved to /Users/jiro/play/nstrade/notebooks/AutogluonModels/ag-20250517_112123/models/cached_predictions.pkl\n",
      "Model not specified in predict, will default to the model with the best validation score: WeightedEnsemble\n",
      "Prediction order: ['RecursiveTabular', 'DynamicOptimizedTheta', 'AutoETS', 'SeasonalNaive', 'WeightedEnsemble']\n",
      "Shortening all series to at most 1000002\n",
      "Shortening all time series to at most 2500\n",
      "Shortening all time series to at most 2500\n",
      "Shortening all time series to at most 2500\n",
      "Cached predictions saved to /Users/jiro/play/nstrade/notebooks/AutogluonModels/ag-20250517_112123/models/cached_predictions.pkl\n",
      "Model not specified in predict, will default to the model with the best validation score: WeightedEnsemble\n",
      "Prediction order: ['RecursiveTabular', 'DynamicOptimizedTheta', 'AutoETS', 'SeasonalNaive', 'WeightedEnsemble']\n",
      "Shortening all series to at most 1000002\n",
      "Shortening all time series to at most 2500\n"
     ]
    },
    {
     "name": "stdout",
     "output_type": "stream",
     "text": [
      "hold\n",
      "hold\n"
     ]
    },
    {
     "name": "stderr",
     "output_type": "stream",
     "text": [
      "Shortening all time series to at most 2500\n",
      "Shortening all time series to at most 2500\n",
      "Cached predictions saved to /Users/jiro/play/nstrade/notebooks/AutogluonModels/ag-20250517_112123/models/cached_predictions.pkl\n",
      "Model not specified in predict, will default to the model with the best validation score: WeightedEnsemble\n",
      "Prediction order: ['RecursiveTabular', 'DynamicOptimizedTheta', 'AutoETS', 'SeasonalNaive', 'WeightedEnsemble']\n",
      "Shortening all series to at most 1000002\n",
      "Shortening all time series to at most 2500\n",
      "Shortening all time series to at most 2500\n",
      "Shortening all time series to at most 2500\n",
      "Cached predictions saved to /Users/jiro/play/nstrade/notebooks/AutogluonModels/ag-20250517_112123/models/cached_predictions.pkl\n",
      "Model not specified in predict, will default to the model with the best validation score: WeightedEnsemble\n"
     ]
    },
    {
     "name": "stdout",
     "output_type": "stream",
     "text": [
      "hold\n",
      "hold\n"
     ]
    },
    {
     "name": "stderr",
     "output_type": "stream",
     "text": [
      "Prediction order: ['RecursiveTabular', 'DynamicOptimizedTheta', 'AutoETS', 'SeasonalNaive', 'WeightedEnsemble']\n",
      "Shortening all series to at most 1000002\n",
      "Shortening all time series to at most 2500\n",
      "Shortening all time series to at most 2500\n",
      "Shortening all time series to at most 2500\n",
      "Cached predictions saved to /Users/jiro/play/nstrade/notebooks/AutogluonModels/ag-20250517_112123/models/cached_predictions.pkl\n",
      "Model not specified in predict, will default to the model with the best validation score: WeightedEnsemble\n",
      "Prediction order: ['RecursiveTabular', 'DynamicOptimizedTheta', 'AutoETS', 'SeasonalNaive', 'WeightedEnsemble']\n",
      "Shortening all series to at most 1000002\n",
      "Shortening all time series to at most 2500\n",
      "Shortening all time series to at most 2500\n",
      "Shortening all time series to at most 2500\n",
      "Cached predictions saved to /Users/jiro/play/nstrade/notebooks/AutogluonModels/ag-20250517_112123/models/cached_predictions.pkl\n",
      "Model not specified in predict, will default to the model with the best validation score: WeightedEnsemble\n",
      "Prediction order: ['RecursiveTabular', 'DynamicOptimizedTheta', 'AutoETS', 'SeasonalNaive', 'WeightedEnsemble']\n",
      "Shortening all series to at most 1000002\n",
      "Shortening all time series to at most 2500\n"
     ]
    },
    {
     "name": "stdout",
     "output_type": "stream",
     "text": [
      "hold\n",
      "hold\n"
     ]
    },
    {
     "name": "stderr",
     "output_type": "stream",
     "text": [
      "Shortening all time series to at most 2500\n",
      "Shortening all time series to at most 2500\n",
      "Cached predictions saved to /Users/jiro/play/nstrade/notebooks/AutogluonModels/ag-20250517_112123/models/cached_predictions.pkl\n",
      "Model not specified in predict, will default to the model with the best validation score: WeightedEnsemble\n",
      "Prediction order: ['RecursiveTabular', 'DynamicOptimizedTheta', 'AutoETS', 'SeasonalNaive', 'WeightedEnsemble']\n",
      "Shortening all series to at most 1000002\n",
      "Shortening all time series to at most 2500\n"
     ]
    },
    {
     "name": "stdout",
     "output_type": "stream",
     "text": [
      "hold\n"
     ]
    },
    {
     "name": "stderr",
     "output_type": "stream",
     "text": [
      "Shortening all time series to at most 2500\n",
      "Shortening all time series to at most 2500\n",
      "Cached predictions saved to /Users/jiro/play/nstrade/notebooks/AutogluonModels/ag-20250517_112123/models/cached_predictions.pkl\n",
      "Model not specified in predict, will default to the model with the best validation score: WeightedEnsemble\n",
      "Prediction order: ['RecursiveTabular', 'DynamicOptimizedTheta', 'AutoETS', 'SeasonalNaive', 'WeightedEnsemble']\n",
      "Shortening all series to at most 1000002\n",
      "Shortening all time series to at most 2500\n",
      "Shortening all time series to at most 2500\n",
      "Shortening all time series to at most 2500\n",
      "Cached predictions saved to /Users/jiro/play/nstrade/notebooks/AutogluonModels/ag-20250517_112123/models/cached_predictions.pkl\n",
      "Model not specified in predict, will default to the model with the best validation score: WeightedEnsemble\n",
      "Prediction order: ['RecursiveTabular', 'DynamicOptimizedTheta', 'AutoETS', 'SeasonalNaive', 'WeightedEnsemble']\n",
      "Shortening all series to at most 1000002\n"
     ]
    },
    {
     "name": "stdout",
     "output_type": "stream",
     "text": [
      "hold\n",
      "hold\n"
     ]
    },
    {
     "name": "stderr",
     "output_type": "stream",
     "text": [
      "Shortening all time series to at most 2500\n",
      "Shortening all time series to at most 2500\n",
      "Shortening all time series to at most 2500\n",
      "Cached predictions saved to /Users/jiro/play/nstrade/notebooks/AutogluonModels/ag-20250517_112123/models/cached_predictions.pkl\n",
      "Model not specified in predict, will default to the model with the best validation score: WeightedEnsemble\n",
      "Prediction order: ['RecursiveTabular', 'DynamicOptimizedTheta', 'AutoETS', 'SeasonalNaive', 'WeightedEnsemble']\n",
      "Shortening all series to at most 1000002\n",
      "Shortening all time series to at most 2500\n"
     ]
    },
    {
     "name": "stdout",
     "output_type": "stream",
     "text": [
      "hold\n"
     ]
    },
    {
     "name": "stderr",
     "output_type": "stream",
     "text": [
      "Shortening all time series to at most 2500\n",
      "Shortening all time series to at most 2500\n",
      "Cached predictions saved to /Users/jiro/play/nstrade/notebooks/AutogluonModels/ag-20250517_112123/models/cached_predictions.pkl\n",
      "Model not specified in predict, will default to the model with the best validation score: WeightedEnsemble\n",
      "Prediction order: ['RecursiveTabular', 'DynamicOptimizedTheta', 'AutoETS', 'SeasonalNaive', 'WeightedEnsemble']\n",
      "Shortening all series to at most 1000002\n",
      "Shortening all time series to at most 2500\n",
      "Shortening all time series to at most 2500\n",
      "Shortening all time series to at most 2500\n",
      "Cached predictions saved to /Users/jiro/play/nstrade/notebooks/AutogluonModels/ag-20250517_112123/models/cached_predictions.pkl\n",
      "Model not specified in predict, will default to the model with the best validation score: WeightedEnsemble\n",
      "Prediction order: ['RecursiveTabular', 'DynamicOptimizedTheta', 'AutoETS', 'SeasonalNaive', 'WeightedEnsemble']\n",
      "Shortening all series to at most 1000002\n"
     ]
    },
    {
     "name": "stdout",
     "output_type": "stream",
     "text": [
      "hold\n",
      "hold\n"
     ]
    },
    {
     "name": "stderr",
     "output_type": "stream",
     "text": [
      "Shortening all time series to at most 2500\n",
      "Shortening all time series to at most 2500\n",
      "Shortening all time series to at most 2500\n",
      "Cached predictions saved to /Users/jiro/play/nstrade/notebooks/AutogluonModels/ag-20250517_112123/models/cached_predictions.pkl\n",
      "Model not specified in predict, will default to the model with the best validation score: WeightedEnsemble\n",
      "Prediction order: ['RecursiveTabular', 'DynamicOptimizedTheta', 'AutoETS', 'SeasonalNaive', 'WeightedEnsemble']\n",
      "Shortening all series to at most 1000002\n",
      "Shortening all time series to at most 2500\n"
     ]
    },
    {
     "name": "stdout",
     "output_type": "stream",
     "text": [
      "hold\n"
     ]
    },
    {
     "name": "stderr",
     "output_type": "stream",
     "text": [
      "Shortening all time series to at most 2500\n",
      "Shortening all time series to at most 2500\n",
      "Cached predictions saved to /Users/jiro/play/nstrade/notebooks/AutogluonModels/ag-20250517_112123/models/cached_predictions.pkl\n",
      "Model not specified in predict, will default to the model with the best validation score: WeightedEnsemble\n",
      "Prediction order: ['RecursiveTabular', 'DynamicOptimizedTheta', 'AutoETS', 'SeasonalNaive', 'WeightedEnsemble']\n",
      "Shortening all series to at most 1000002\n",
      "Shortening all time series to at most 2500\n",
      "Shortening all time series to at most 2500\n",
      "Shortening all time series to at most 2500\n",
      "Cached predictions saved to /Users/jiro/play/nstrade/notebooks/AutogluonModels/ag-20250517_112123/models/cached_predictions.pkl\n",
      "Model not specified in predict, will default to the model with the best validation score: WeightedEnsemble\n",
      "Prediction order: ['RecursiveTabular', 'DynamicOptimizedTheta', 'AutoETS', 'SeasonalNaive', 'WeightedEnsemble']\n",
      "Shortening all series to at most 1000002\n",
      "Shortening all time series to at most 2500\n"
     ]
    },
    {
     "name": "stdout",
     "output_type": "stream",
     "text": [
      "hold\n",
      "hold\n"
     ]
    },
    {
     "name": "stderr",
     "output_type": "stream",
     "text": [
      "Shortening all time series to at most 2500\n",
      "Shortening all time series to at most 2500\n",
      "Cached predictions saved to /Users/jiro/play/nstrade/notebooks/AutogluonModels/ag-20250517_112123/models/cached_predictions.pkl\n",
      "Model not specified in predict, will default to the model with the best validation score: WeightedEnsemble\n",
      "Prediction order: ['RecursiveTabular', 'DynamicOptimizedTheta', 'AutoETS', 'SeasonalNaive', 'WeightedEnsemble']\n",
      "Shortening all series to at most 1000002\n",
      "Shortening all time series to at most 2500\n",
      "Shortening all time series to at most 2500\n",
      "Shortening all time series to at most 2500\n",
      "Cached predictions saved to /Users/jiro/play/nstrade/notebooks/AutogluonModels/ag-20250517_112123/models/cached_predictions.pkl\n",
      "Model not specified in predict, will default to the model with the best validation score: WeightedEnsemble\n",
      "Prediction order: ['RecursiveTabular', 'DynamicOptimizedTheta', 'AutoETS', 'SeasonalNaive', 'WeightedEnsemble']\n",
      "Shortening all series to at most 1000002\n"
     ]
    },
    {
     "name": "stdout",
     "output_type": "stream",
     "text": [
      "hold\n",
      "hold\n"
     ]
    },
    {
     "name": "stderr",
     "output_type": "stream",
     "text": [
      "Shortening all time series to at most 2500\n",
      "Shortening all time series to at most 2500\n",
      "Shortening all time series to at most 2500\n",
      "Cached predictions saved to /Users/jiro/play/nstrade/notebooks/AutogluonModels/ag-20250517_112123/models/cached_predictions.pkl\n",
      "Model not specified in predict, will default to the model with the best validation score: WeightedEnsemble\n",
      "Prediction order: ['RecursiveTabular', 'DynamicOptimizedTheta', 'AutoETS', 'SeasonalNaive', 'WeightedEnsemble']\n",
      "Shortening all series to at most 1000002\n",
      "Shortening all time series to at most 2500\n",
      "Shortening all time series to at most 2500\n",
      "Shortening all time series to at most 2500\n"
     ]
    },
    {
     "name": "stdout",
     "output_type": "stream",
     "text": [
      "hold\n"
     ]
    },
    {
     "name": "stderr",
     "output_type": "stream",
     "text": [
      "Cached predictions saved to /Users/jiro/play/nstrade/notebooks/AutogluonModels/ag-20250517_112123/models/cached_predictions.pkl\n",
      "Model not specified in predict, will default to the model with the best validation score: WeightedEnsemble\n",
      "Prediction order: ['RecursiveTabular', 'DynamicOptimizedTheta', 'AutoETS', 'SeasonalNaive', 'WeightedEnsemble']\n",
      "Shortening all series to at most 1000002\n",
      "Shortening all time series to at most 2500\n",
      "Shortening all time series to at most 2500\n",
      "Shortening all time series to at most 2500\n",
      "Cached predictions saved to /Users/jiro/play/nstrade/notebooks/AutogluonModels/ag-20250517_112123/models/cached_predictions.pkl\n",
      "Model not specified in predict, will default to the model with the best validation score: WeightedEnsemble\n",
      "Prediction order: ['RecursiveTabular', 'DynamicOptimizedTheta', 'AutoETS', 'SeasonalNaive', 'WeightedEnsemble']\n",
      "Shortening all series to at most 1000002\n"
     ]
    },
    {
     "name": "stdout",
     "output_type": "stream",
     "text": [
      "hold\n",
      "hold\n"
     ]
    },
    {
     "name": "stderr",
     "output_type": "stream",
     "text": [
      "Shortening all time series to at most 2500\n",
      "Shortening all time series to at most 2500\n",
      "Shortening all time series to at most 2500\n",
      "Cached predictions saved to /Users/jiro/play/nstrade/notebooks/AutogluonModels/ag-20250517_112123/models/cached_predictions.pkl\n",
      "Model not specified in predict, will default to the model with the best validation score: WeightedEnsemble\n",
      "Prediction order: ['RecursiveTabular', 'DynamicOptimizedTheta', 'AutoETS', 'SeasonalNaive', 'WeightedEnsemble']\n",
      "Shortening all series to at most 1000002\n",
      "Shortening all time series to at most 2500\n",
      "Shortening all time series to at most 2500\n",
      "Shortening all time series to at most 2500\n"
     ]
    },
    {
     "name": "stdout",
     "output_type": "stream",
     "text": [
      "hold\n"
     ]
    },
    {
     "name": "stderr",
     "output_type": "stream",
     "text": [
      "Cached predictions saved to /Users/jiro/play/nstrade/notebooks/AutogluonModels/ag-20250517_112123/models/cached_predictions.pkl\n",
      "Model not specified in predict, will default to the model with the best validation score: WeightedEnsemble\n",
      "Prediction order: ['RecursiveTabular', 'DynamicOptimizedTheta', 'AutoETS', 'SeasonalNaive', 'WeightedEnsemble']\n",
      "Shortening all series to at most 1000002\n",
      "Shortening all time series to at most 2500\n",
      "Shortening all time series to at most 2500\n",
      "Shortening all time series to at most 2500\n",
      "Cached predictions saved to /Users/jiro/play/nstrade/notebooks/AutogluonModels/ag-20250517_112123/models/cached_predictions.pkl\n",
      "Model not specified in predict, will default to the model with the best validation score: WeightedEnsemble\n",
      "Prediction order: ['RecursiveTabular', 'DynamicOptimizedTheta', 'AutoETS', 'SeasonalNaive', 'WeightedEnsemble']\n",
      "Shortening all series to at most 1000002\n"
     ]
    },
    {
     "name": "stdout",
     "output_type": "stream",
     "text": [
      "hold\n",
      "hold\n"
     ]
    },
    {
     "name": "stderr",
     "output_type": "stream",
     "text": [
      "Shortening all time series to at most 2500\n",
      "Shortening all time series to at most 2500\n",
      "Shortening all time series to at most 2500\n",
      "Cached predictions saved to /Users/jiro/play/nstrade/notebooks/AutogluonModels/ag-20250517_112123/models/cached_predictions.pkl\n",
      "Model not specified in predict, will default to the model with the best validation score: WeightedEnsemble\n",
      "Prediction order: ['RecursiveTabular', 'DynamicOptimizedTheta', 'AutoETS', 'SeasonalNaive', 'WeightedEnsemble']\n",
      "Shortening all series to at most 1000002\n",
      "Shortening all time series to at most 2500\n",
      "Shortening all time series to at most 2500\n",
      "Shortening all time series to at most 2500\n"
     ]
    },
    {
     "name": "stdout",
     "output_type": "stream",
     "text": [
      "hold\n"
     ]
    },
    {
     "name": "stderr",
     "output_type": "stream",
     "text": [
      "Cached predictions saved to /Users/jiro/play/nstrade/notebooks/AutogluonModels/ag-20250517_112123/models/cached_predictions.pkl\n",
      "Model not specified in predict, will default to the model with the best validation score: WeightedEnsemble\n",
      "Prediction order: ['RecursiveTabular', 'DynamicOptimizedTheta', 'AutoETS', 'SeasonalNaive', 'WeightedEnsemble']\n",
      "Shortening all series to at most 1000002\n",
      "Shortening all time series to at most 2500\n",
      "Shortening all time series to at most 2500\n",
      "Shortening all time series to at most 2500\n",
      "Cached predictions saved to /Users/jiro/play/nstrade/notebooks/AutogluonModels/ag-20250517_112123/models/cached_predictions.pkl\n",
      "Model not specified in predict, will default to the model with the best validation score: WeightedEnsemble\n",
      "Prediction order: ['RecursiveTabular', 'DynamicOptimizedTheta', 'AutoETS', 'SeasonalNaive', 'WeightedEnsemble']\n",
      "Shortening all series to at most 1000002\n"
     ]
    },
    {
     "name": "stdout",
     "output_type": "stream",
     "text": [
      "hold\n",
      "hold\n"
     ]
    },
    {
     "name": "stderr",
     "output_type": "stream",
     "text": [
      "Shortening all time series to at most 2500\n",
      "Shortening all time series to at most 2500\n",
      "Shortening all time series to at most 2500\n",
      "Cached predictions saved to /Users/jiro/play/nstrade/notebooks/AutogluonModels/ag-20250517_112123/models/cached_predictions.pkl\n",
      "Model not specified in predict, will default to the model with the best validation score: WeightedEnsemble\n",
      "Prediction order: ['RecursiveTabular', 'DynamicOptimizedTheta', 'AutoETS', 'SeasonalNaive', 'WeightedEnsemble']\n",
      "Shortening all series to at most 1000002\n"
     ]
    },
    {
     "name": "stdout",
     "output_type": "stream",
     "text": [
      "hold\n"
     ]
    },
    {
     "name": "stderr",
     "output_type": "stream",
     "text": [
      "Shortening all time series to at most 2500\n",
      "Shortening all time series to at most 2500\n",
      "Shortening all time series to at most 2500\n",
      "Cached predictions saved to /Users/jiro/play/nstrade/notebooks/AutogluonModels/ag-20250517_112123/models/cached_predictions.pkl\n",
      "Model not specified in predict, will default to the model with the best validation score: WeightedEnsemble\n",
      "Prediction order: ['RecursiveTabular', 'DynamicOptimizedTheta', 'AutoETS', 'SeasonalNaive', 'WeightedEnsemble']\n",
      "Shortening all series to at most 1000002\n",
      "Shortening all time series to at most 2500\n",
      "Shortening all time series to at most 2500\n",
      "Shortening all time series to at most 2500\n"
     ]
    },
    {
     "name": "stdout",
     "output_type": "stream",
     "text": [
      "hold\n"
     ]
    },
    {
     "name": "stderr",
     "output_type": "stream",
     "text": [
      "Cached predictions saved to /Users/jiro/play/nstrade/notebooks/AutogluonModels/ag-20250517_112123/models/cached_predictions.pkl\n",
      "Model not specified in predict, will default to the model with the best validation score: WeightedEnsemble\n",
      "Prediction order: ['RecursiveTabular', 'DynamicOptimizedTheta', 'AutoETS', 'SeasonalNaive', 'WeightedEnsemble']\n",
      "Shortening all series to at most 1000002\n",
      "Shortening all time series to at most 2500\n",
      "Shortening all time series to at most 2500\n",
      "Shortening all time series to at most 2500\n"
     ]
    },
    {
     "name": "stdout",
     "output_type": "stream",
     "text": [
      "hold\n"
     ]
    },
    {
     "name": "stderr",
     "output_type": "stream",
     "text": [
      "Cached predictions saved to /Users/jiro/play/nstrade/notebooks/AutogluonModels/ag-20250517_112123/models/cached_predictions.pkl\n",
      "Model not specified in predict, will default to the model with the best validation score: WeightedEnsemble\n",
      "Prediction order: ['RecursiveTabular', 'DynamicOptimizedTheta', 'AutoETS', 'SeasonalNaive', 'WeightedEnsemble']\n",
      "Shortening all series to at most 1000002\n",
      "Shortening all time series to at most 2500\n",
      "Shortening all time series to at most 2500\n",
      "Shortening all time series to at most 2500\n",
      "Cached predictions saved to /Users/jiro/play/nstrade/notebooks/AutogluonModels/ag-20250517_112123/models/cached_predictions.pkl\n",
      "Model not specified in predict, will default to the model with the best validation score: WeightedEnsemble\n"
     ]
    },
    {
     "name": "stdout",
     "output_type": "stream",
     "text": [
      "hold\n",
      "hold\n"
     ]
    },
    {
     "name": "stderr",
     "output_type": "stream",
     "text": [
      "Prediction order: ['RecursiveTabular', 'DynamicOptimizedTheta', 'AutoETS', 'SeasonalNaive', 'WeightedEnsemble']\n",
      "Shortening all series to at most 1000002\n",
      "Shortening all time series to at most 2500\n",
      "Shortening all time series to at most 2500\n",
      "Shortening all time series to at most 2500\n",
      "Cached predictions saved to /Users/jiro/play/nstrade/notebooks/AutogluonModels/ag-20250517_112123/models/cached_predictions.pkl\n",
      "Model not specified in predict, will default to the model with the best validation score: WeightedEnsemble\n",
      "Prediction order: ['RecursiveTabular', 'DynamicOptimizedTheta', 'AutoETS', 'SeasonalNaive', 'WeightedEnsemble']\n",
      "Shortening all series to at most 1000002\n",
      "Shortening all time series to at most 2500\n"
     ]
    },
    {
     "name": "stdout",
     "output_type": "stream",
     "text": [
      "hold\n"
     ]
    },
    {
     "name": "stderr",
     "output_type": "stream",
     "text": [
      "Shortening all time series to at most 2500\n",
      "Shortening all time series to at most 2500\n",
      "Cached predictions saved to /Users/jiro/play/nstrade/notebooks/AutogluonModels/ag-20250517_112123/models/cached_predictions.pkl\n",
      "Model not specified in predict, will default to the model with the best validation score: WeightedEnsemble\n",
      "Prediction order: ['RecursiveTabular', 'DynamicOptimizedTheta', 'AutoETS', 'SeasonalNaive', 'WeightedEnsemble']\n",
      "Shortening all series to at most 1000002\n",
      "Shortening all time series to at most 2500\n",
      "Shortening all time series to at most 2500\n",
      "Shortening all time series to at most 2500\n",
      "Cached predictions saved to /Users/jiro/play/nstrade/notebooks/AutogluonModels/ag-20250517_112123/models/cached_predictions.pkl\n",
      "Model not specified in predict, will default to the model with the best validation score: WeightedEnsemble\n"
     ]
    },
    {
     "name": "stdout",
     "output_type": "stream",
     "text": [
      "hold\n",
      "hold\n"
     ]
    },
    {
     "name": "stderr",
     "output_type": "stream",
     "text": [
      "Prediction order: ['RecursiveTabular', 'DynamicOptimizedTheta', 'AutoETS', 'SeasonalNaive', 'WeightedEnsemble']\n",
      "Shortening all series to at most 1000002\n",
      "Shortening all time series to at most 2500\n",
      "Shortening all time series to at most 2500\n",
      "Shortening all time series to at most 2500\n",
      "Cached predictions saved to /Users/jiro/play/nstrade/notebooks/AutogluonModels/ag-20250517_112123/models/cached_predictions.pkl\n",
      "Model not specified in predict, will default to the model with the best validation score: WeightedEnsemble\n",
      "Prediction order: ['RecursiveTabular', 'DynamicOptimizedTheta', 'AutoETS', 'SeasonalNaive', 'WeightedEnsemble']\n",
      "Shortening all series to at most 1000002\n",
      "Shortening all time series to at most 2500\n",
      "Shortening all time series to at most 2500\n",
      "Shortening all time series to at most 2500\n",
      "Cached predictions saved to /Users/jiro/play/nstrade/notebooks/AutogluonModels/ag-20250517_112123/models/cached_predictions.pkl\n",
      "Model not specified in predict, will default to the model with the best validation score: WeightedEnsemble\n"
     ]
    },
    {
     "name": "stdout",
     "output_type": "stream",
     "text": [
      "hold\n",
      "hold\n"
     ]
    },
    {
     "name": "stderr",
     "output_type": "stream",
     "text": [
      "Prediction order: ['RecursiveTabular', 'DynamicOptimizedTheta', 'AutoETS', 'SeasonalNaive', 'WeightedEnsemble']\n",
      "Shortening all series to at most 1000002\n",
      "Shortening all time series to at most 2500\n",
      "Shortening all time series to at most 2500\n",
      "Shortening all time series to at most 2500\n",
      "Cached predictions saved to /Users/jiro/play/nstrade/notebooks/AutogluonModels/ag-20250517_112123/models/cached_predictions.pkl\n",
      "Model not specified in predict, will default to the model with the best validation score: WeightedEnsemble\n",
      "Prediction order: ['RecursiveTabular', 'DynamicOptimizedTheta', 'AutoETS', 'SeasonalNaive', 'WeightedEnsemble']\n"
     ]
    },
    {
     "name": "stdout",
     "output_type": "stream",
     "text": [
      "hold\n"
     ]
    },
    {
     "name": "stderr",
     "output_type": "stream",
     "text": [
      "Shortening all series to at most 1000002\n",
      "Shortening all time series to at most 2500\n",
      "Shortening all time series to at most 2500\n",
      "Shortening all time series to at most 2500\n",
      "Cached predictions saved to /Users/jiro/play/nstrade/notebooks/AutogluonModels/ag-20250517_112123/models/cached_predictions.pkl\n",
      "Model not specified in predict, will default to the model with the best validation score: WeightedEnsemble\n",
      "Prediction order: ['RecursiveTabular', 'DynamicOptimizedTheta', 'AutoETS', 'SeasonalNaive', 'WeightedEnsemble']\n",
      "Shortening all series to at most 1000002\n",
      "Shortening all time series to at most 2500\n",
      "Shortening all time series to at most 2500\n",
      "Shortening all time series to at most 2500\n",
      "Cached predictions saved to /Users/jiro/play/nstrade/notebooks/AutogluonModels/ag-20250517_112123/models/cached_predictions.pkl\n",
      "Model not specified in predict, will default to the model with the best validation score: WeightedEnsemble\n"
     ]
    },
    {
     "name": "stdout",
     "output_type": "stream",
     "text": [
      "hold\n",
      "hold\n"
     ]
    },
    {
     "name": "stderr",
     "output_type": "stream",
     "text": [
      "Prediction order: ['RecursiveTabular', 'DynamicOptimizedTheta', 'AutoETS', 'SeasonalNaive', 'WeightedEnsemble']\n",
      "Shortening all series to at most 1000002\n",
      "Shortening all time series to at most 2500\n",
      "Shortening all time series to at most 2500\n",
      "Shortening all time series to at most 2500\n",
      "Cached predictions saved to /Users/jiro/play/nstrade/notebooks/AutogluonModels/ag-20250517_112123/models/cached_predictions.pkl\n",
      "Model not specified in predict, will default to the model with the best validation score: WeightedEnsemble\n",
      "Prediction order: ['RecursiveTabular', 'DynamicOptimizedTheta', 'AutoETS', 'SeasonalNaive', 'WeightedEnsemble']\n",
      "Shortening all series to at most 1000002\n",
      "Shortening all time series to at most 2500\n",
      "Shortening all time series to at most 2500\n",
      "Shortening all time series to at most 2500\n",
      "Cached predictions saved to /Users/jiro/play/nstrade/notebooks/AutogluonModels/ag-20250517_112123/models/cached_predictions.pkl\n",
      "Model not specified in predict, will default to the model with the best validation score: WeightedEnsemble\n"
     ]
    },
    {
     "name": "stdout",
     "output_type": "stream",
     "text": [
      "hold\n",
      "hold\n"
     ]
    },
    {
     "name": "stderr",
     "output_type": "stream",
     "text": [
      "Prediction order: ['RecursiveTabular', 'DynamicOptimizedTheta', 'AutoETS', 'SeasonalNaive', 'WeightedEnsemble']\n",
      "Shortening all series to at most 1000002\n",
      "Shortening all time series to at most 2500\n",
      "Shortening all time series to at most 2500\n",
      "Shortening all time series to at most 2500\n",
      "Cached predictions saved to /Users/jiro/play/nstrade/notebooks/AutogluonModels/ag-20250517_112123/models/cached_predictions.pkl\n",
      "Model not specified in predict, will default to the model with the best validation score: WeightedEnsemble\n",
      "Prediction order: ['RecursiveTabular', 'DynamicOptimizedTheta', 'AutoETS', 'SeasonalNaive', 'WeightedEnsemble']\n",
      "Shortening all series to at most 1000002\n"
     ]
    },
    {
     "name": "stdout",
     "output_type": "stream",
     "text": [
      "hold\n"
     ]
    },
    {
     "name": "stderr",
     "output_type": "stream",
     "text": [
      "Shortening all time series to at most 2500\n",
      "Shortening all time series to at most 2500\n",
      "Shortening all time series to at most 2500\n",
      "Cached predictions saved to /Users/jiro/play/nstrade/notebooks/AutogluonModels/ag-20250517_112123/models/cached_predictions.pkl\n",
      "Model not specified in predict, will default to the model with the best validation score: WeightedEnsemble\n",
      "Prediction order: ['RecursiveTabular', 'DynamicOptimizedTheta', 'AutoETS', 'SeasonalNaive', 'WeightedEnsemble']\n",
      "Shortening all series to at most 1000002\n",
      "Shortening all time series to at most 2500\n",
      "Shortening all time series to at most 2500\n",
      "Shortening all time series to at most 2500\n"
     ]
    },
    {
     "name": "stdout",
     "output_type": "stream",
     "text": [
      "hold\n"
     ]
    },
    {
     "name": "stderr",
     "output_type": "stream",
     "text": [
      "Cached predictions saved to /Users/jiro/play/nstrade/notebooks/AutogluonModels/ag-20250517_112123/models/cached_predictions.pkl\n",
      "Model not specified in predict, will default to the model with the best validation score: WeightedEnsemble\n",
      "Prediction order: ['RecursiveTabular', 'DynamicOptimizedTheta', 'AutoETS', 'SeasonalNaive', 'WeightedEnsemble']\n",
      "Shortening all series to at most 1000002\n",
      "Shortening all time series to at most 2500\n",
      "Shortening all time series to at most 2500\n",
      "Shortening all time series to at most 2500\n"
     ]
    },
    {
     "name": "stdout",
     "output_type": "stream",
     "text": [
      "hold\n"
     ]
    },
    {
     "name": "stderr",
     "output_type": "stream",
     "text": [
      "Cached predictions saved to /Users/jiro/play/nstrade/notebooks/AutogluonModels/ag-20250517_112123/models/cached_predictions.pkl\n",
      "Model not specified in predict, will default to the model with the best validation score: WeightedEnsemble\n",
      "Prediction order: ['RecursiveTabular', 'DynamicOptimizedTheta', 'AutoETS', 'SeasonalNaive', 'WeightedEnsemble']\n",
      "Shortening all series to at most 1000002\n",
      "Shortening all time series to at most 2500\n",
      "Shortening all time series to at most 2500\n",
      "Shortening all time series to at most 2500\n"
     ]
    },
    {
     "name": "stdout",
     "output_type": "stream",
     "text": [
      "hold\n"
     ]
    },
    {
     "name": "stderr",
     "output_type": "stream",
     "text": [
      "Cached predictions saved to /Users/jiro/play/nstrade/notebooks/AutogluonModels/ag-20250517_112123/models/cached_predictions.pkl\n",
      "Model not specified in predict, will default to the model with the best validation score: WeightedEnsemble\n",
      "Prediction order: ['RecursiveTabular', 'DynamicOptimizedTheta', 'AutoETS', 'SeasonalNaive', 'WeightedEnsemble']\n",
      "Shortening all series to at most 1000002\n",
      "Shortening all time series to at most 2500\n",
      "Shortening all time series to at most 2500\n",
      "Shortening all time series to at most 2500\n"
     ]
    },
    {
     "name": "stdout",
     "output_type": "stream",
     "text": [
      "hold\n"
     ]
    },
    {
     "name": "stderr",
     "output_type": "stream",
     "text": [
      "Cached predictions saved to /Users/jiro/play/nstrade/notebooks/AutogluonModels/ag-20250517_112123/models/cached_predictions.pkl\n",
      "Model not specified in predict, will default to the model with the best validation score: WeightedEnsemble\n",
      "Prediction order: ['RecursiveTabular', 'DynamicOptimizedTheta', 'AutoETS', 'SeasonalNaive', 'WeightedEnsemble']\n",
      "Shortening all series to at most 1000002\n",
      "Shortening all time series to at most 2500\n",
      "Shortening all time series to at most 2500\n",
      "Shortening all time series to at most 2500\n",
      "Cached predictions saved to /Users/jiro/play/nstrade/notebooks/AutogluonModels/ag-20250517_112123/models/cached_predictions.pkl\n",
      "Model not specified in predict, will default to the model with the best validation score: WeightedEnsemble\n"
     ]
    },
    {
     "name": "stdout",
     "output_type": "stream",
     "text": [
      "hold\n",
      "hold\n"
     ]
    },
    {
     "name": "stderr",
     "output_type": "stream",
     "text": [
      "Prediction order: ['RecursiveTabular', 'DynamicOptimizedTheta', 'AutoETS', 'SeasonalNaive', 'WeightedEnsemble']\n",
      "Shortening all series to at most 1000002\n",
      "Shortening all time series to at most 2500\n",
      "Shortening all time series to at most 2500\n",
      "Shortening all time series to at most 2500\n",
      "Cached predictions saved to /Users/jiro/play/nstrade/notebooks/AutogluonModels/ag-20250517_112123/models/cached_predictions.pkl\n",
      "Model not specified in predict, will default to the model with the best validation score: WeightedEnsemble\n",
      "Prediction order: ['RecursiveTabular', 'DynamicOptimizedTheta', 'AutoETS', 'SeasonalNaive', 'WeightedEnsemble']\n"
     ]
    },
    {
     "name": "stdout",
     "output_type": "stream",
     "text": [
      "hold\n"
     ]
    },
    {
     "name": "stderr",
     "output_type": "stream",
     "text": [
      "Shortening all series to at most 1000002\n",
      "Shortening all time series to at most 2500\n",
      "Shortening all time series to at most 2500\n",
      "Shortening all time series to at most 2500\n",
      "Cached predictions saved to /Users/jiro/play/nstrade/notebooks/AutogluonModels/ag-20250517_112123/models/cached_predictions.pkl\n",
      "Model not specified in predict, will default to the model with the best validation score: WeightedEnsemble\n",
      "Prediction order: ['RecursiveTabular', 'DynamicOptimizedTheta', 'AutoETS', 'SeasonalNaive', 'WeightedEnsemble']\n",
      "Shortening all series to at most 1000002\n",
      "Shortening all time series to at most 2500\n",
      "Shortening all time series to at most 2500\n",
      "Shortening all time series to at most 2500\n",
      "Cached predictions saved to /Users/jiro/play/nstrade/notebooks/AutogluonModels/ag-20250517_112123/models/cached_predictions.pkl\n",
      "Model not specified in predict, will default to the model with the best validation score: WeightedEnsemble\n"
     ]
    },
    {
     "name": "stdout",
     "output_type": "stream",
     "text": [
      "hold\n",
      "hold\n"
     ]
    },
    {
     "name": "stderr",
     "output_type": "stream",
     "text": [
      "Prediction order: ['RecursiveTabular', 'DynamicOptimizedTheta', 'AutoETS', 'SeasonalNaive', 'WeightedEnsemble']\n",
      "Shortening all series to at most 1000002\n",
      "Shortening all time series to at most 2500\n",
      "Shortening all time series to at most 2500\n",
      "Shortening all time series to at most 2500\n",
      "Cached predictions saved to /Users/jiro/play/nstrade/notebooks/AutogluonModels/ag-20250517_112123/models/cached_predictions.pkl\n",
      "Model not specified in predict, will default to the model with the best validation score: WeightedEnsemble\n",
      "Prediction order: ['RecursiveTabular', 'DynamicOptimizedTheta', 'AutoETS', 'SeasonalNaive', 'WeightedEnsemble']\n",
      "Shortening all series to at most 1000002\n",
      "Shortening all time series to at most 2500\n",
      "Shortening all time series to at most 2500\n",
      "Shortening all time series to at most 2500\n",
      "Cached predictions saved to /Users/jiro/play/nstrade/notebooks/AutogluonModels/ag-20250517_112123/models/cached_predictions.pkl\n",
      "Model not specified in predict, will default to the model with the best validation score: WeightedEnsemble\n"
     ]
    },
    {
     "name": "stdout",
     "output_type": "stream",
     "text": [
      "hold\n",
      "hold\n"
     ]
    },
    {
     "name": "stderr",
     "output_type": "stream",
     "text": [
      "Prediction order: ['RecursiveTabular', 'DynamicOptimizedTheta', 'AutoETS', 'SeasonalNaive', 'WeightedEnsemble']\n",
      "Shortening all series to at most 1000002\n",
      "Shortening all time series to at most 2500\n",
      "Shortening all time series to at most 2500\n",
      "Shortening all time series to at most 2500\n",
      "Cached predictions saved to /Users/jiro/play/nstrade/notebooks/AutogluonModels/ag-20250517_112123/models/cached_predictions.pkl\n",
      "Model not specified in predict, will default to the model with the best validation score: WeightedEnsemble\n",
      "Prediction order: ['RecursiveTabular', 'DynamicOptimizedTheta', 'AutoETS', 'SeasonalNaive', 'WeightedEnsemble']\n",
      "Shortening all series to at most 1000002\n",
      "Shortening all time series to at most 2500\n",
      "Shortening all time series to at most 2500\n",
      "Shortening all time series to at most 2500\n",
      "Cached predictions saved to /Users/jiro/play/nstrade/notebooks/AutogluonModels/ag-20250517_112123/models/cached_predictions.pkl\n",
      "Model not specified in predict, will default to the model with the best validation score: WeightedEnsemble\n"
     ]
    },
    {
     "name": "stdout",
     "output_type": "stream",
     "text": [
      "hold\n",
      "hold\n"
     ]
    },
    {
     "name": "stderr",
     "output_type": "stream",
     "text": [
      "Prediction order: ['RecursiveTabular', 'DynamicOptimizedTheta', 'AutoETS', 'SeasonalNaive', 'WeightedEnsemble']\n",
      "Shortening all series to at most 1000002\n",
      "Shortening all time series to at most 2500\n",
      "Shortening all time series to at most 2500\n",
      "Shortening all time series to at most 2500\n",
      "Cached predictions saved to /Users/jiro/play/nstrade/notebooks/AutogluonModels/ag-20250517_112123/models/cached_predictions.pkl\n",
      "Model not specified in predict, will default to the model with the best validation score: WeightedEnsemble\n",
      "Prediction order: ['RecursiveTabular', 'DynamicOptimizedTheta', 'AutoETS', 'SeasonalNaive', 'WeightedEnsemble']\n",
      "Shortening all series to at most 1000002\n",
      "Shortening all time series to at most 2500\n",
      "Shortening all time series to at most 2500\n",
      "Shortening all time series to at most 2500\n",
      "Cached predictions saved to /Users/jiro/play/nstrade/notebooks/AutogluonModels/ag-20250517_112123/models/cached_predictions.pkl\n",
      "Model not specified in predict, will default to the model with the best validation score: WeightedEnsemble\n"
     ]
    },
    {
     "name": "stdout",
     "output_type": "stream",
     "text": [
      "hold\n",
      "hold\n"
     ]
    },
    {
     "name": "stderr",
     "output_type": "stream",
     "text": [
      "Prediction order: ['RecursiveTabular', 'DynamicOptimizedTheta', 'AutoETS', 'SeasonalNaive', 'WeightedEnsemble']\n",
      "Shortening all series to at most 1000002\n",
      "Shortening all time series to at most 2500\n",
      "Shortening all time series to at most 2500\n",
      "Shortening all time series to at most 2500\n",
      "Cached predictions saved to /Users/jiro/play/nstrade/notebooks/AutogluonModels/ag-20250517_112123/models/cached_predictions.pkl\n",
      "Model not specified in predict, will default to the model with the best validation score: WeightedEnsemble\n",
      "Prediction order: ['RecursiveTabular', 'DynamicOptimizedTheta', 'AutoETS', 'SeasonalNaive', 'WeightedEnsemble']\n",
      "Shortening all series to at most 1000002\n"
     ]
    },
    {
     "name": "stdout",
     "output_type": "stream",
     "text": [
      "hold\n"
     ]
    },
    {
     "name": "stderr",
     "output_type": "stream",
     "text": [
      "Shortening all time series to at most 2500\n",
      "Shortening all time series to at most 2500\n",
      "Shortening all time series to at most 2500\n",
      "Cached predictions saved to /Users/jiro/play/nstrade/notebooks/AutogluonModels/ag-20250517_112123/models/cached_predictions.pkl\n",
      "Model not specified in predict, will default to the model with the best validation score: WeightedEnsemble\n",
      "Prediction order: ['RecursiveTabular', 'DynamicOptimizedTheta', 'AutoETS', 'SeasonalNaive', 'WeightedEnsemble']\n",
      "Shortening all series to at most 1000002\n",
      "Shortening all time series to at most 2500\n",
      "Shortening all time series to at most 2500\n",
      "Shortening all time series to at most 2500\n",
      "Cached predictions saved to /Users/jiro/play/nstrade/notebooks/AutogluonModels/ag-20250517_112123/models/cached_predictions.pkl\n",
      "Model not specified in predict, will default to the model with the best validation score: WeightedEnsemble\n"
     ]
    },
    {
     "name": "stdout",
     "output_type": "stream",
     "text": [
      "hold\n",
      "hold\n"
     ]
    },
    {
     "name": "stderr",
     "output_type": "stream",
     "text": [
      "Prediction order: ['RecursiveTabular', 'DynamicOptimizedTheta', 'AutoETS', 'SeasonalNaive', 'WeightedEnsemble']\n",
      "Shortening all series to at most 1000002\n",
      "Shortening all time series to at most 2500\n",
      "Shortening all time series to at most 2500\n",
      "Shortening all time series to at most 2500\n",
      "Cached predictions saved to /Users/jiro/play/nstrade/notebooks/AutogluonModels/ag-20250517_112123/models/cached_predictions.pkl\n",
      "Model not specified in predict, will default to the model with the best validation score: WeightedEnsemble\n",
      "Prediction order: ['RecursiveTabular', 'DynamicOptimizedTheta', 'AutoETS', 'SeasonalNaive', 'WeightedEnsemble']\n",
      "Shortening all series to at most 1000002\n",
      "Shortening all time series to at most 2500\n",
      "Shortening all time series to at most 2500\n",
      "Shortening all time series to at most 2500\n",
      "Cached predictions saved to /Users/jiro/play/nstrade/notebooks/AutogluonModels/ag-20250517_112123/models/cached_predictions.pkl\n"
     ]
    },
    {
     "name": "stdout",
     "output_type": "stream",
     "text": [
      "hold\n",
      "hold\n"
     ]
    },
    {
     "name": "stderr",
     "output_type": "stream",
     "text": [
      "Model not specified in predict, will default to the model with the best validation score: WeightedEnsemble\n",
      "Prediction order: ['RecursiveTabular', 'DynamicOptimizedTheta', 'AutoETS', 'SeasonalNaive', 'WeightedEnsemble']\n",
      "Shortening all series to at most 1000002\n",
      "Shortening all time series to at most 2500\n",
      "Shortening all time series to at most 2500\n",
      "Shortening all time series to at most 2500\n",
      "Cached predictions saved to /Users/jiro/play/nstrade/notebooks/AutogluonModels/ag-20250517_112123/models/cached_predictions.pkl\n",
      "Model not specified in predict, will default to the model with the best validation score: WeightedEnsemble\n",
      "Prediction order: ['RecursiveTabular', 'DynamicOptimizedTheta', 'AutoETS', 'SeasonalNaive', 'WeightedEnsemble']\n",
      "Shortening all series to at most 1000002\n",
      "Shortening all time series to at most 2500\n",
      "Shortening all time series to at most 2500\n",
      "Shortening all time series to at most 2500\n",
      "Cached predictions saved to /Users/jiro/play/nstrade/notebooks/AutogluonModels/ag-20250517_112123/models/cached_predictions.pkl\n",
      "Model not specified in predict, will default to the model with the best validation score: WeightedEnsemble\n"
     ]
    },
    {
     "name": "stdout",
     "output_type": "stream",
     "text": [
      "hold\n",
      "hold\n"
     ]
    },
    {
     "name": "stderr",
     "output_type": "stream",
     "text": [
      "Prediction order: ['RecursiveTabular', 'DynamicOptimizedTheta', 'AutoETS', 'SeasonalNaive', 'WeightedEnsemble']\n",
      "Shortening all series to at most 1000002\n",
      "Shortening all time series to at most 2500\n",
      "Shortening all time series to at most 2500\n",
      "Shortening all time series to at most 2500\n",
      "Cached predictions saved to /Users/jiro/play/nstrade/notebooks/AutogluonModels/ag-20250517_112123/models/cached_predictions.pkl\n",
      "Model not specified in predict, will default to the model with the best validation score: WeightedEnsemble\n",
      "Prediction order: ['RecursiveTabular', 'DynamicOptimizedTheta', 'AutoETS', 'SeasonalNaive', 'WeightedEnsemble']\n",
      "Shortening all series to at most 1000002\n",
      "Shortening all time series to at most 2500\n",
      "Shortening all time series to at most 2500\n",
      "Shortening all time series to at most 2500\n",
      "Cached predictions saved to /Users/jiro/play/nstrade/notebooks/AutogluonModels/ag-20250517_112123/models/cached_predictions.pkl\n",
      "Model not specified in predict, will default to the model with the best validation score: WeightedEnsemble\n"
     ]
    },
    {
     "name": "stdout",
     "output_type": "stream",
     "text": [
      "hold\n",
      "hold\n"
     ]
    },
    {
     "name": "stderr",
     "output_type": "stream",
     "text": [
      "Prediction order: ['RecursiveTabular', 'DynamicOptimizedTheta', 'AutoETS', 'SeasonalNaive', 'WeightedEnsemble']\n",
      "Shortening all series to at most 1000002\n",
      "Shortening all time series to at most 2500\n",
      "Shortening all time series to at most 2500\n",
      "Shortening all time series to at most 2500\n",
      "Cached predictions saved to /Users/jiro/play/nstrade/notebooks/AutogluonModels/ag-20250517_112123/models/cached_predictions.pkl\n",
      "Model not specified in predict, will default to the model with the best validation score: WeightedEnsemble\n",
      "Prediction order: ['RecursiveTabular', 'DynamicOptimizedTheta', 'AutoETS', 'SeasonalNaive', 'WeightedEnsemble']\n",
      "Shortening all series to at most 1000002\n",
      "Shortening all time series to at most 2500\n",
      "Shortening all time series to at most 2500\n",
      "Shortening all time series to at most 2500\n",
      "Cached predictions saved to /Users/jiro/play/nstrade/notebooks/AutogluonModels/ag-20250517_112123/models/cached_predictions.pkl\n",
      "Model not specified in predict, will default to the model with the best validation score: WeightedEnsemble\n"
     ]
    },
    {
     "name": "stdout",
     "output_type": "stream",
     "text": [
      "hold\n",
      "hold\n"
     ]
    },
    {
     "name": "stderr",
     "output_type": "stream",
     "text": [
      "Prediction order: ['RecursiveTabular', 'DynamicOptimizedTheta', 'AutoETS', 'SeasonalNaive', 'WeightedEnsemble']\n",
      "Shortening all series to at most 1000002\n",
      "Shortening all time series to at most 2500\n",
      "Shortening all time series to at most 2500\n",
      "Shortening all time series to at most 2500\n",
      "Cached predictions saved to /Users/jiro/play/nstrade/notebooks/AutogluonModels/ag-20250517_112123/models/cached_predictions.pkl\n",
      "Model not specified in predict, will default to the model with the best validation score: WeightedEnsemble\n",
      "Prediction order: ['RecursiveTabular', 'DynamicOptimizedTheta', 'AutoETS', 'SeasonalNaive', 'WeightedEnsemble']\n",
      "Shortening all series to at most 1000002\n",
      "Shortening all time series to at most 2500\n",
      "Shortening all time series to at most 2500\n",
      "Shortening all time series to at most 2500\n",
      "Cached predictions saved to /Users/jiro/play/nstrade/notebooks/AutogluonModels/ag-20250517_112123/models/cached_predictions.pkl\n",
      "Model not specified in predict, will default to the model with the best validation score: WeightedEnsemble\n"
     ]
    },
    {
     "name": "stdout",
     "output_type": "stream",
     "text": [
      "hold\n",
      "hold\n"
     ]
    },
    {
     "name": "stderr",
     "output_type": "stream",
     "text": [
      "Prediction order: ['RecursiveTabular', 'DynamicOptimizedTheta', 'AutoETS', 'SeasonalNaive', 'WeightedEnsemble']\n",
      "Shortening all series to at most 1000002\n",
      "Shortening all time series to at most 2500\n",
      "Shortening all time series to at most 2500\n",
      "Shortening all time series to at most 2500\n",
      "Cached predictions saved to /Users/jiro/play/nstrade/notebooks/AutogluonModels/ag-20250517_112123/models/cached_predictions.pkl\n",
      "Model not specified in predict, will default to the model with the best validation score: WeightedEnsemble\n",
      "Prediction order: ['RecursiveTabular', 'DynamicOptimizedTheta', 'AutoETS', 'SeasonalNaive', 'WeightedEnsemble']\n",
      "Shortening all series to at most 1000002\n",
      "Shortening all time series to at most 2500\n",
      "Shortening all time series to at most 2500\n",
      "Shortening all time series to at most 2500\n",
      "Cached predictions saved to /Users/jiro/play/nstrade/notebooks/AutogluonModels/ag-20250517_112123/models/cached_predictions.pkl\n",
      "Model not specified in predict, will default to the model with the best validation score: WeightedEnsemble\n"
     ]
    },
    {
     "name": "stdout",
     "output_type": "stream",
     "text": [
      "hold\n",
      "hold\n"
     ]
    },
    {
     "name": "stderr",
     "output_type": "stream",
     "text": [
      "Prediction order: ['RecursiveTabular', 'DynamicOptimizedTheta', 'AutoETS', 'SeasonalNaive', 'WeightedEnsemble']\n",
      "Shortening all series to at most 1000002\n",
      "Shortening all time series to at most 2500\n",
      "Shortening all time series to at most 2500\n",
      "Shortening all time series to at most 2500\n",
      "Cached predictions saved to /Users/jiro/play/nstrade/notebooks/AutogluonModels/ag-20250517_112123/models/cached_predictions.pkl\n",
      "Model not specified in predict, will default to the model with the best validation score: WeightedEnsemble\n",
      "Prediction order: ['RecursiveTabular', 'DynamicOptimizedTheta', 'AutoETS', 'SeasonalNaive', 'WeightedEnsemble']\n",
      "Shortening all series to at most 1000002\n",
      "Shortening all time series to at most 2500\n",
      "Shortening all time series to at most 2500\n",
      "Shortening all time series to at most 2500\n",
      "Cached predictions saved to /Users/jiro/play/nstrade/notebooks/AutogluonModels/ag-20250517_112123/models/cached_predictions.pkl\n"
     ]
    },
    {
     "name": "stdout",
     "output_type": "stream",
     "text": [
      "hold\n",
      "hold\n"
     ]
    },
    {
     "name": "stderr",
     "output_type": "stream",
     "text": [
      "Model not specified in predict, will default to the model with the best validation score: WeightedEnsemble\n",
      "Prediction order: ['RecursiveTabular', 'DynamicOptimizedTheta', 'AutoETS', 'SeasonalNaive', 'WeightedEnsemble']\n",
      "Shortening all series to at most 1000002\n",
      "Shortening all time series to at most 2500\n",
      "Shortening all time series to at most 2500\n",
      "Shortening all time series to at most 2500\n",
      "Cached predictions saved to /Users/jiro/play/nstrade/notebooks/AutogluonModels/ag-20250517_112123/models/cached_predictions.pkl\n",
      "Model not specified in predict, will default to the model with the best validation score: WeightedEnsemble\n",
      "Prediction order: ['RecursiveTabular', 'DynamicOptimizedTheta', 'AutoETS', 'SeasonalNaive', 'WeightedEnsemble']\n",
      "Shortening all series to at most 1000002\n",
      "Shortening all time series to at most 2500\n",
      "Shortening all time series to at most 2500\n",
      "Shortening all time series to at most 2500\n",
      "Cached predictions saved to /Users/jiro/play/nstrade/notebooks/AutogluonModels/ag-20250517_112123/models/cached_predictions.pkl\n",
      "Model not specified in predict, will default to the model with the best validation score: WeightedEnsemble\n"
     ]
    },
    {
     "name": "stdout",
     "output_type": "stream",
     "text": [
      "hold\n",
      "hold\n"
     ]
    },
    {
     "name": "stderr",
     "output_type": "stream",
     "text": [
      "Prediction order: ['RecursiveTabular', 'DynamicOptimizedTheta', 'AutoETS', 'SeasonalNaive', 'WeightedEnsemble']\n",
      "Shortening all series to at most 1000002\n",
      "Shortening all time series to at most 2500\n",
      "Shortening all time series to at most 2500\n",
      "Shortening all time series to at most 2500\n",
      "Cached predictions saved to /Users/jiro/play/nstrade/notebooks/AutogluonModels/ag-20250517_112123/models/cached_predictions.pkl\n",
      "Model not specified in predict, will default to the model with the best validation score: WeightedEnsemble\n",
      "Prediction order: ['RecursiveTabular', 'DynamicOptimizedTheta', 'AutoETS', 'SeasonalNaive', 'WeightedEnsemble']\n",
      "Shortening all series to at most 1000002\n",
      "Shortening all time series to at most 2500\n",
      "Shortening all time series to at most 2500\n",
      "Shortening all time series to at most 2500\n",
      "Cached predictions saved to /Users/jiro/play/nstrade/notebooks/AutogluonModels/ag-20250517_112123/models/cached_predictions.pkl\n"
     ]
    },
    {
     "name": "stdout",
     "output_type": "stream",
     "text": [
      "hold\n",
      "hold\n"
     ]
    },
    {
     "name": "stderr",
     "output_type": "stream",
     "text": [
      "Model not specified in predict, will default to the model with the best validation score: WeightedEnsemble\n",
      "Prediction order: ['RecursiveTabular', 'DynamicOptimizedTheta', 'AutoETS', 'SeasonalNaive', 'WeightedEnsemble']\n",
      "Shortening all series to at most 1000002\n",
      "Shortening all time series to at most 2500\n",
      "Shortening all time series to at most 2500\n",
      "Shortening all time series to at most 2500\n",
      "Cached predictions saved to /Users/jiro/play/nstrade/notebooks/AutogluonModels/ag-20250517_112123/models/cached_predictions.pkl\n",
      "Model not specified in predict, will default to the model with the best validation score: WeightedEnsemble\n",
      "Prediction order: ['RecursiveTabular', 'DynamicOptimizedTheta', 'AutoETS', 'SeasonalNaive', 'WeightedEnsemble']\n",
      "Shortening all series to at most 1000002\n",
      "Shortening all time series to at most 2500\n",
      "Shortening all time series to at most 2500\n",
      "Shortening all time series to at most 2500\n",
      "Cached predictions saved to /Users/jiro/play/nstrade/notebooks/AutogluonModels/ag-20250517_112123/models/cached_predictions.pkl\n",
      "Model not specified in predict, will default to the model with the best validation score: WeightedEnsemble\n"
     ]
    },
    {
     "name": "stdout",
     "output_type": "stream",
     "text": [
      "hold\n",
      "hold\n"
     ]
    },
    {
     "name": "stderr",
     "output_type": "stream",
     "text": [
      "Prediction order: ['RecursiveTabular', 'DynamicOptimizedTheta', 'AutoETS', 'SeasonalNaive', 'WeightedEnsemble']\n",
      "Shortening all series to at most 1000002\n",
      "Shortening all time series to at most 2500\n",
      "Shortening all time series to at most 2500\n",
      "Shortening all time series to at most 2500\n",
      "Cached predictions saved to /Users/jiro/play/nstrade/notebooks/AutogluonModels/ag-20250517_112123/models/cached_predictions.pkl\n",
      "Model not specified in predict, will default to the model with the best validation score: WeightedEnsemble\n",
      "Prediction order: ['RecursiveTabular', 'DynamicOptimizedTheta', 'AutoETS', 'SeasonalNaive', 'WeightedEnsemble']\n",
      "Shortening all series to at most 1000002\n",
      "Shortening all time series to at most 2500\n",
      "Shortening all time series to at most 2500\n",
      "Shortening all time series to at most 2500\n"
     ]
    },
    {
     "name": "stdout",
     "output_type": "stream",
     "text": [
      "hold\n"
     ]
    },
    {
     "name": "stderr",
     "output_type": "stream",
     "text": [
      "Cached predictions saved to /Users/jiro/play/nstrade/notebooks/AutogluonModels/ag-20250517_112123/models/cached_predictions.pkl\n",
      "Model not specified in predict, will default to the model with the best validation score: WeightedEnsemble\n"
     ]
    },
    {
     "name": "stdout",
     "output_type": "stream",
     "text": [
      "hold\n"
     ]
    },
    {
     "name": "stderr",
     "output_type": "stream",
     "text": [
      "Prediction order: ['RecursiveTabular', 'DynamicOptimizedTheta', 'AutoETS', 'SeasonalNaive', 'WeightedEnsemble']\n",
      "Shortening all series to at most 1000002\n",
      "Shortening all time series to at most 2500\n",
      "Shortening all time series to at most 2500\n",
      "Shortening all time series to at most 2500\n",
      "Cached predictions saved to /Users/jiro/play/nstrade/notebooks/AutogluonModels/ag-20250517_112123/models/cached_predictions.pkl\n",
      "Model not specified in predict, will default to the model with the best validation score: WeightedEnsemble\n",
      "Prediction order: ['RecursiveTabular', 'DynamicOptimizedTheta', 'AutoETS', 'SeasonalNaive', 'WeightedEnsemble']\n",
      "Shortening all series to at most 1000002\n",
      "Shortening all time series to at most 2500\n",
      "Shortening all time series to at most 2500\n",
      "Shortening all time series to at most 2500\n",
      "Cached predictions saved to /Users/jiro/play/nstrade/notebooks/AutogluonModels/ag-20250517_112123/models/cached_predictions.pkl\n",
      "Model not specified in predict, will default to the model with the best validation score: WeightedEnsemble\n"
     ]
    },
    {
     "name": "stdout",
     "output_type": "stream",
     "text": [
      "hold\n",
      "hold\n"
     ]
    },
    {
     "name": "stderr",
     "output_type": "stream",
     "text": [
      "Prediction order: ['RecursiveTabular', 'DynamicOptimizedTheta', 'AutoETS', 'SeasonalNaive', 'WeightedEnsemble']\n",
      "Shortening all series to at most 1000002\n",
      "Shortening all time series to at most 2500\n",
      "Shortening all time series to at most 2500\n",
      "Shortening all time series to at most 2500\n",
      "Cached predictions saved to /Users/jiro/play/nstrade/notebooks/AutogluonModels/ag-20250517_112123/models/cached_predictions.pkl\n",
      "Model not specified in predict, will default to the model with the best validation score: WeightedEnsemble\n",
      "Prediction order: ['RecursiveTabular', 'DynamicOptimizedTheta', 'AutoETS', 'SeasonalNaive', 'WeightedEnsemble']\n",
      "Shortening all series to at most 1000002\n",
      "Shortening all time series to at most 2500\n",
      "Shortening all time series to at most 2500\n",
      "Shortening all time series to at most 2500\n"
     ]
    },
    {
     "name": "stdout",
     "output_type": "stream",
     "text": [
      "hold\n"
     ]
    },
    {
     "name": "stderr",
     "output_type": "stream",
     "text": [
      "Cached predictions saved to /Users/jiro/play/nstrade/notebooks/AutogluonModels/ag-20250517_112123/models/cached_predictions.pkl\n",
      "Model not specified in predict, will default to the model with the best validation score: WeightedEnsemble\n",
      "Prediction order: ['RecursiveTabular', 'DynamicOptimizedTheta', 'AutoETS', 'SeasonalNaive', 'WeightedEnsemble']\n",
      "Shortening all series to at most 1000002\n",
      "Shortening all time series to at most 2500\n",
      "Shortening all time series to at most 2500\n",
      "Shortening all time series to at most 2500\n",
      "Cached predictions saved to /Users/jiro/play/nstrade/notebooks/AutogluonModels/ag-20250517_112123/models/cached_predictions.pkl\n",
      "Model not specified in predict, will default to the model with the best validation score: WeightedEnsemble\n"
     ]
    },
    {
     "name": "stdout",
     "output_type": "stream",
     "text": [
      "hold\n",
      "hold\n"
     ]
    },
    {
     "name": "stderr",
     "output_type": "stream",
     "text": [
      "Prediction order: ['RecursiveTabular', 'DynamicOptimizedTheta', 'AutoETS', 'SeasonalNaive', 'WeightedEnsemble']\n",
      "Shortening all series to at most 1000002\n",
      "Shortening all time series to at most 2500\n",
      "Shortening all time series to at most 2500\n",
      "Shortening all time series to at most 2500\n",
      "Cached predictions saved to /Users/jiro/play/nstrade/notebooks/AutogluonModels/ag-20250517_112123/models/cached_predictions.pkl\n",
      "Model not specified in predict, will default to the model with the best validation score: WeightedEnsemble\n",
      "Prediction order: ['RecursiveTabular', 'DynamicOptimizedTheta', 'AutoETS', 'SeasonalNaive', 'WeightedEnsemble']\n",
      "Shortening all series to at most 1000002\n",
      "Shortening all time series to at most 2500\n",
      "Shortening all time series to at most 2500\n",
      "Shortening all time series to at most 2500\n",
      "Cached predictions saved to /Users/jiro/play/nstrade/notebooks/AutogluonModels/ag-20250517_112123/models/cached_predictions.pkl\n"
     ]
    },
    {
     "name": "stdout",
     "output_type": "stream",
     "text": [
      "hold\n",
      "hold\n"
     ]
    },
    {
     "name": "stderr",
     "output_type": "stream",
     "text": [
      "Model not specified in predict, will default to the model with the best validation score: WeightedEnsemble\n",
      "Prediction order: ['RecursiveTabular', 'DynamicOptimizedTheta', 'AutoETS', 'SeasonalNaive', 'WeightedEnsemble']\n",
      "Shortening all series to at most 1000002\n",
      "Shortening all time series to at most 2500\n",
      "Shortening all time series to at most 2500\n",
      "Shortening all time series to at most 2500\n",
      "Cached predictions saved to /Users/jiro/play/nstrade/notebooks/AutogluonModels/ag-20250517_112123/models/cached_predictions.pkl\n",
      "Model not specified in predict, will default to the model with the best validation score: WeightedEnsemble\n",
      "Prediction order: ['RecursiveTabular', 'DynamicOptimizedTheta', 'AutoETS', 'SeasonalNaive', 'WeightedEnsemble']\n",
      "Shortening all series to at most 1000002\n",
      "Shortening all time series to at most 2500\n",
      "Shortening all time series to at most 2500\n",
      "Shortening all time series to at most 2500\n",
      "Cached predictions saved to /Users/jiro/play/nstrade/notebooks/AutogluonModels/ag-20250517_112123/models/cached_predictions.pkl\n",
      "Model not specified in predict, will default to the model with the best validation score: WeightedEnsemble\n"
     ]
    },
    {
     "name": "stdout",
     "output_type": "stream",
     "text": [
      "hold\n",
      "hold\n"
     ]
    },
    {
     "name": "stderr",
     "output_type": "stream",
     "text": [
      "Prediction order: ['RecursiveTabular', 'DynamicOptimizedTheta', 'AutoETS', 'SeasonalNaive', 'WeightedEnsemble']\n",
      "Shortening all series to at most 1000002\n",
      "Shortening all time series to at most 2500\n",
      "Shortening all time series to at most 2500\n",
      "Shortening all time series to at most 2500\n",
      "Cached predictions saved to /Users/jiro/play/nstrade/notebooks/AutogluonModels/ag-20250517_112123/models/cached_predictions.pkl\n",
      "Model not specified in predict, will default to the model with the best validation score: WeightedEnsemble\n",
      "Prediction order: ['RecursiveTabular', 'DynamicOptimizedTheta', 'AutoETS', 'SeasonalNaive', 'WeightedEnsemble']\n",
      "Shortening all series to at most 1000002\n",
      "Shortening all time series to at most 2500\n",
      "Shortening all time series to at most 2500\n",
      "Shortening all time series to at most 2500\n"
     ]
    },
    {
     "name": "stdout",
     "output_type": "stream",
     "text": [
      "hold\n"
     ]
    },
    {
     "name": "stderr",
     "output_type": "stream",
     "text": [
      "Cached predictions saved to /Users/jiro/play/nstrade/notebooks/AutogluonModels/ag-20250517_112123/models/cached_predictions.pkl\n",
      "Model not specified in predict, will default to the model with the best validation score: WeightedEnsemble\n"
     ]
    },
    {
     "name": "stdout",
     "output_type": "stream",
     "text": [
      "hold\n"
     ]
    },
    {
     "name": "stderr",
     "output_type": "stream",
     "text": [
      "Prediction order: ['RecursiveTabular', 'DynamicOptimizedTheta', 'AutoETS', 'SeasonalNaive', 'WeightedEnsemble']\n",
      "Shortening all series to at most 1000002\n",
      "Shortening all time series to at most 2500\n",
      "Shortening all time series to at most 2500\n",
      "Shortening all time series to at most 2500\n",
      "Cached predictions saved to /Users/jiro/play/nstrade/notebooks/AutogluonModels/ag-20250517_112123/models/cached_predictions.pkl\n",
      "Model not specified in predict, will default to the model with the best validation score: WeightedEnsemble\n",
      "Prediction order: ['RecursiveTabular', 'DynamicOptimizedTheta', 'AutoETS', 'SeasonalNaive', 'WeightedEnsemble']\n",
      "Shortening all series to at most 1000002\n",
      "Shortening all time series to at most 2500\n",
      "Shortening all time series to at most 2500\n",
      "Shortening all time series to at most 2500\n"
     ]
    },
    {
     "name": "stdout",
     "output_type": "stream",
     "text": [
      "hold\n"
     ]
    },
    {
     "name": "stderr",
     "output_type": "stream",
     "text": [
      "Cached predictions saved to /Users/jiro/play/nstrade/notebooks/AutogluonModels/ag-20250517_112123/models/cached_predictions.pkl\n",
      "Model not specified in predict, will default to the model with the best validation score: WeightedEnsemble\n",
      "Prediction order: ['RecursiveTabular', 'DynamicOptimizedTheta', 'AutoETS', 'SeasonalNaive', 'WeightedEnsemble']\n"
     ]
    },
    {
     "name": "stdout",
     "output_type": "stream",
     "text": [
      "hold\n"
     ]
    },
    {
     "name": "stderr",
     "output_type": "stream",
     "text": [
      "Shortening all series to at most 1000002\n",
      "Shortening all time series to at most 2500\n",
      "Shortening all time series to at most 2500\n",
      "Shortening all time series to at most 2500\n",
      "Cached predictions saved to /Users/jiro/play/nstrade/notebooks/AutogluonModels/ag-20250517_112123/models/cached_predictions.pkl\n",
      "Model not specified in predict, will default to the model with the best validation score: WeightedEnsemble\n",
      "Prediction order: ['RecursiveTabular', 'DynamicOptimizedTheta', 'AutoETS', 'SeasonalNaive', 'WeightedEnsemble']\n",
      "Shortening all series to at most 1000002\n",
      "Shortening all time series to at most 2500\n",
      "Shortening all time series to at most 2500\n",
      "Shortening all time series to at most 2500\n"
     ]
    },
    {
     "name": "stdout",
     "output_type": "stream",
     "text": [
      "hold\n"
     ]
    },
    {
     "name": "stderr",
     "output_type": "stream",
     "text": [
      "Cached predictions saved to /Users/jiro/play/nstrade/notebooks/AutogluonModels/ag-20250517_112123/models/cached_predictions.pkl\n",
      "Model not specified in predict, will default to the model with the best validation score: WeightedEnsemble\n",
      "Prediction order: ['RecursiveTabular', 'DynamicOptimizedTheta', 'AutoETS', 'SeasonalNaive', 'WeightedEnsemble']\n",
      "Shortening all series to at most 1000002\n",
      "Shortening all time series to at most 2500\n",
      "Shortening all time series to at most 2500\n",
      "Shortening all time series to at most 2500\n"
     ]
    },
    {
     "name": "stdout",
     "output_type": "stream",
     "text": [
      "hold\n"
     ]
    },
    {
     "name": "stderr",
     "output_type": "stream",
     "text": [
      "Cached predictions saved to /Users/jiro/play/nstrade/notebooks/AutogluonModels/ag-20250517_112123/models/cached_predictions.pkl\n",
      "Model not specified in predict, will default to the model with the best validation score: WeightedEnsemble\n",
      "Prediction order: ['RecursiveTabular', 'DynamicOptimizedTheta', 'AutoETS', 'SeasonalNaive', 'WeightedEnsemble']\n",
      "Shortening all series to at most 1000002\n",
      "Shortening all time series to at most 2500\n",
      "Shortening all time series to at most 2500\n",
      "Shortening all time series to at most 2500\n"
     ]
    },
    {
     "name": "stdout",
     "output_type": "stream",
     "text": [
      "hold\n"
     ]
    },
    {
     "name": "stderr",
     "output_type": "stream",
     "text": [
      "Cached predictions saved to /Users/jiro/play/nstrade/notebooks/AutogluonModels/ag-20250517_112123/models/cached_predictions.pkl\n",
      "Model not specified in predict, will default to the model with the best validation score: WeightedEnsemble\n",
      "Prediction order: ['RecursiveTabular', 'DynamicOptimizedTheta', 'AutoETS', 'SeasonalNaive', 'WeightedEnsemble']\n",
      "Shortening all series to at most 1000002\n",
      "Shortening all time series to at most 2500\n",
      "Shortening all time series to at most 2500\n",
      "Shortening all time series to at most 2500\n"
     ]
    },
    {
     "name": "stdout",
     "output_type": "stream",
     "text": [
      "hold\n"
     ]
    },
    {
     "name": "stderr",
     "output_type": "stream",
     "text": [
      "Cached predictions saved to /Users/jiro/play/nstrade/notebooks/AutogluonModels/ag-20250517_112123/models/cached_predictions.pkl\n",
      "Model not specified in predict, will default to the model with the best validation score: WeightedEnsemble\n",
      "Prediction order: ['RecursiveTabular', 'DynamicOptimizedTheta', 'AutoETS', 'SeasonalNaive', 'WeightedEnsemble']\n"
     ]
    },
    {
     "name": "stdout",
     "output_type": "stream",
     "text": [
      "hold\n"
     ]
    },
    {
     "name": "stderr",
     "output_type": "stream",
     "text": [
      "Shortening all series to at most 1000002\n",
      "Shortening all time series to at most 2500\n",
      "Shortening all time series to at most 2500\n",
      "Shortening all time series to at most 2500\n",
      "Cached predictions saved to /Users/jiro/play/nstrade/notebooks/AutogluonModels/ag-20250517_112123/models/cached_predictions.pkl\n",
      "Model not specified in predict, will default to the model with the best validation score: WeightedEnsemble\n",
      "Prediction order: ['RecursiveTabular', 'DynamicOptimizedTheta', 'AutoETS', 'SeasonalNaive', 'WeightedEnsemble']\n",
      "Shortening all series to at most 1000002\n",
      "Shortening all time series to at most 2500\n",
      "Shortening all time series to at most 2500\n",
      "Shortening all time series to at most 2500\n"
     ]
    },
    {
     "name": "stdout",
     "output_type": "stream",
     "text": [
      "hold\n"
     ]
    },
    {
     "name": "stderr",
     "output_type": "stream",
     "text": [
      "Cached predictions saved to /Users/jiro/play/nstrade/notebooks/AutogluonModels/ag-20250517_112123/models/cached_predictions.pkl\n",
      "Model not specified in predict, will default to the model with the best validation score: WeightedEnsemble\n",
      "Prediction order: ['RecursiveTabular', 'DynamicOptimizedTheta', 'AutoETS', 'SeasonalNaive', 'WeightedEnsemble']\n",
      "Shortening all series to at most 1000002\n"
     ]
    },
    {
     "name": "stdout",
     "output_type": "stream",
     "text": [
      "hold\n"
     ]
    },
    {
     "name": "stderr",
     "output_type": "stream",
     "text": [
      "Shortening all time series to at most 2500\n",
      "Shortening all time series to at most 2500\n",
      "Shortening all time series to at most 2500\n",
      "Cached predictions saved to /Users/jiro/play/nstrade/notebooks/AutogluonModels/ag-20250517_112123/models/cached_predictions.pkl\n",
      "Model not specified in predict, will default to the model with the best validation score: WeightedEnsemble\n",
      "Prediction order: ['RecursiveTabular', 'DynamicOptimizedTheta', 'AutoETS', 'SeasonalNaive', 'WeightedEnsemble']\n",
      "Shortening all series to at most 1000002\n",
      "Shortening all time series to at most 2500\n",
      "Shortening all time series to at most 2500\n",
      "Shortening all time series to at most 2500\n"
     ]
    },
    {
     "name": "stdout",
     "output_type": "stream",
     "text": [
      "hold\n"
     ]
    },
    {
     "name": "stderr",
     "output_type": "stream",
     "text": [
      "Cached predictions saved to /Users/jiro/play/nstrade/notebooks/AutogluonModels/ag-20250517_112123/models/cached_predictions.pkl\n",
      "Model not specified in predict, will default to the model with the best validation score: WeightedEnsemble\n",
      "Prediction order: ['RecursiveTabular', 'DynamicOptimizedTheta', 'AutoETS', 'SeasonalNaive', 'WeightedEnsemble']\n",
      "Shortening all series to at most 1000002\n",
      "Shortening all time series to at most 2500\n",
      "Shortening all time series to at most 2500\n",
      "Shortening all time series to at most 2500\n"
     ]
    },
    {
     "name": "stdout",
     "output_type": "stream",
     "text": [
      "hold\n"
     ]
    },
    {
     "name": "stderr",
     "output_type": "stream",
     "text": [
      "Cached predictions saved to /Users/jiro/play/nstrade/notebooks/AutogluonModels/ag-20250517_112123/models/cached_predictions.pkl\n",
      "Model not specified in predict, will default to the model with the best validation score: WeightedEnsemble\n"
     ]
    },
    {
     "name": "stdout",
     "output_type": "stream",
     "text": [
      "hold\n"
     ]
    },
    {
     "name": "stderr",
     "output_type": "stream",
     "text": [
      "Prediction order: ['RecursiveTabular', 'DynamicOptimizedTheta', 'AutoETS', 'SeasonalNaive', 'WeightedEnsemble']\n",
      "Shortening all series to at most 1000002\n",
      "Shortening all time series to at most 2500\n",
      "Shortening all time series to at most 2500\n",
      "Shortening all time series to at most 2500\n",
      "Cached predictions saved to /Users/jiro/play/nstrade/notebooks/AutogluonModels/ag-20250517_112123/models/cached_predictions.pkl\n",
      "Model not specified in predict, will default to the model with the best validation score: WeightedEnsemble\n",
      "Prediction order: ['RecursiveTabular', 'DynamicOptimizedTheta', 'AutoETS', 'SeasonalNaive', 'WeightedEnsemble']\n",
      "Shortening all series to at most 1000002\n",
      "Shortening all time series to at most 2500\n",
      "Shortening all time series to at most 2500\n",
      "Shortening all time series to at most 2500\n"
     ]
    },
    {
     "name": "stdout",
     "output_type": "stream",
     "text": [
      "hold\n"
     ]
    },
    {
     "name": "stderr",
     "output_type": "stream",
     "text": [
      "Cached predictions saved to /Users/jiro/play/nstrade/notebooks/AutogluonModels/ag-20250517_112123/models/cached_predictions.pkl\n",
      "Model not specified in predict, will default to the model with the best validation score: WeightedEnsemble\n",
      "Prediction order: ['RecursiveTabular', 'DynamicOptimizedTheta', 'AutoETS', 'SeasonalNaive', 'WeightedEnsemble']\n"
     ]
    },
    {
     "name": "stdout",
     "output_type": "stream",
     "text": [
      "hold\n"
     ]
    },
    {
     "name": "stderr",
     "output_type": "stream",
     "text": [
      "Shortening all series to at most 1000002\n",
      "Shortening all time series to at most 2500\n",
      "Shortening all time series to at most 2500\n",
      "Shortening all time series to at most 2500\n",
      "Cached predictions saved to /Users/jiro/play/nstrade/notebooks/AutogluonModels/ag-20250517_112123/models/cached_predictions.pkl\n",
      "Model not specified in predict, will default to the model with the best validation score: WeightedEnsemble\n",
      "Prediction order: ['RecursiveTabular', 'DynamicOptimizedTheta', 'AutoETS', 'SeasonalNaive', 'WeightedEnsemble']\n",
      "Shortening all series to at most 1000002\n",
      "Shortening all time series to at most 2500\n",
      "Shortening all time series to at most 2500\n",
      "Shortening all time series to at most 2500\n"
     ]
    },
    {
     "name": "stdout",
     "output_type": "stream",
     "text": [
      "hold\n"
     ]
    },
    {
     "name": "stderr",
     "output_type": "stream",
     "text": [
      "Cached predictions saved to /Users/jiro/play/nstrade/notebooks/AutogluonModels/ag-20250517_112123/models/cached_predictions.pkl\n",
      "Model not specified in predict, will default to the model with the best validation score: WeightedEnsemble\n",
      "Prediction order: ['RecursiveTabular', 'DynamicOptimizedTheta', 'AutoETS', 'SeasonalNaive', 'WeightedEnsemble']\n",
      "Shortening all series to at most 1000002\n",
      "Shortening all time series to at most 2500\n",
      "Shortening all time series to at most 2500\n",
      "Shortening all time series to at most 2500\n"
     ]
    },
    {
     "name": "stdout",
     "output_type": "stream",
     "text": [
      "hold\n"
     ]
    },
    {
     "name": "stderr",
     "output_type": "stream",
     "text": [
      "Cached predictions saved to /Users/jiro/play/nstrade/notebooks/AutogluonModels/ag-20250517_112123/models/cached_predictions.pkl\n",
      "Model not specified in predict, will default to the model with the best validation score: WeightedEnsemble\n"
     ]
    },
    {
     "name": "stdout",
     "output_type": "stream",
     "text": [
      "hold\n"
     ]
    },
    {
     "name": "stderr",
     "output_type": "stream",
     "text": [
      "Prediction order: ['RecursiveTabular', 'DynamicOptimizedTheta', 'AutoETS', 'SeasonalNaive', 'WeightedEnsemble']\n",
      "Shortening all series to at most 1000002\n",
      "Shortening all time series to at most 2500\n",
      "Shortening all time series to at most 2500\n",
      "Shortening all time series to at most 2500\n",
      "Cached predictions saved to /Users/jiro/play/nstrade/notebooks/AutogluonModels/ag-20250517_112123/models/cached_predictions.pkl\n",
      "Model not specified in predict, will default to the model with the best validation score: WeightedEnsemble\n",
      "Prediction order: ['RecursiveTabular', 'DynamicOptimizedTheta', 'AutoETS', 'SeasonalNaive', 'WeightedEnsemble']\n",
      "Shortening all series to at most 1000002\n",
      "Shortening all time series to at most 2500\n",
      "Shortening all time series to at most 2500\n",
      "Shortening all time series to at most 2500\n"
     ]
    },
    {
     "name": "stdout",
     "output_type": "stream",
     "text": [
      "hold\n"
     ]
    },
    {
     "name": "stderr",
     "output_type": "stream",
     "text": [
      "Cached predictions saved to /Users/jiro/play/nstrade/notebooks/AutogluonModels/ag-20250517_112123/models/cached_predictions.pkl\n",
      "Model not specified in predict, will default to the model with the best validation score: WeightedEnsemble\n",
      "Prediction order: ['RecursiveTabular', 'DynamicOptimizedTheta', 'AutoETS', 'SeasonalNaive', 'WeightedEnsemble']\n",
      "Shortening all series to at most 1000002\n",
      "Shortening all time series to at most 2500\n",
      "Shortening all time series to at most 2500\n",
      "Shortening all time series to at most 2500\n"
     ]
    },
    {
     "name": "stdout",
     "output_type": "stream",
     "text": [
      "hold\n"
     ]
    },
    {
     "name": "stderr",
     "output_type": "stream",
     "text": [
      "Cached predictions saved to /Users/jiro/play/nstrade/notebooks/AutogluonModels/ag-20250517_112123/models/cached_predictions.pkl\n",
      "Model not specified in predict, will default to the model with the best validation score: WeightedEnsemble\n",
      "Prediction order: ['RecursiveTabular', 'DynamicOptimizedTheta', 'AutoETS', 'SeasonalNaive', 'WeightedEnsemble']\n",
      "Shortening all series to at most 1000002\n",
      "Shortening all time series to at most 2500\n",
      "Shortening all time series to at most 2500\n",
      "Shortening all time series to at most 2500\n"
     ]
    },
    {
     "name": "stdout",
     "output_type": "stream",
     "text": [
      "hold\n"
     ]
    },
    {
     "name": "stderr",
     "output_type": "stream",
     "text": [
      "Cached predictions saved to /Users/jiro/play/nstrade/notebooks/AutogluonModels/ag-20250517_112123/models/cached_predictions.pkl\n",
      "Model not specified in predict, will default to the model with the best validation score: WeightedEnsemble\n",
      "Prediction order: ['RecursiveTabular', 'DynamicOptimizedTheta', 'AutoETS', 'SeasonalNaive', 'WeightedEnsemble']\n",
      "Shortening all series to at most 1000002\n",
      "Shortening all time series to at most 2500\n",
      "Shortening all time series to at most 2500\n",
      "Shortening all time series to at most 2500\n"
     ]
    },
    {
     "name": "stdout",
     "output_type": "stream",
     "text": [
      "hold\n"
     ]
    },
    {
     "name": "stderr",
     "output_type": "stream",
     "text": [
      "Cached predictions saved to /Users/jiro/play/nstrade/notebooks/AutogluonModels/ag-20250517_112123/models/cached_predictions.pkl\n",
      "Model not specified in predict, will default to the model with the best validation score: WeightedEnsemble\n"
     ]
    },
    {
     "name": "stdout",
     "output_type": "stream",
     "text": [
      "hold\n"
     ]
    },
    {
     "name": "stderr",
     "output_type": "stream",
     "text": [
      "Prediction order: ['RecursiveTabular', 'DynamicOptimizedTheta', 'AutoETS', 'SeasonalNaive', 'WeightedEnsemble']\n",
      "Shortening all series to at most 1000002\n",
      "Shortening all time series to at most 2500\n",
      "Shortening all time series to at most 2500\n",
      "Shortening all time series to at most 2500\n",
      "Cached predictions saved to /Users/jiro/play/nstrade/notebooks/AutogluonModels/ag-20250517_112123/models/cached_predictions.pkl\n",
      "Model not specified in predict, will default to the model with the best validation score: WeightedEnsemble\n",
      "Prediction order: ['RecursiveTabular', 'DynamicOptimizedTheta', 'AutoETS', 'SeasonalNaive', 'WeightedEnsemble']\n",
      "Shortening all series to at most 1000002\n",
      "Shortening all time series to at most 2500\n",
      "Shortening all time series to at most 2500\n",
      "Shortening all time series to at most 2500\n"
     ]
    },
    {
     "name": "stdout",
     "output_type": "stream",
     "text": [
      "hold\n"
     ]
    },
    {
     "name": "stderr",
     "output_type": "stream",
     "text": [
      "Cached predictions saved to /Users/jiro/play/nstrade/notebooks/AutogluonModels/ag-20250517_112123/models/cached_predictions.pkl\n",
      "Model not specified in predict, will default to the model with the best validation score: WeightedEnsemble\n",
      "Prediction order: ['RecursiveTabular', 'DynamicOptimizedTheta', 'AutoETS', 'SeasonalNaive', 'WeightedEnsemble']\n",
      "Shortening all series to at most 1000002\n",
      "Shortening all time series to at most 2500\n",
      "Shortening all time series to at most 2500\n",
      "Shortening all time series to at most 2500\n"
     ]
    },
    {
     "name": "stdout",
     "output_type": "stream",
     "text": [
      "hold\n"
     ]
    },
    {
     "name": "stderr",
     "output_type": "stream",
     "text": [
      "Cached predictions saved to /Users/jiro/play/nstrade/notebooks/AutogluonModels/ag-20250517_112123/models/cached_predictions.pkl\n",
      "Model not specified in predict, will default to the model with the best validation score: WeightedEnsemble\n"
     ]
    },
    {
     "name": "stdout",
     "output_type": "stream",
     "text": [
      "hold\n"
     ]
    },
    {
     "name": "stderr",
     "output_type": "stream",
     "text": [
      "Prediction order: ['RecursiveTabular', 'DynamicOptimizedTheta', 'AutoETS', 'SeasonalNaive', 'WeightedEnsemble']\n",
      "Shortening all series to at most 1000002\n",
      "Shortening all time series to at most 2500\n",
      "Shortening all time series to at most 2500\n",
      "Shortening all time series to at most 2500\n",
      "Cached predictions saved to /Users/jiro/play/nstrade/notebooks/AutogluonModels/ag-20250517_112123/models/cached_predictions.pkl\n",
      "Model not specified in predict, will default to the model with the best validation score: WeightedEnsemble\n",
      "Prediction order: ['RecursiveTabular', 'DynamicOptimizedTheta', 'AutoETS', 'SeasonalNaive', 'WeightedEnsemble']\n",
      "Shortening all series to at most 1000002\n",
      "Shortening all time series to at most 2500\n",
      "Shortening all time series to at most 2500\n",
      "Shortening all time series to at most 2500\n"
     ]
    },
    {
     "name": "stdout",
     "output_type": "stream",
     "text": [
      "hold\n"
     ]
    },
    {
     "name": "stderr",
     "output_type": "stream",
     "text": [
      "Cached predictions saved to /Users/jiro/play/nstrade/notebooks/AutogluonModels/ag-20250517_112123/models/cached_predictions.pkl\n",
      "Model not specified in predict, will default to the model with the best validation score: WeightedEnsemble\n",
      "Prediction order: ['RecursiveTabular', 'DynamicOptimizedTheta', 'AutoETS', 'SeasonalNaive', 'WeightedEnsemble']\n",
      "Shortening all series to at most 1000002\n",
      "Shortening all time series to at most 2500\n",
      "Shortening all time series to at most 2500\n",
      "Shortening all time series to at most 2500\n"
     ]
    },
    {
     "name": "stdout",
     "output_type": "stream",
     "text": [
      "hold\n"
     ]
    },
    {
     "name": "stderr",
     "output_type": "stream",
     "text": [
      "Cached predictions saved to /Users/jiro/play/nstrade/notebooks/AutogluonModels/ag-20250517_112123/models/cached_predictions.pkl\n",
      "Model not specified in predict, will default to the model with the best validation score: WeightedEnsemble\n",
      "Prediction order: ['RecursiveTabular', 'DynamicOptimizedTheta', 'AutoETS', 'SeasonalNaive', 'WeightedEnsemble']\n",
      "Shortening all series to at most 1000002\n",
      "Shortening all time series to at most 2500\n",
      "Shortening all time series to at most 2500\n",
      "Shortening all time series to at most 2500\n"
     ]
    },
    {
     "name": "stdout",
     "output_type": "stream",
     "text": [
      "hold\n"
     ]
    },
    {
     "name": "stderr",
     "output_type": "stream",
     "text": [
      "Cached predictions saved to /Users/jiro/play/nstrade/notebooks/AutogluonModels/ag-20250517_112123/models/cached_predictions.pkl\n",
      "Model not specified in predict, will default to the model with the best validation score: WeightedEnsemble\n",
      "Prediction order: ['RecursiveTabular', 'DynamicOptimizedTheta', 'AutoETS', 'SeasonalNaive', 'WeightedEnsemble']\n",
      "Shortening all series to at most 1000002\n",
      "Shortening all time series to at most 2500\n",
      "Shortening all time series to at most 2500\n",
      "Shortening all time series to at most 2500\n"
     ]
    },
    {
     "name": "stdout",
     "output_type": "stream",
     "text": [
      "hold\n"
     ]
    },
    {
     "name": "stderr",
     "output_type": "stream",
     "text": [
      "Cached predictions saved to /Users/jiro/play/nstrade/notebooks/AutogluonModels/ag-20250517_112123/models/cached_predictions.pkl\n",
      "Model not specified in predict, will default to the model with the best validation score: WeightedEnsemble\n",
      "Prediction order: ['RecursiveTabular', 'DynamicOptimizedTheta', 'AutoETS', 'SeasonalNaive', 'WeightedEnsemble']\n"
     ]
    },
    {
     "name": "stdout",
     "output_type": "stream",
     "text": [
      "hold\n"
     ]
    },
    {
     "name": "stderr",
     "output_type": "stream",
     "text": [
      "Shortening all series to at most 1000002\n",
      "Shortening all time series to at most 2500\n",
      "Shortening all time series to at most 2500\n",
      "Shortening all time series to at most 2500\n",
      "Cached predictions saved to /Users/jiro/play/nstrade/notebooks/AutogluonModels/ag-20250517_112123/models/cached_predictions.pkl\n",
      "Model not specified in predict, will default to the model with the best validation score: WeightedEnsemble\n",
      "Prediction order: ['RecursiveTabular', 'DynamicOptimizedTheta', 'AutoETS', 'SeasonalNaive', 'WeightedEnsemble']\n",
      "Shortening all series to at most 1000002\n",
      "Shortening all time series to at most 2500\n",
      "Shortening all time series to at most 2500\n",
      "Shortening all time series to at most 2500\n"
     ]
    },
    {
     "name": "stdout",
     "output_type": "stream",
     "text": [
      "hold\n"
     ]
    },
    {
     "name": "stderr",
     "output_type": "stream",
     "text": [
      "Cached predictions saved to /Users/jiro/play/nstrade/notebooks/AutogluonModels/ag-20250517_112123/models/cached_predictions.pkl\n",
      "Model not specified in predict, will default to the model with the best validation score: WeightedEnsemble\n",
      "Prediction order: ['RecursiveTabular', 'DynamicOptimizedTheta', 'AutoETS', 'SeasonalNaive', 'WeightedEnsemble']\n",
      "Shortening all series to at most 1000002\n",
      "Shortening all time series to at most 2500\n",
      "Shortening all time series to at most 2500\n",
      "Shortening all time series to at most 2500\n"
     ]
    },
    {
     "name": "stdout",
     "output_type": "stream",
     "text": [
      "hold\n"
     ]
    },
    {
     "name": "stderr",
     "output_type": "stream",
     "text": [
      "Cached predictions saved to /Users/jiro/play/nstrade/notebooks/AutogluonModels/ag-20250517_112123/models/cached_predictions.pkl\n",
      "Model not specified in predict, will default to the model with the best validation score: WeightedEnsemble\n"
     ]
    },
    {
     "name": "stdout",
     "output_type": "stream",
     "text": [
      "hold\n"
     ]
    },
    {
     "name": "stderr",
     "output_type": "stream",
     "text": [
      "Prediction order: ['RecursiveTabular', 'DynamicOptimizedTheta', 'AutoETS', 'SeasonalNaive', 'WeightedEnsemble']\n",
      "Shortening all series to at most 1000002\n",
      "Shortening all time series to at most 2500\n",
      "Shortening all time series to at most 2500\n",
      "Shortening all time series to at most 2500\n",
      "Cached predictions saved to /Users/jiro/play/nstrade/notebooks/AutogluonModels/ag-20250517_112123/models/cached_predictions.pkl\n",
      "Model not specified in predict, will default to the model with the best validation score: WeightedEnsemble\n",
      "Prediction order: ['RecursiveTabular', 'DynamicOptimizedTheta', 'AutoETS', 'SeasonalNaive', 'WeightedEnsemble']\n",
      "Shortening all series to at most 1000002\n",
      "Shortening all time series to at most 2500\n",
      "Shortening all time series to at most 2500\n",
      "Shortening all time series to at most 2500\n"
     ]
    },
    {
     "name": "stdout",
     "output_type": "stream",
     "text": [
      "hold\n"
     ]
    },
    {
     "name": "stderr",
     "output_type": "stream",
     "text": [
      "Cached predictions saved to /Users/jiro/play/nstrade/notebooks/AutogluonModels/ag-20250517_112123/models/cached_predictions.pkl\n",
      "Model not specified in predict, will default to the model with the best validation score: WeightedEnsemble\n",
      "Prediction order: ['RecursiveTabular', 'DynamicOptimizedTheta', 'AutoETS', 'SeasonalNaive', 'WeightedEnsemble']\n",
      "Shortening all series to at most 1000002\n",
      "Shortening all time series to at most 2500\n",
      "Shortening all time series to at most 2500\n",
      "Shortening all time series to at most 2500\n"
     ]
    },
    {
     "name": "stdout",
     "output_type": "stream",
     "text": [
      "hold\n"
     ]
    },
    {
     "name": "stderr",
     "output_type": "stream",
     "text": [
      "Cached predictions saved to /Users/jiro/play/nstrade/notebooks/AutogluonModels/ag-20250517_112123/models/cached_predictions.pkl\n",
      "Model not specified in predict, will default to the model with the best validation score: WeightedEnsemble\n",
      "Prediction order: ['RecursiveTabular', 'DynamicOptimizedTheta', 'AutoETS', 'SeasonalNaive', 'WeightedEnsemble']\n"
     ]
    },
    {
     "name": "stdout",
     "output_type": "stream",
     "text": [
      "hold\n"
     ]
    },
    {
     "name": "stderr",
     "output_type": "stream",
     "text": [
      "Shortening all series to at most 1000002\n",
      "Shortening all time series to at most 2500\n",
      "Shortening all time series to at most 2500\n",
      "Shortening all time series to at most 2500\n",
      "Cached predictions saved to /Users/jiro/play/nstrade/notebooks/AutogluonModels/ag-20250517_112123/models/cached_predictions.pkl\n",
      "Model not specified in predict, will default to the model with the best validation score: WeightedEnsemble\n",
      "Prediction order: ['RecursiveTabular', 'DynamicOptimizedTheta', 'AutoETS', 'SeasonalNaive', 'WeightedEnsemble']\n",
      "Shortening all series to at most 1000002\n",
      "Shortening all time series to at most 2500\n",
      "Shortening all time series to at most 2500\n",
      "Shortening all time series to at most 2500\n"
     ]
    },
    {
     "name": "stdout",
     "output_type": "stream",
     "text": [
      "hold\n"
     ]
    },
    {
     "name": "stderr",
     "output_type": "stream",
     "text": [
      "Cached predictions saved to /Users/jiro/play/nstrade/notebooks/AutogluonModels/ag-20250517_112123/models/cached_predictions.pkl\n",
      "Model not specified in predict, will default to the model with the best validation score: WeightedEnsemble\n",
      "Prediction order: ['RecursiveTabular', 'DynamicOptimizedTheta', 'AutoETS', 'SeasonalNaive', 'WeightedEnsemble']\n",
      "Shortening all series to at most 1000002\n",
      "Shortening all time series to at most 2500\n",
      "Shortening all time series to at most 2500\n",
      "Shortening all time series to at most 2500\n"
     ]
    },
    {
     "name": "stdout",
     "output_type": "stream",
     "text": [
      "hold\n"
     ]
    },
    {
     "name": "stderr",
     "output_type": "stream",
     "text": [
      "Cached predictions saved to /Users/jiro/play/nstrade/notebooks/AutogluonModels/ag-20250517_112123/models/cached_predictions.pkl\n",
      "Model not specified in predict, will default to the model with the best validation score: WeightedEnsemble\n",
      "Prediction order: ['RecursiveTabular', 'DynamicOptimizedTheta', 'AutoETS', 'SeasonalNaive', 'WeightedEnsemble']\n",
      "Shortening all series to at most 1000002\n",
      "Shortening all time series to at most 2500\n",
      "Shortening all time series to at most 2500\n",
      "Shortening all time series to at most 2500\n"
     ]
    },
    {
     "name": "stdout",
     "output_type": "stream",
     "text": [
      "hold\n"
     ]
    },
    {
     "name": "stderr",
     "output_type": "stream",
     "text": [
      "Cached predictions saved to /Users/jiro/play/nstrade/notebooks/AutogluonModels/ag-20250517_112123/models/cached_predictions.pkl\n",
      "Model not specified in predict, will default to the model with the best validation score: WeightedEnsemble\n",
      "Prediction order: ['RecursiveTabular', 'DynamicOptimizedTheta', 'AutoETS', 'SeasonalNaive', 'WeightedEnsemble']\n",
      "Shortening all series to at most 1000002\n",
      "Shortening all time series to at most 2500\n",
      "Shortening all time series to at most 2500\n",
      "Shortening all time series to at most 2500\n"
     ]
    },
    {
     "name": "stdout",
     "output_type": "stream",
     "text": [
      "hold\n"
     ]
    },
    {
     "name": "stderr",
     "output_type": "stream",
     "text": [
      "Cached predictions saved to /Users/jiro/play/nstrade/notebooks/AutogluonModels/ag-20250517_112123/models/cached_predictions.pkl\n",
      "Model not specified in predict, will default to the model with the best validation score: WeightedEnsemble\n",
      "Prediction order: ['RecursiveTabular', 'DynamicOptimizedTheta', 'AutoETS', 'SeasonalNaive', 'WeightedEnsemble']\n",
      "Shortening all series to at most 1000002\n",
      "Shortening all time series to at most 2500\n",
      "Shortening all time series to at most 2500\n",
      "Shortening all time series to at most 2500\n"
     ]
    },
    {
     "name": "stdout",
     "output_type": "stream",
     "text": [
      "hold\n"
     ]
    },
    {
     "name": "stderr",
     "output_type": "stream",
     "text": [
      "Cached predictions saved to /Users/jiro/play/nstrade/notebooks/AutogluonModels/ag-20250517_112123/models/cached_predictions.pkl\n",
      "Model not specified in predict, will default to the model with the best validation score: WeightedEnsemble\n",
      "Prediction order: ['RecursiveTabular', 'DynamicOptimizedTheta', 'AutoETS', 'SeasonalNaive', 'WeightedEnsemble']\n",
      "Shortening all series to at most 1000002\n",
      "Shortening all time series to at most 2500\n",
      "Shortening all time series to at most 2500\n",
      "Shortening all time series to at most 2500\n"
     ]
    },
    {
     "name": "stdout",
     "output_type": "stream",
     "text": [
      "hold\n"
     ]
    },
    {
     "name": "stderr",
     "output_type": "stream",
     "text": [
      "Cached predictions saved to /Users/jiro/play/nstrade/notebooks/AutogluonModels/ag-20250517_112123/models/cached_predictions.pkl\n",
      "Model not specified in predict, will default to the model with the best validation score: WeightedEnsemble\n"
     ]
    },
    {
     "name": "stdout",
     "output_type": "stream",
     "text": [
      "hold\n"
     ]
    },
    {
     "name": "stderr",
     "output_type": "stream",
     "text": [
      "Prediction order: ['RecursiveTabular', 'DynamicOptimizedTheta', 'AutoETS', 'SeasonalNaive', 'WeightedEnsemble']\n",
      "Shortening all series to at most 1000002\n",
      "Shortening all time series to at most 2500\n",
      "Shortening all time series to at most 2500\n",
      "Shortening all time series to at most 2500\n",
      "Cached predictions saved to /Users/jiro/play/nstrade/notebooks/AutogluonModels/ag-20250517_112123/models/cached_predictions.pkl\n",
      "Model not specified in predict, will default to the model with the best validation score: WeightedEnsemble\n",
      "Prediction order: ['RecursiveTabular', 'DynamicOptimizedTheta', 'AutoETS', 'SeasonalNaive', 'WeightedEnsemble']\n",
      "Shortening all series to at most 1000002\n",
      "Shortening all time series to at most 2500\n",
      "Shortening all time series to at most 2500\n",
      "Shortening all time series to at most 2500\n"
     ]
    },
    {
     "name": "stdout",
     "output_type": "stream",
     "text": [
      "hold\n"
     ]
    },
    {
     "name": "stderr",
     "output_type": "stream",
     "text": [
      "Cached predictions saved to /Users/jiro/play/nstrade/notebooks/AutogluonModels/ag-20250517_112123/models/cached_predictions.pkl\n",
      "Model not specified in predict, will default to the model with the best validation score: WeightedEnsemble\n",
      "Prediction order: ['RecursiveTabular', 'DynamicOptimizedTheta', 'AutoETS', 'SeasonalNaive', 'WeightedEnsemble']\n",
      "Shortening all series to at most 1000002\n",
      "Shortening all time series to at most 2500\n",
      "Shortening all time series to at most 2500\n",
      "Shortening all time series to at most 2500\n"
     ]
    },
    {
     "name": "stdout",
     "output_type": "stream",
     "text": [
      "hold\n"
     ]
    },
    {
     "name": "stderr",
     "output_type": "stream",
     "text": [
      "Cached predictions saved to /Users/jiro/play/nstrade/notebooks/AutogluonModels/ag-20250517_112123/models/cached_predictions.pkl\n",
      "Model not specified in predict, will default to the model with the best validation score: WeightedEnsemble\n"
     ]
    },
    {
     "name": "stdout",
     "output_type": "stream",
     "text": [
      "hold\n"
     ]
    },
    {
     "name": "stderr",
     "output_type": "stream",
     "text": [
      "Prediction order: ['RecursiveTabular', 'DynamicOptimizedTheta', 'AutoETS', 'SeasonalNaive', 'WeightedEnsemble']\n",
      "Shortening all series to at most 1000002\n",
      "Shortening all time series to at most 2500\n",
      "Shortening all time series to at most 2500\n",
      "Shortening all time series to at most 2500\n",
      "Cached predictions saved to /Users/jiro/play/nstrade/notebooks/AutogluonModels/ag-20250517_112123/models/cached_predictions.pkl\n",
      "Model not specified in predict, will default to the model with the best validation score: WeightedEnsemble\n",
      "Prediction order: ['RecursiveTabular', 'DynamicOptimizedTheta', 'AutoETS', 'SeasonalNaive', 'WeightedEnsemble']\n",
      "Shortening all series to at most 1000002\n",
      "Shortening all time series to at most 2500\n",
      "Shortening all time series to at most 2500\n",
      "Shortening all time series to at most 2500\n"
     ]
    },
    {
     "name": "stdout",
     "output_type": "stream",
     "text": [
      "hold\n"
     ]
    },
    {
     "name": "stderr",
     "output_type": "stream",
     "text": [
      "Cached predictions saved to /Users/jiro/play/nstrade/notebooks/AutogluonModels/ag-20250517_112123/models/cached_predictions.pkl\n",
      "Model not specified in predict, will default to the model with the best validation score: WeightedEnsemble\n",
      "Prediction order: ['RecursiveTabular', 'DynamicOptimizedTheta', 'AutoETS', 'SeasonalNaive', 'WeightedEnsemble']\n",
      "Shortening all series to at most 1000002\n",
      "Shortening all time series to at most 2500\n",
      "Shortening all time series to at most 2500\n",
      "Shortening all time series to at most 2500\n"
     ]
    },
    {
     "name": "stdout",
     "output_type": "stream",
     "text": [
      "hold\n"
     ]
    },
    {
     "name": "stderr",
     "output_type": "stream",
     "text": [
      "Cached predictions saved to /Users/jiro/play/nstrade/notebooks/AutogluonModels/ag-20250517_112123/models/cached_predictions.pkl\n",
      "Model not specified in predict, will default to the model with the best validation score: WeightedEnsemble\n"
     ]
    },
    {
     "name": "stdout",
     "output_type": "stream",
     "text": [
      "hold\n"
     ]
    },
    {
     "name": "stderr",
     "output_type": "stream",
     "text": [
      "Prediction order: ['RecursiveTabular', 'DynamicOptimizedTheta', 'AutoETS', 'SeasonalNaive', 'WeightedEnsemble']\n",
      "Shortening all series to at most 1000002\n",
      "Shortening all time series to at most 2500\n",
      "Shortening all time series to at most 2500\n",
      "Shortening all time series to at most 2500\n",
      "Cached predictions saved to /Users/jiro/play/nstrade/notebooks/AutogluonModels/ag-20250517_112123/models/cached_predictions.pkl\n",
      "Model not specified in predict, will default to the model with the best validation score: WeightedEnsemble\n",
      "Prediction order: ['RecursiveTabular', 'DynamicOptimizedTheta', 'AutoETS', 'SeasonalNaive', 'WeightedEnsemble']\n",
      "Shortening all series to at most 1000002\n",
      "Shortening all time series to at most 2500\n",
      "Shortening all time series to at most 2500\n",
      "Shortening all time series to at most 2500\n"
     ]
    },
    {
     "name": "stdout",
     "output_type": "stream",
     "text": [
      "hold\n"
     ]
    },
    {
     "name": "stderr",
     "output_type": "stream",
     "text": [
      "Cached predictions saved to /Users/jiro/play/nstrade/notebooks/AutogluonModels/ag-20250517_112123/models/cached_predictions.pkl\n",
      "Model not specified in predict, will default to the model with the best validation score: WeightedEnsemble\n",
      "Prediction order: ['RecursiveTabular', 'DynamicOptimizedTheta', 'AutoETS', 'SeasonalNaive', 'WeightedEnsemble']\n",
      "Shortening all series to at most 1000002\n",
      "Shortening all time series to at most 2500\n",
      "Shortening all time series to at most 2500\n",
      "Shortening all time series to at most 2500\n"
     ]
    },
    {
     "name": "stdout",
     "output_type": "stream",
     "text": [
      "hold\n"
     ]
    },
    {
     "name": "stderr",
     "output_type": "stream",
     "text": [
      "Cached predictions saved to /Users/jiro/play/nstrade/notebooks/AutogluonModels/ag-20250517_112123/models/cached_predictions.pkl\n",
      "Model not specified in predict, will default to the model with the best validation score: WeightedEnsemble\n"
     ]
    },
    {
     "name": "stdout",
     "output_type": "stream",
     "text": [
      "hold\n"
     ]
    },
    {
     "name": "stderr",
     "output_type": "stream",
     "text": [
      "Prediction order: ['RecursiveTabular', 'DynamicOptimizedTheta', 'AutoETS', 'SeasonalNaive', 'WeightedEnsemble']\n",
      "Shortening all series to at most 1000002\n",
      "Shortening all time series to at most 2500\n",
      "Shortening all time series to at most 2500\n",
      "Shortening all time series to at most 2500\n",
      "Cached predictions saved to /Users/jiro/play/nstrade/notebooks/AutogluonModels/ag-20250517_112123/models/cached_predictions.pkl\n",
      "Model not specified in predict, will default to the model with the best validation score: WeightedEnsemble\n",
      "Prediction order: ['RecursiveTabular', 'DynamicOptimizedTheta', 'AutoETS', 'SeasonalNaive', 'WeightedEnsemble']\n",
      "Shortening all series to at most 1000002\n",
      "Shortening all time series to at most 2500\n",
      "Shortening all time series to at most 2500\n",
      "Shortening all time series to at most 2500\n"
     ]
    },
    {
     "name": "stdout",
     "output_type": "stream",
     "text": [
      "hold\n"
     ]
    },
    {
     "name": "stderr",
     "output_type": "stream",
     "text": [
      "Cached predictions saved to /Users/jiro/play/nstrade/notebooks/AutogluonModels/ag-20250517_112123/models/cached_predictions.pkl\n",
      "Model not specified in predict, will default to the model with the best validation score: WeightedEnsemble\n",
      "Prediction order: ['RecursiveTabular', 'DynamicOptimizedTheta', 'AutoETS', 'SeasonalNaive', 'WeightedEnsemble']\n",
      "Shortening all series to at most 1000002\n",
      "Shortening all time series to at most 2500\n",
      "Shortening all time series to at most 2500\n",
      "Shortening all time series to at most 2500\n"
     ]
    },
    {
     "name": "stdout",
     "output_type": "stream",
     "text": [
      "hold\n"
     ]
    },
    {
     "name": "stderr",
     "output_type": "stream",
     "text": [
      "Cached predictions saved to /Users/jiro/play/nstrade/notebooks/AutogluonModels/ag-20250517_112123/models/cached_predictions.pkl\n",
      "Model not specified in predict, will default to the model with the best validation score: WeightedEnsemble\n",
      "Prediction order: ['RecursiveTabular', 'DynamicOptimizedTheta', 'AutoETS', 'SeasonalNaive', 'WeightedEnsemble']\n",
      "Shortening all series to at most 1000002\n",
      "Shortening all time series to at most 2500\n",
      "Shortening all time series to at most 2500\n",
      "Shortening all time series to at most 2500\n"
     ]
    },
    {
     "name": "stdout",
     "output_type": "stream",
     "text": [
      "hold\n"
     ]
    },
    {
     "name": "stderr",
     "output_type": "stream",
     "text": [
      "Cached predictions saved to /Users/jiro/play/nstrade/notebooks/AutogluonModels/ag-20250517_112123/models/cached_predictions.pkl\n",
      "Model not specified in predict, will default to the model with the best validation score: WeightedEnsemble\n"
     ]
    },
    {
     "name": "stdout",
     "output_type": "stream",
     "text": [
      "hold\n"
     ]
    },
    {
     "name": "stderr",
     "output_type": "stream",
     "text": [
      "Prediction order: ['RecursiveTabular', 'DynamicOptimizedTheta', 'AutoETS', 'SeasonalNaive', 'WeightedEnsemble']\n",
      "Shortening all series to at most 1000002\n",
      "Shortening all time series to at most 2500\n",
      "Shortening all time series to at most 2500\n",
      "Shortening all time series to at most 2500\n",
      "Cached predictions saved to /Users/jiro/play/nstrade/notebooks/AutogluonModels/ag-20250517_112123/models/cached_predictions.pkl\n",
      "Model not specified in predict, will default to the model with the best validation score: WeightedEnsemble\n",
      "Prediction order: ['RecursiveTabular', 'DynamicOptimizedTheta', 'AutoETS', 'SeasonalNaive', 'WeightedEnsemble']\n",
      "Shortening all series to at most 1000002\n",
      "Shortening all time series to at most 2500\n",
      "Shortening all time series to at most 2500\n",
      "Shortening all time series to at most 2500\n"
     ]
    },
    {
     "name": "stdout",
     "output_type": "stream",
     "text": [
      "hold\n"
     ]
    },
    {
     "name": "stderr",
     "output_type": "stream",
     "text": [
      "Cached predictions saved to /Users/jiro/play/nstrade/notebooks/AutogluonModels/ag-20250517_112123/models/cached_predictions.pkl\n",
      "Model not specified in predict, will default to the model with the best validation score: WeightedEnsemble\n",
      "Prediction order: ['RecursiveTabular', 'DynamicOptimizedTheta', 'AutoETS', 'SeasonalNaive', 'WeightedEnsemble']\n",
      "Shortening all series to at most 1000002\n",
      "Shortening all time series to at most 2500\n",
      "Shortening all time series to at most 2500\n",
      "Shortening all time series to at most 2500\n"
     ]
    },
    {
     "name": "stdout",
     "output_type": "stream",
     "text": [
      "hold\n"
     ]
    },
    {
     "name": "stderr",
     "output_type": "stream",
     "text": [
      "Cached predictions saved to /Users/jiro/play/nstrade/notebooks/AutogluonModels/ag-20250517_112123/models/cached_predictions.pkl\n",
      "Model not specified in predict, will default to the model with the best validation score: WeightedEnsemble\n"
     ]
    },
    {
     "name": "stdout",
     "output_type": "stream",
     "text": [
      "hold\n"
     ]
    },
    {
     "name": "stderr",
     "output_type": "stream",
     "text": [
      "Prediction order: ['RecursiveTabular', 'DynamicOptimizedTheta', 'AutoETS', 'SeasonalNaive', 'WeightedEnsemble']\n",
      "Shortening all series to at most 1000002\n",
      "Shortening all time series to at most 2500\n",
      "Shortening all time series to at most 2500\n",
      "Shortening all time series to at most 2500\n",
      "Cached predictions saved to /Users/jiro/play/nstrade/notebooks/AutogluonModels/ag-20250517_112123/models/cached_predictions.pkl\n",
      "Model not specified in predict, will default to the model with the best validation score: WeightedEnsemble\n",
      "Prediction order: ['RecursiveTabular', 'DynamicOptimizedTheta', 'AutoETS', 'SeasonalNaive', 'WeightedEnsemble']\n",
      "Shortening all series to at most 1000002\n",
      "Shortening all time series to at most 2500\n",
      "Shortening all time series to at most 2500\n",
      "Shortening all time series to at most 2500\n"
     ]
    },
    {
     "name": "stdout",
     "output_type": "stream",
     "text": [
      "hold\n"
     ]
    },
    {
     "name": "stderr",
     "output_type": "stream",
     "text": [
      "Cached predictions saved to /Users/jiro/play/nstrade/notebooks/AutogluonModels/ag-20250517_112123/models/cached_predictions.pkl\n",
      "Model not specified in predict, will default to the model with the best validation score: WeightedEnsemble\n",
      "Prediction order: ['RecursiveTabular', 'DynamicOptimizedTheta', 'AutoETS', 'SeasonalNaive', 'WeightedEnsemble']\n",
      "Shortening all series to at most 1000002\n",
      "Shortening all time series to at most 2500\n",
      "Shortening all time series to at most 2500\n",
      "Shortening all time series to at most 2500\n"
     ]
    },
    {
     "name": "stdout",
     "output_type": "stream",
     "text": [
      "hold\n"
     ]
    },
    {
     "name": "stderr",
     "output_type": "stream",
     "text": [
      "Cached predictions saved to /Users/jiro/play/nstrade/notebooks/AutogluonModels/ag-20250517_112123/models/cached_predictions.pkl\n",
      "Model not specified in predict, will default to the model with the best validation score: WeightedEnsemble\n"
     ]
    },
    {
     "name": "stdout",
     "output_type": "stream",
     "text": [
      "hold\n"
     ]
    },
    {
     "name": "stderr",
     "output_type": "stream",
     "text": [
      "Prediction order: ['RecursiveTabular', 'DynamicOptimizedTheta', 'AutoETS', 'SeasonalNaive', 'WeightedEnsemble']\n",
      "Shortening all series to at most 1000002\n",
      "Shortening all time series to at most 2500\n",
      "Shortening all time series to at most 2500\n",
      "Shortening all time series to at most 2500\n",
      "Cached predictions saved to /Users/jiro/play/nstrade/notebooks/AutogluonModels/ag-20250517_112123/models/cached_predictions.pkl\n",
      "Model not specified in predict, will default to the model with the best validation score: WeightedEnsemble\n"
     ]
    },
    {
     "name": "stdout",
     "output_type": "stream",
     "text": [
      "hold\n"
     ]
    },
    {
     "name": "stderr",
     "output_type": "stream",
     "text": [
      "Prediction order: ['RecursiveTabular', 'DynamicOptimizedTheta', 'AutoETS', 'SeasonalNaive', 'WeightedEnsemble']\n",
      "Shortening all series to at most 1000002\n",
      "Shortening all time series to at most 2500\n",
      "Shortening all time series to at most 2500\n",
      "Shortening all time series to at most 2500\n",
      "Cached predictions saved to /Users/jiro/play/nstrade/notebooks/AutogluonModels/ag-20250517_112123/models/cached_predictions.pkl\n",
      "Model not specified in predict, will default to the model with the best validation score: WeightedEnsemble\n",
      "Prediction order: ['RecursiveTabular', 'DynamicOptimizedTheta', 'AutoETS', 'SeasonalNaive', 'WeightedEnsemble']\n",
      "Shortening all series to at most 1000002\n",
      "Shortening all time series to at most 2500\n",
      "Shortening all time series to at most 2500\n",
      "Shortening all time series to at most 2500\n"
     ]
    },
    {
     "name": "stdout",
     "output_type": "stream",
     "text": [
      "hold\n"
     ]
    },
    {
     "name": "stderr",
     "output_type": "stream",
     "text": [
      "Cached predictions saved to /Users/jiro/play/nstrade/notebooks/AutogluonModels/ag-20250517_112123/models/cached_predictions.pkl\n",
      "Model not specified in predict, will default to the model with the best validation score: WeightedEnsemble\n",
      "Prediction order: ['RecursiveTabular', 'DynamicOptimizedTheta', 'AutoETS', 'SeasonalNaive', 'WeightedEnsemble']\n",
      "Shortening all series to at most 1000002\n",
      "Shortening all time series to at most 2500\n",
      "Shortening all time series to at most 2500\n",
      "Shortening all time series to at most 2500\n"
     ]
    },
    {
     "name": "stdout",
     "output_type": "stream",
     "text": [
      "hold\n"
     ]
    },
    {
     "name": "stderr",
     "output_type": "stream",
     "text": [
      "Cached predictions saved to /Users/jiro/play/nstrade/notebooks/AutogluonModels/ag-20250517_112123/models/cached_predictions.pkl\n",
      "Model not specified in predict, will default to the model with the best validation score: WeightedEnsemble\n"
     ]
    },
    {
     "name": "stdout",
     "output_type": "stream",
     "text": [
      "hold\n"
     ]
    },
    {
     "name": "stderr",
     "output_type": "stream",
     "text": [
      "Prediction order: ['RecursiveTabular', 'DynamicOptimizedTheta', 'AutoETS', 'SeasonalNaive', 'WeightedEnsemble']\n",
      "Shortening all series to at most 1000002\n",
      "Shortening all time series to at most 2500\n",
      "Shortening all time series to at most 2500\n",
      "Shortening all time series to at most 2500\n",
      "Cached predictions saved to /Users/jiro/play/nstrade/notebooks/AutogluonModels/ag-20250517_112123/models/cached_predictions.pkl\n",
      "Model not specified in predict, will default to the model with the best validation score: WeightedEnsemble\n",
      "Prediction order: ['RecursiveTabular', 'DynamicOptimizedTheta', 'AutoETS', 'SeasonalNaive', 'WeightedEnsemble']\n"
     ]
    },
    {
     "name": "stdout",
     "output_type": "stream",
     "text": [
      "hold\n"
     ]
    },
    {
     "name": "stderr",
     "output_type": "stream",
     "text": [
      "Shortening all series to at most 1000002\n",
      "Shortening all time series to at most 2500\n",
      "Shortening all time series to at most 2500\n",
      "Shortening all time series to at most 2500\n",
      "Cached predictions saved to /Users/jiro/play/nstrade/notebooks/AutogluonModels/ag-20250517_112123/models/cached_predictions.pkl\n",
      "Model not specified in predict, will default to the model with the best validation score: WeightedEnsemble\n",
      "Prediction order: ['RecursiveTabular', 'DynamicOptimizedTheta', 'AutoETS', 'SeasonalNaive', 'WeightedEnsemble']\n",
      "Shortening all series to at most 1000002\n",
      "Shortening all time series to at most 2500\n",
      "Shortening all time series to at most 2500\n",
      "Shortening all time series to at most 2500\n"
     ]
    },
    {
     "name": "stdout",
     "output_type": "stream",
     "text": [
      "hold\n"
     ]
    },
    {
     "name": "stderr",
     "output_type": "stream",
     "text": [
      "Cached predictions saved to /Users/jiro/play/nstrade/notebooks/AutogluonModels/ag-20250517_112123/models/cached_predictions.pkl\n",
      "Model not specified in predict, will default to the model with the best validation score: WeightedEnsemble\n",
      "Prediction order: ['RecursiveTabular', 'DynamicOptimizedTheta', 'AutoETS', 'SeasonalNaive', 'WeightedEnsemble']\n",
      "Shortening all series to at most 1000002\n",
      "Shortening all time series to at most 2500\n",
      "Shortening all time series to at most 2500\n",
      "Shortening all time series to at most 2500\n"
     ]
    },
    {
     "name": "stdout",
     "output_type": "stream",
     "text": [
      "hold\n"
     ]
    },
    {
     "name": "stderr",
     "output_type": "stream",
     "text": [
      "Cached predictions saved to /Users/jiro/play/nstrade/notebooks/AutogluonModels/ag-20250517_112123/models/cached_predictions.pkl\n",
      "Model not specified in predict, will default to the model with the best validation score: WeightedEnsemble\n",
      "Prediction order: ['RecursiveTabular', 'DynamicOptimizedTheta', 'AutoETS', 'SeasonalNaive', 'WeightedEnsemble']\n",
      "Shortening all series to at most 1000002\n",
      "Shortening all time series to at most 2500\n",
      "Shortening all time series to at most 2500\n",
      "Shortening all time series to at most 2500\n"
     ]
    },
    {
     "name": "stdout",
     "output_type": "stream",
     "text": [
      "hold\n"
     ]
    },
    {
     "name": "stderr",
     "output_type": "stream",
     "text": [
      "Cached predictions saved to /Users/jiro/play/nstrade/notebooks/AutogluonModels/ag-20250517_112123/models/cached_predictions.pkl\n",
      "Model not specified in predict, will default to the model with the best validation score: WeightedEnsemble\n"
     ]
    },
    {
     "name": "stdout",
     "output_type": "stream",
     "text": [
      "hold\n"
     ]
    },
    {
     "name": "stderr",
     "output_type": "stream",
     "text": [
      "Prediction order: ['RecursiveTabular', 'DynamicOptimizedTheta', 'AutoETS', 'SeasonalNaive', 'WeightedEnsemble']\n",
      "Shortening all series to at most 1000002\n",
      "Shortening all time series to at most 2500\n",
      "Shortening all time series to at most 2500\n",
      "Shortening all time series to at most 2500\n",
      "Cached predictions saved to /Users/jiro/play/nstrade/notebooks/AutogluonModels/ag-20250517_112123/models/cached_predictions.pkl\n",
      "Model not specified in predict, will default to the model with the best validation score: WeightedEnsemble\n",
      "Prediction order: ['RecursiveTabular', 'DynamicOptimizedTheta', 'AutoETS', 'SeasonalNaive', 'WeightedEnsemble']\n",
      "Shortening all series to at most 1000002\n",
      "Shortening all time series to at most 2500\n",
      "Shortening all time series to at most 2500\n",
      "Shortening all time series to at most 2500\n"
     ]
    },
    {
     "name": "stdout",
     "output_type": "stream",
     "text": [
      "hold\n"
     ]
    },
    {
     "name": "stderr",
     "output_type": "stream",
     "text": [
      "Cached predictions saved to /Users/jiro/play/nstrade/notebooks/AutogluonModels/ag-20250517_112123/models/cached_predictions.pkl\n",
      "Model not specified in predict, will default to the model with the best validation score: WeightedEnsemble\n",
      "Prediction order: ['RecursiveTabular', 'DynamicOptimizedTheta', 'AutoETS', 'SeasonalNaive', 'WeightedEnsemble']\n",
      "Shortening all series to at most 1000002\n",
      "Shortening all time series to at most 2500\n",
      "Shortening all time series to at most 2500\n",
      "Shortening all time series to at most 2500\n"
     ]
    },
    {
     "name": "stdout",
     "output_type": "stream",
     "text": [
      "hold\n"
     ]
    },
    {
     "name": "stderr",
     "output_type": "stream",
     "text": [
      "Cached predictions saved to /Users/jiro/play/nstrade/notebooks/AutogluonModels/ag-20250517_112123/models/cached_predictions.pkl\n",
      "Model not specified in predict, will default to the model with the best validation score: WeightedEnsemble\n",
      "Prediction order: ['RecursiveTabular', 'DynamicOptimizedTheta', 'AutoETS', 'SeasonalNaive', 'WeightedEnsemble']\n",
      "Shortening all series to at most 1000002\n",
      "Shortening all time series to at most 2500\n",
      "Shortening all time series to at most 2500\n",
      "Shortening all time series to at most 2500\n"
     ]
    },
    {
     "name": "stdout",
     "output_type": "stream",
     "text": [
      "hold\n"
     ]
    },
    {
     "name": "stderr",
     "output_type": "stream",
     "text": [
      "Cached predictions saved to /Users/jiro/play/nstrade/notebooks/AutogluonModels/ag-20250517_112123/models/cached_predictions.pkl\n",
      "Model not specified in predict, will default to the model with the best validation score: WeightedEnsemble\n"
     ]
    },
    {
     "name": "stdout",
     "output_type": "stream",
     "text": [
      "hold\n"
     ]
    },
    {
     "name": "stderr",
     "output_type": "stream",
     "text": [
      "Prediction order: ['RecursiveTabular', 'DynamicOptimizedTheta', 'AutoETS', 'SeasonalNaive', 'WeightedEnsemble']\n",
      "Shortening all series to at most 1000002\n",
      "Shortening all time series to at most 2500\n",
      "Shortening all time series to at most 2500\n",
      "Shortening all time series to at most 2500\n",
      "Cached predictions saved to /Users/jiro/play/nstrade/notebooks/AutogluonModels/ag-20250517_112123/models/cached_predictions.pkl\n",
      "Model not specified in predict, will default to the model with the best validation score: WeightedEnsemble\n",
      "Prediction order: ['RecursiveTabular', 'DynamicOptimizedTheta', 'AutoETS', 'SeasonalNaive', 'WeightedEnsemble']\n",
      "Shortening all series to at most 1000002\n",
      "Shortening all time series to at most 2500\n",
      "Shortening all time series to at most 2500\n",
      "Shortening all time series to at most 2500\n"
     ]
    },
    {
     "name": "stdout",
     "output_type": "stream",
     "text": [
      "hold\n"
     ]
    },
    {
     "name": "stderr",
     "output_type": "stream",
     "text": [
      "Cached predictions saved to /Users/jiro/play/nstrade/notebooks/AutogluonModels/ag-20250517_112123/models/cached_predictions.pkl\n",
      "Model not specified in predict, will default to the model with the best validation score: WeightedEnsemble\n",
      "Prediction order: ['RecursiveTabular', 'DynamicOptimizedTheta', 'AutoETS', 'SeasonalNaive', 'WeightedEnsemble']\n",
      "Shortening all series to at most 1000002\n",
      "Shortening all time series to at most 2500\n",
      "Shortening all time series to at most 2500\n",
      "Shortening all time series to at most 2500\n"
     ]
    },
    {
     "name": "stdout",
     "output_type": "stream",
     "text": [
      "hold\n"
     ]
    },
    {
     "name": "stderr",
     "output_type": "stream",
     "text": [
      "Cached predictions saved to /Users/jiro/play/nstrade/notebooks/AutogluonModels/ag-20250517_112123/models/cached_predictions.pkl\n",
      "Model not specified in predict, will default to the model with the best validation score: WeightedEnsemble\n",
      "Prediction order: ['RecursiveTabular', 'DynamicOptimizedTheta', 'AutoETS', 'SeasonalNaive', 'WeightedEnsemble']\n",
      "Shortening all series to at most 1000002\n",
      "Shortening all time series to at most 2500\n",
      "Shortening all time series to at most 2500\n",
      "Shortening all time series to at most 2500\n"
     ]
    },
    {
     "name": "stdout",
     "output_type": "stream",
     "text": [
      "hold\n"
     ]
    },
    {
     "name": "stderr",
     "output_type": "stream",
     "text": [
      "Cached predictions saved to /Users/jiro/play/nstrade/notebooks/AutogluonModels/ag-20250517_112123/models/cached_predictions.pkl\n",
      "Model not specified in predict, will default to the model with the best validation score: WeightedEnsemble\n"
     ]
    },
    {
     "name": "stdout",
     "output_type": "stream",
     "text": [
      "hold\n"
     ]
    },
    {
     "name": "stderr",
     "output_type": "stream",
     "text": [
      "Prediction order: ['RecursiveTabular', 'DynamicOptimizedTheta', 'AutoETS', 'SeasonalNaive', 'WeightedEnsemble']\n",
      "Shortening all series to at most 1000002\n",
      "Shortening all time series to at most 2500\n",
      "Shortening all time series to at most 2500\n",
      "Shortening all time series to at most 2500\n",
      "Cached predictions saved to /Users/jiro/play/nstrade/notebooks/AutogluonModels/ag-20250517_112123/models/cached_predictions.pkl\n",
      "Model not specified in predict, will default to the model with the best validation score: WeightedEnsemble\n",
      "Prediction order: ['RecursiveTabular', 'DynamicOptimizedTheta', 'AutoETS', 'SeasonalNaive', 'WeightedEnsemble']\n",
      "Shortening all series to at most 1000002\n",
      "Shortening all time series to at most 2500\n",
      "Shortening all time series to at most 2500\n",
      "Shortening all time series to at most 2500\n"
     ]
    },
    {
     "name": "stdout",
     "output_type": "stream",
     "text": [
      "hold\n"
     ]
    },
    {
     "name": "stderr",
     "output_type": "stream",
     "text": [
      "Cached predictions saved to /Users/jiro/play/nstrade/notebooks/AutogluonModels/ag-20250517_112123/models/cached_predictions.pkl\n",
      "Model not specified in predict, will default to the model with the best validation score: WeightedEnsemble\n",
      "Prediction order: ['RecursiveTabular', 'DynamicOptimizedTheta', 'AutoETS', 'SeasonalNaive', 'WeightedEnsemble']\n",
      "Shortening all series to at most 1000002\n",
      "Shortening all time series to at most 2500\n",
      "Shortening all time series to at most 2500\n",
      "Shortening all time series to at most 2500\n"
     ]
    },
    {
     "name": "stdout",
     "output_type": "stream",
     "text": [
      "hold\n"
     ]
    },
    {
     "name": "stderr",
     "output_type": "stream",
     "text": [
      "Cached predictions saved to /Users/jiro/play/nstrade/notebooks/AutogluonModels/ag-20250517_112123/models/cached_predictions.pkl\n",
      "Model not specified in predict, will default to the model with the best validation score: WeightedEnsemble\n",
      "Prediction order: ['RecursiveTabular', 'DynamicOptimizedTheta', 'AutoETS', 'SeasonalNaive', 'WeightedEnsemble']\n",
      "Shortening all series to at most 1000002\n",
      "Shortening all time series to at most 2500\n",
      "Shortening all time series to at most 2500\n",
      "Shortening all time series to at most 2500\n"
     ]
    },
    {
     "name": "stdout",
     "output_type": "stream",
     "text": [
      "hold\n"
     ]
    },
    {
     "name": "stderr",
     "output_type": "stream",
     "text": [
      "Cached predictions saved to /Users/jiro/play/nstrade/notebooks/AutogluonModels/ag-20250517_112123/models/cached_predictions.pkl\n",
      "Model not specified in predict, will default to the model with the best validation score: WeightedEnsemble\n"
     ]
    },
    {
     "name": "stdout",
     "output_type": "stream",
     "text": [
      "hold\n"
     ]
    },
    {
     "name": "stderr",
     "output_type": "stream",
     "text": [
      "Prediction order: ['RecursiveTabular', 'DynamicOptimizedTheta', 'AutoETS', 'SeasonalNaive', 'WeightedEnsemble']\n",
      "Shortening all series to at most 1000002\n",
      "Shortening all time series to at most 2500\n",
      "Shortening all time series to at most 2500\n",
      "Shortening all time series to at most 2500\n",
      "Cached predictions saved to /Users/jiro/play/nstrade/notebooks/AutogluonModels/ag-20250517_112123/models/cached_predictions.pkl\n",
      "Model not specified in predict, will default to the model with the best validation score: WeightedEnsemble\n"
     ]
    },
    {
     "name": "stdout",
     "output_type": "stream",
     "text": [
      "hold\n"
     ]
    },
    {
     "name": "stderr",
     "output_type": "stream",
     "text": [
      "Prediction order: ['RecursiveTabular', 'DynamicOptimizedTheta', 'AutoETS', 'SeasonalNaive', 'WeightedEnsemble']\n",
      "Shortening all series to at most 1000002\n",
      "Shortening all time series to at most 2500\n",
      "Shortening all time series to at most 2500\n",
      "Shortening all time series to at most 2500\n",
      "Cached predictions saved to /Users/jiro/play/nstrade/notebooks/AutogluonModels/ag-20250517_112123/models/cached_predictions.pkl\n",
      "Model not specified in predict, will default to the model with the best validation score: WeightedEnsemble\n",
      "Prediction order: ['RecursiveTabular', 'DynamicOptimizedTheta', 'AutoETS', 'SeasonalNaive', 'WeightedEnsemble']\n",
      "Shortening all series to at most 1000002\n",
      "Shortening all time series to at most 2500\n",
      "Shortening all time series to at most 2500\n",
      "Shortening all time series to at most 2500\n"
     ]
    },
    {
     "name": "stdout",
     "output_type": "stream",
     "text": [
      "hold\n"
     ]
    },
    {
     "name": "stderr",
     "output_type": "stream",
     "text": [
      "Cached predictions saved to /Users/jiro/play/nstrade/notebooks/AutogluonModels/ag-20250517_112123/models/cached_predictions.pkl\n",
      "Model not specified in predict, will default to the model with the best validation score: WeightedEnsemble\n",
      "Prediction order: ['RecursiveTabular', 'DynamicOptimizedTheta', 'AutoETS', 'SeasonalNaive', 'WeightedEnsemble']\n",
      "Shortening all series to at most 1000002\n",
      "Shortening all time series to at most 2500\n",
      "Shortening all time series to at most 2500\n",
      "Shortening all time series to at most 2500\n"
     ]
    },
    {
     "name": "stdout",
     "output_type": "stream",
     "text": [
      "hold\n"
     ]
    },
    {
     "name": "stderr",
     "output_type": "stream",
     "text": [
      "Cached predictions saved to /Users/jiro/play/nstrade/notebooks/AutogluonModels/ag-20250517_112123/models/cached_predictions.pkl\n",
      "Model not specified in predict, will default to the model with the best validation score: WeightedEnsemble\n",
      "Prediction order: ['RecursiveTabular', 'DynamicOptimizedTheta', 'AutoETS', 'SeasonalNaive', 'WeightedEnsemble']\n",
      "Shortening all series to at most 1000002\n",
      "Shortening all time series to at most 2500\n",
      "Shortening all time series to at most 2500\n",
      "Shortening all time series to at most 2500\n"
     ]
    },
    {
     "name": "stdout",
     "output_type": "stream",
     "text": [
      "hold\n"
     ]
    },
    {
     "name": "stderr",
     "output_type": "stream",
     "text": [
      "Cached predictions saved to /Users/jiro/play/nstrade/notebooks/AutogluonModels/ag-20250517_112123/models/cached_predictions.pkl\n",
      "Model not specified in predict, will default to the model with the best validation score: WeightedEnsemble\n"
     ]
    },
    {
     "name": "stdout",
     "output_type": "stream",
     "text": [
      "hold\n"
     ]
    },
    {
     "name": "stderr",
     "output_type": "stream",
     "text": [
      "Prediction order: ['RecursiveTabular', 'DynamicOptimizedTheta', 'AutoETS', 'SeasonalNaive', 'WeightedEnsemble']\n",
      "Shortening all series to at most 1000002\n",
      "Shortening all time series to at most 2500\n",
      "Shortening all time series to at most 2500\n",
      "Shortening all time series to at most 2500\n",
      "Cached predictions saved to /Users/jiro/play/nstrade/notebooks/AutogluonModels/ag-20250517_112123/models/cached_predictions.pkl\n",
      "Model not specified in predict, will default to the model with the best validation score: WeightedEnsemble\n"
     ]
    },
    {
     "name": "stdout",
     "output_type": "stream",
     "text": [
      "hold\n"
     ]
    },
    {
     "name": "stderr",
     "output_type": "stream",
     "text": [
      "Prediction order: ['RecursiveTabular', 'DynamicOptimizedTheta', 'AutoETS', 'SeasonalNaive', 'WeightedEnsemble']\n",
      "Shortening all series to at most 1000002\n",
      "Shortening all time series to at most 2500\n",
      "Shortening all time series to at most 2500\n",
      "Shortening all time series to at most 2500\n",
      "Cached predictions saved to /Users/jiro/play/nstrade/notebooks/AutogluonModels/ag-20250517_112123/models/cached_predictions.pkl\n",
      "Model not specified in predict, will default to the model with the best validation score: WeightedEnsemble\n",
      "Prediction order: ['RecursiveTabular', 'DynamicOptimizedTheta', 'AutoETS', 'SeasonalNaive', 'WeightedEnsemble']\n",
      "Shortening all series to at most 1000002\n",
      "Shortening all time series to at most 2500\n",
      "Shortening all time series to at most 2500\n",
      "Shortening all time series to at most 2500\n"
     ]
    },
    {
     "name": "stdout",
     "output_type": "stream",
     "text": [
      "hold\n"
     ]
    },
    {
     "name": "stderr",
     "output_type": "stream",
     "text": [
      "Cached predictions saved to /Users/jiro/play/nstrade/notebooks/AutogluonModels/ag-20250517_112123/models/cached_predictions.pkl\n",
      "Model not specified in predict, will default to the model with the best validation score: WeightedEnsemble\n",
      "Prediction order: ['RecursiveTabular', 'DynamicOptimizedTheta', 'AutoETS', 'SeasonalNaive', 'WeightedEnsemble']\n",
      "Shortening all series to at most 1000002\n",
      "Shortening all time series to at most 2500\n",
      "Shortening all time series to at most 2500\n",
      "Shortening all time series to at most 2500\n"
     ]
    },
    {
     "name": "stdout",
     "output_type": "stream",
     "text": [
      "hold\n"
     ]
    },
    {
     "name": "stderr",
     "output_type": "stream",
     "text": [
      "Cached predictions saved to /Users/jiro/play/nstrade/notebooks/AutogluonModels/ag-20250517_112123/models/cached_predictions.pkl\n",
      "Model not specified in predict, will default to the model with the best validation score: WeightedEnsemble\n",
      "Prediction order: ['RecursiveTabular', 'DynamicOptimizedTheta', 'AutoETS', 'SeasonalNaive', 'WeightedEnsemble']\n",
      "Shortening all series to at most 1000002\n",
      "Shortening all time series to at most 2500\n",
      "Shortening all time series to at most 2500\n",
      "Shortening all time series to at most 2500\n"
     ]
    },
    {
     "name": "stdout",
     "output_type": "stream",
     "text": [
      "hold\n"
     ]
    },
    {
     "name": "stderr",
     "output_type": "stream",
     "text": [
      "Cached predictions saved to /Users/jiro/play/nstrade/notebooks/AutogluonModels/ag-20250517_112123/models/cached_predictions.pkl\n",
      "Model not specified in predict, will default to the model with the best validation score: WeightedEnsemble\n"
     ]
    },
    {
     "name": "stdout",
     "output_type": "stream",
     "text": [
      "hold\n"
     ]
    },
    {
     "name": "stderr",
     "output_type": "stream",
     "text": [
      "Prediction order: ['RecursiveTabular', 'DynamicOptimizedTheta', 'AutoETS', 'SeasonalNaive', 'WeightedEnsemble']\n",
      "Shortening all series to at most 1000002\n",
      "Shortening all time series to at most 2500\n",
      "Shortening all time series to at most 2500\n",
      "Shortening all time series to at most 2500\n",
      "Cached predictions saved to /Users/jiro/play/nstrade/notebooks/AutogluonModels/ag-20250517_112123/models/cached_predictions.pkl\n",
      "Model not specified in predict, will default to the model with the best validation score: WeightedEnsemble\n"
     ]
    },
    {
     "name": "stdout",
     "output_type": "stream",
     "text": [
      "hold\n"
     ]
    },
    {
     "name": "stderr",
     "output_type": "stream",
     "text": [
      "Prediction order: ['RecursiveTabular', 'DynamicOptimizedTheta', 'AutoETS', 'SeasonalNaive', 'WeightedEnsemble']\n",
      "Shortening all series to at most 1000002\n",
      "Shortening all time series to at most 2500\n",
      "Shortening all time series to at most 2500\n",
      "Shortening all time series to at most 2500\n",
      "Cached predictions saved to /Users/jiro/play/nstrade/notebooks/AutogluonModels/ag-20250517_112123/models/cached_predictions.pkl\n",
      "Model not specified in predict, will default to the model with the best validation score: WeightedEnsemble\n",
      "Prediction order: ['RecursiveTabular', 'DynamicOptimizedTheta', 'AutoETS', 'SeasonalNaive', 'WeightedEnsemble']\n",
      "Shortening all series to at most 1000002\n",
      "Shortening all time series to at most 2500\n",
      "Shortening all time series to at most 2500\n",
      "Shortening all time series to at most 2500\n"
     ]
    },
    {
     "name": "stdout",
     "output_type": "stream",
     "text": [
      "hold\n"
     ]
    },
    {
     "name": "stderr",
     "output_type": "stream",
     "text": [
      "Cached predictions saved to /Users/jiro/play/nstrade/notebooks/AutogluonModels/ag-20250517_112123/models/cached_predictions.pkl\n",
      "Model not specified in predict, will default to the model with the best validation score: WeightedEnsemble\n",
      "Prediction order: ['RecursiveTabular', 'DynamicOptimizedTheta', 'AutoETS', 'SeasonalNaive', 'WeightedEnsemble']\n",
      "Shortening all series to at most 1000002\n",
      "Shortening all time series to at most 2500\n",
      "Shortening all time series to at most 2500\n",
      "Shortening all time series to at most 2500\n"
     ]
    },
    {
     "name": "stdout",
     "output_type": "stream",
     "text": [
      "hold\n"
     ]
    },
    {
     "name": "stderr",
     "output_type": "stream",
     "text": [
      "Cached predictions saved to /Users/jiro/play/nstrade/notebooks/AutogluonModels/ag-20250517_112123/models/cached_predictions.pkl\n",
      "Model not specified in predict, will default to the model with the best validation score: WeightedEnsemble\n",
      "Prediction order: ['RecursiveTabular', 'DynamicOptimizedTheta', 'AutoETS', 'SeasonalNaive', 'WeightedEnsemble']\n",
      "Shortening all series to at most 1000002\n",
      "Shortening all time series to at most 2500\n",
      "Shortening all time series to at most 2500\n",
      "Shortening all time series to at most 2500\n"
     ]
    },
    {
     "name": "stdout",
     "output_type": "stream",
     "text": [
      "hold\n"
     ]
    },
    {
     "name": "stderr",
     "output_type": "stream",
     "text": [
      "Cached predictions saved to /Users/jiro/play/nstrade/notebooks/AutogluonModels/ag-20250517_112123/models/cached_predictions.pkl\n",
      "Model not specified in predict, will default to the model with the best validation score: WeightedEnsemble\n",
      "Prediction order: ['RecursiveTabular', 'DynamicOptimizedTheta', 'AutoETS', 'SeasonalNaive', 'WeightedEnsemble']\n",
      "Shortening all series to at most 1000002\n",
      "Shortening all time series to at most 2500\n",
      "Shortening all time series to at most 2500\n",
      "Shortening all time series to at most 2500\n"
     ]
    },
    {
     "name": "stdout",
     "output_type": "stream",
     "text": [
      "hold\n"
     ]
    },
    {
     "name": "stderr",
     "output_type": "stream",
     "text": [
      "Cached predictions saved to /Users/jiro/play/nstrade/notebooks/AutogluonModels/ag-20250517_112123/models/cached_predictions.pkl\n",
      "Model not specified in predict, will default to the model with the best validation score: WeightedEnsemble\n"
     ]
    },
    {
     "name": "stdout",
     "output_type": "stream",
     "text": [
      "hold\n"
     ]
    },
    {
     "name": "stderr",
     "output_type": "stream",
     "text": [
      "Prediction order: ['RecursiveTabular', 'DynamicOptimizedTheta', 'AutoETS', 'SeasonalNaive', 'WeightedEnsemble']\n",
      "Shortening all series to at most 1000002\n",
      "Shortening all time series to at most 2500\n",
      "Shortening all time series to at most 2500\n",
      "Shortening all time series to at most 2500\n",
      "Cached predictions saved to /Users/jiro/play/nstrade/notebooks/AutogluonModels/ag-20250517_112123/models/cached_predictions.pkl\n",
      "Model not specified in predict, will default to the model with the best validation score: WeightedEnsemble\n"
     ]
    },
    {
     "name": "stdout",
     "output_type": "stream",
     "text": [
      "hold\n"
     ]
    },
    {
     "name": "stderr",
     "output_type": "stream",
     "text": [
      "Prediction order: ['RecursiveTabular', 'DynamicOptimizedTheta', 'AutoETS', 'SeasonalNaive', 'WeightedEnsemble']\n",
      "Shortening all series to at most 1000002\n",
      "Shortening all time series to at most 2500\n",
      "Shortening all time series to at most 2500\n",
      "Shortening all time series to at most 2500\n",
      "Cached predictions saved to /Users/jiro/play/nstrade/notebooks/AutogluonModels/ag-20250517_112123/models/cached_predictions.pkl\n",
      "Model not specified in predict, will default to the model with the best validation score: WeightedEnsemble\n",
      "Prediction order: ['RecursiveTabular', 'DynamicOptimizedTheta', 'AutoETS', 'SeasonalNaive', 'WeightedEnsemble']\n",
      "Shortening all series to at most 1000002\n",
      "Shortening all time series to at most 2500\n",
      "Shortening all time series to at most 2500\n",
      "Shortening all time series to at most 2500\n"
     ]
    },
    {
     "name": "stdout",
     "output_type": "stream",
     "text": [
      "hold\n"
     ]
    },
    {
     "name": "stderr",
     "output_type": "stream",
     "text": [
      "Cached predictions saved to /Users/jiro/play/nstrade/notebooks/AutogluonModels/ag-20250517_112123/models/cached_predictions.pkl\n",
      "Model not specified in predict, will default to the model with the best validation score: WeightedEnsemble\n",
      "Prediction order: ['RecursiveTabular', 'DynamicOptimizedTheta', 'AutoETS', 'SeasonalNaive', 'WeightedEnsemble']\n",
      "Shortening all series to at most 1000002\n",
      "Shortening all time series to at most 2500\n",
      "Shortening all time series to at most 2500\n",
      "Shortening all time series to at most 2500\n"
     ]
    },
    {
     "name": "stdout",
     "output_type": "stream",
     "text": [
      "hold\n"
     ]
    },
    {
     "name": "stderr",
     "output_type": "stream",
     "text": [
      "Cached predictions saved to /Users/jiro/play/nstrade/notebooks/AutogluonModels/ag-20250517_112123/models/cached_predictions.pkl\n",
      "Model not specified in predict, will default to the model with the best validation score: WeightedEnsemble\n",
      "Prediction order: ['RecursiveTabular', 'DynamicOptimizedTheta', 'AutoETS', 'SeasonalNaive', 'WeightedEnsemble']\n",
      "Shortening all series to at most 1000002\n",
      "Shortening all time series to at most 2500\n",
      "Shortening all time series to at most 2500\n",
      "Shortening all time series to at most 2500\n"
     ]
    },
    {
     "name": "stdout",
     "output_type": "stream",
     "text": [
      "hold\n"
     ]
    },
    {
     "name": "stderr",
     "output_type": "stream",
     "text": [
      "Cached predictions saved to /Users/jiro/play/nstrade/notebooks/AutogluonModels/ag-20250517_112123/models/cached_predictions.pkl\n",
      "Model not specified in predict, will default to the model with the best validation score: WeightedEnsemble\n",
      "Prediction order: ['RecursiveTabular', 'DynamicOptimizedTheta', 'AutoETS', 'SeasonalNaive', 'WeightedEnsemble']\n",
      "Shortening all series to at most 1000002\n",
      "Shortening all time series to at most 2500\n",
      "Shortening all time series to at most 2500\n",
      "Shortening all time series to at most 2500\n"
     ]
    },
    {
     "name": "stdout",
     "output_type": "stream",
     "text": [
      "hold\n"
     ]
    },
    {
     "name": "stderr",
     "output_type": "stream",
     "text": [
      "Cached predictions saved to /Users/jiro/play/nstrade/notebooks/AutogluonModels/ag-20250517_112123/models/cached_predictions.pkl\n",
      "Model not specified in predict, will default to the model with the best validation score: WeightedEnsemble\n"
     ]
    },
    {
     "name": "stdout",
     "output_type": "stream",
     "text": [
      "hold\n"
     ]
    },
    {
     "name": "stderr",
     "output_type": "stream",
     "text": [
      "Prediction order: ['RecursiveTabular', 'DynamicOptimizedTheta', 'AutoETS', 'SeasonalNaive', 'WeightedEnsemble']\n",
      "Shortening all series to at most 1000002\n",
      "Shortening all time series to at most 2500\n",
      "Shortening all time series to at most 2500\n",
      "Shortening all time series to at most 2500\n",
      "Cached predictions saved to /Users/jiro/play/nstrade/notebooks/AutogluonModels/ag-20250517_112123/models/cached_predictions.pkl\n",
      "Model not specified in predict, will default to the model with the best validation score: WeightedEnsemble\n"
     ]
    },
    {
     "name": "stdout",
     "output_type": "stream",
     "text": [
      "hold\n"
     ]
    },
    {
     "name": "stderr",
     "output_type": "stream",
     "text": [
      "Prediction order: ['RecursiveTabular', 'DynamicOptimizedTheta', 'AutoETS', 'SeasonalNaive', 'WeightedEnsemble']\n",
      "Shortening all series to at most 1000002\n",
      "Shortening all time series to at most 2500\n",
      "Shortening all time series to at most 2500\n",
      "Shortening all time series to at most 2500\n",
      "Cached predictions saved to /Users/jiro/play/nstrade/notebooks/AutogluonModels/ag-20250517_112123/models/cached_predictions.pkl\n",
      "Model not specified in predict, will default to the model with the best validation score: WeightedEnsemble\n"
     ]
    },
    {
     "name": "stdout",
     "output_type": "stream",
     "text": [
      "hold\n"
     ]
    },
    {
     "name": "stderr",
     "output_type": "stream",
     "text": [
      "Prediction order: ['RecursiveTabular', 'DynamicOptimizedTheta', 'AutoETS', 'SeasonalNaive', 'WeightedEnsemble']\n",
      "Shortening all series to at most 1000002\n",
      "Shortening all time series to at most 2500\n",
      "Shortening all time series to at most 2500\n",
      "Shortening all time series to at most 2500\n",
      "Cached predictions saved to /Users/jiro/play/nstrade/notebooks/AutogluonModels/ag-20250517_112123/models/cached_predictions.pkl\n",
      "Model not specified in predict, will default to the model with the best validation score: WeightedEnsemble\n",
      "Prediction order: ['RecursiveTabular', 'DynamicOptimizedTheta', 'AutoETS', 'SeasonalNaive', 'WeightedEnsemble']\n",
      "Shortening all series to at most 1000002\n",
      "Shortening all time series to at most 2500\n",
      "Shortening all time series to at most 2500\n",
      "Shortening all time series to at most 2500\n"
     ]
    },
    {
     "name": "stdout",
     "output_type": "stream",
     "text": [
      "hold\n"
     ]
    },
    {
     "name": "stderr",
     "output_type": "stream",
     "text": [
      "Cached predictions saved to /Users/jiro/play/nstrade/notebooks/AutogluonModels/ag-20250517_112123/models/cached_predictions.pkl\n",
      "Model not specified in predict, will default to the model with the best validation score: WeightedEnsemble\n",
      "Prediction order: ['RecursiveTabular', 'DynamicOptimizedTheta', 'AutoETS', 'SeasonalNaive', 'WeightedEnsemble']\n",
      "Shortening all series to at most 1000002\n",
      "Shortening all time series to at most 2500\n",
      "Shortening all time series to at most 2500\n",
      "Shortening all time series to at most 2500\n"
     ]
    },
    {
     "name": "stdout",
     "output_type": "stream",
     "text": [
      "hold\n"
     ]
    },
    {
     "name": "stderr",
     "output_type": "stream",
     "text": [
      "Cached predictions saved to /Users/jiro/play/nstrade/notebooks/AutogluonModels/ag-20250517_112123/models/cached_predictions.pkl\n",
      "Model not specified in predict, will default to the model with the best validation score: WeightedEnsemble\n",
      "Prediction order: ['RecursiveTabular', 'DynamicOptimizedTheta', 'AutoETS', 'SeasonalNaive', 'WeightedEnsemble']\n",
      "Shortening all series to at most 1000002\n",
      "Shortening all time series to at most 2500\n",
      "Shortening all time series to at most 2500\n",
      "Shortening all time series to at most 2500\n"
     ]
    },
    {
     "name": "stdout",
     "output_type": "stream",
     "text": [
      "hold\n"
     ]
    },
    {
     "name": "stderr",
     "output_type": "stream",
     "text": [
      "Cached predictions saved to /Users/jiro/play/nstrade/notebooks/AutogluonModels/ag-20250517_112123/models/cached_predictions.pkl\n",
      "Model not specified in predict, will default to the model with the best validation score: WeightedEnsemble\n",
      "Prediction order: ['RecursiveTabular', 'DynamicOptimizedTheta', 'AutoETS', 'SeasonalNaive', 'WeightedEnsemble']\n",
      "Shortening all series to at most 1000002\n",
      "Shortening all time series to at most 2500\n",
      "Shortening all time series to at most 2500\n",
      "Shortening all time series to at most 2500\n"
     ]
    },
    {
     "name": "stdout",
     "output_type": "stream",
     "text": [
      "hold\n"
     ]
    },
    {
     "name": "stderr",
     "output_type": "stream",
     "text": [
      "Cached predictions saved to /Users/jiro/play/nstrade/notebooks/AutogluonModels/ag-20250517_112123/models/cached_predictions.pkl\n",
      "Model not specified in predict, will default to the model with the best validation score: WeightedEnsemble\n",
      "Prediction order: ['RecursiveTabular', 'DynamicOptimizedTheta', 'AutoETS', 'SeasonalNaive', 'WeightedEnsemble']\n",
      "Shortening all series to at most 1000002\n",
      "Shortening all time series to at most 2500\n",
      "Shortening all time series to at most 2500\n",
      "Shortening all time series to at most 2500\n"
     ]
    },
    {
     "name": "stdout",
     "output_type": "stream",
     "text": [
      "hold\n"
     ]
    },
    {
     "name": "stderr",
     "output_type": "stream",
     "text": [
      "Cached predictions saved to /Users/jiro/play/nstrade/notebooks/AutogluonModels/ag-20250517_112123/models/cached_predictions.pkl\n",
      "Model not specified in predict, will default to the model with the best validation score: WeightedEnsemble\n"
     ]
    },
    {
     "name": "stdout",
     "output_type": "stream",
     "text": [
      "hold\n"
     ]
    },
    {
     "name": "stderr",
     "output_type": "stream",
     "text": [
      "Prediction order: ['RecursiveTabular', 'DynamicOptimizedTheta', 'AutoETS', 'SeasonalNaive', 'WeightedEnsemble']\n",
      "Shortening all series to at most 1000002\n",
      "Shortening all time series to at most 2500\n",
      "Shortening all time series to at most 2500\n",
      "Shortening all time series to at most 2500\n",
      "Cached predictions saved to /Users/jiro/play/nstrade/notebooks/AutogluonModels/ag-20250517_112123/models/cached_predictions.pkl\n",
      "Model not specified in predict, will default to the model with the best validation score: WeightedEnsemble\n"
     ]
    },
    {
     "name": "stdout",
     "output_type": "stream",
     "text": [
      "hold\n"
     ]
    },
    {
     "name": "stderr",
     "output_type": "stream",
     "text": [
      "Prediction order: ['RecursiveTabular', 'DynamicOptimizedTheta', 'AutoETS', 'SeasonalNaive', 'WeightedEnsemble']\n",
      "Shortening all series to at most 1000002\n",
      "Shortening all time series to at most 2500\n",
      "Shortening all time series to at most 2500\n",
      "Shortening all time series to at most 2500\n",
      "Cached predictions saved to /Users/jiro/play/nstrade/notebooks/AutogluonModels/ag-20250517_112123/models/cached_predictions.pkl\n",
      "Model not specified in predict, will default to the model with the best validation score: WeightedEnsemble\n"
     ]
    },
    {
     "name": "stdout",
     "output_type": "stream",
     "text": [
      "hold\n"
     ]
    },
    {
     "name": "stderr",
     "output_type": "stream",
     "text": [
      "Prediction order: ['RecursiveTabular', 'DynamicOptimizedTheta', 'AutoETS', 'SeasonalNaive', 'WeightedEnsemble']\n",
      "Shortening all series to at most 1000002\n",
      "Shortening all time series to at most 2500\n",
      "Shortening all time series to at most 2500\n",
      "Shortening all time series to at most 2500\n",
      "Cached predictions saved to /Users/jiro/play/nstrade/notebooks/AutogluonModels/ag-20250517_112123/models/cached_predictions.pkl\n",
      "Model not specified in predict, will default to the model with the best validation score: WeightedEnsemble\n"
     ]
    },
    {
     "name": "stdout",
     "output_type": "stream",
     "text": [
      "hold\n"
     ]
    },
    {
     "name": "stderr",
     "output_type": "stream",
     "text": [
      "Prediction order: ['RecursiveTabular', 'DynamicOptimizedTheta', 'AutoETS', 'SeasonalNaive', 'WeightedEnsemble']\n",
      "Shortening all series to at most 1000002\n",
      "Shortening all time series to at most 2500\n",
      "Shortening all time series to at most 2500\n",
      "Shortening all time series to at most 2500\n",
      "Cached predictions saved to /Users/jiro/play/nstrade/notebooks/AutogluonModels/ag-20250517_112123/models/cached_predictions.pkl\n",
      "Model not specified in predict, will default to the model with the best validation score: WeightedEnsemble\n",
      "Prediction order: ['RecursiveTabular', 'DynamicOptimizedTheta', 'AutoETS', 'SeasonalNaive', 'WeightedEnsemble']\n",
      "Shortening all series to at most 1000002\n",
      "Shortening all time series to at most 2500\n",
      "Shortening all time series to at most 2500\n",
      "Shortening all time series to at most 2500\n"
     ]
    },
    {
     "name": "stdout",
     "output_type": "stream",
     "text": [
      "hold\n"
     ]
    },
    {
     "name": "stderr",
     "output_type": "stream",
     "text": [
      "Cached predictions saved to /Users/jiro/play/nstrade/notebooks/AutogluonModels/ag-20250517_112123/models/cached_predictions.pkl\n",
      "Model not specified in predict, will default to the model with the best validation score: WeightedEnsemble\n",
      "Prediction order: ['RecursiveTabular', 'DynamicOptimizedTheta', 'AutoETS', 'SeasonalNaive', 'WeightedEnsemble']\n",
      "Shortening all series to at most 1000002\n",
      "Shortening all time series to at most 2500\n",
      "Shortening all time series to at most 2500\n",
      "Shortening all time series to at most 2500\n"
     ]
    },
    {
     "name": "stdout",
     "output_type": "stream",
     "text": [
      "hold\n"
     ]
    },
    {
     "name": "stderr",
     "output_type": "stream",
     "text": [
      "Cached predictions saved to /Users/jiro/play/nstrade/notebooks/AutogluonModels/ag-20250517_112123/models/cached_predictions.pkl\n",
      "Model not specified in predict, will default to the model with the best validation score: WeightedEnsemble\n",
      "Prediction order: ['RecursiveTabular', 'DynamicOptimizedTheta', 'AutoETS', 'SeasonalNaive', 'WeightedEnsemble']\n",
      "Shortening all series to at most 1000002\n",
      "Shortening all time series to at most 2500\n",
      "Shortening all time series to at most 2500\n",
      "Shortening all time series to at most 2500\n"
     ]
    },
    {
     "name": "stdout",
     "output_type": "stream",
     "text": [
      "hold\n"
     ]
    },
    {
     "name": "stderr",
     "output_type": "stream",
     "text": [
      "Cached predictions saved to /Users/jiro/play/nstrade/notebooks/AutogluonModels/ag-20250517_112123/models/cached_predictions.pkl\n",
      "Model not specified in predict, will default to the model with the best validation score: WeightedEnsemble\n",
      "Prediction order: ['RecursiveTabular', 'DynamicOptimizedTheta', 'AutoETS', 'SeasonalNaive', 'WeightedEnsemble']\n",
      "Shortening all series to at most 1000002\n",
      "Shortening all time series to at most 2500\n",
      "Shortening all time series to at most 2500\n",
      "Shortening all time series to at most 2500\n"
     ]
    },
    {
     "name": "stdout",
     "output_type": "stream",
     "text": [
      "hold\n"
     ]
    },
    {
     "name": "stderr",
     "output_type": "stream",
     "text": [
      "Cached predictions saved to /Users/jiro/play/nstrade/notebooks/AutogluonModels/ag-20250517_112123/models/cached_predictions.pkl\n",
      "Model not specified in predict, will default to the model with the best validation score: WeightedEnsemble\n",
      "Prediction order: ['RecursiveTabular', 'DynamicOptimizedTheta', 'AutoETS', 'SeasonalNaive', 'WeightedEnsemble']\n",
      "Shortening all series to at most 1000002\n",
      "Shortening all time series to at most 2500\n",
      "Shortening all time series to at most 2500\n",
      "Shortening all time series to at most 2500\n"
     ]
    },
    {
     "name": "stdout",
     "output_type": "stream",
     "text": [
      "hold\n"
     ]
    },
    {
     "name": "stderr",
     "output_type": "stream",
     "text": [
      "Cached predictions saved to /Users/jiro/play/nstrade/notebooks/AutogluonModels/ag-20250517_112123/models/cached_predictions.pkl\n",
      "Model not specified in predict, will default to the model with the best validation score: WeightedEnsemble\n"
     ]
    },
    {
     "name": "stdout",
     "output_type": "stream",
     "text": [
      "hold\n"
     ]
    },
    {
     "name": "stderr",
     "output_type": "stream",
     "text": [
      "Prediction order: ['RecursiveTabular', 'DynamicOptimizedTheta', 'AutoETS', 'SeasonalNaive', 'WeightedEnsemble']\n",
      "Shortening all series to at most 1000002\n",
      "Shortening all time series to at most 2500\n",
      "Shortening all time series to at most 2500\n",
      "Shortening all time series to at most 2500\n",
      "Cached predictions saved to /Users/jiro/play/nstrade/notebooks/AutogluonModels/ag-20250517_112123/models/cached_predictions.pkl\n",
      "Model not specified in predict, will default to the model with the best validation score: WeightedEnsemble\n"
     ]
    },
    {
     "name": "stdout",
     "output_type": "stream",
     "text": [
      "hold\n"
     ]
    },
    {
     "name": "stderr",
     "output_type": "stream",
     "text": [
      "Prediction order: ['RecursiveTabular', 'DynamicOptimizedTheta', 'AutoETS', 'SeasonalNaive', 'WeightedEnsemble']\n",
      "Shortening all series to at most 1000002\n",
      "Shortening all time series to at most 2500\n",
      "Shortening all time series to at most 2500\n",
      "Shortening all time series to at most 2500\n"
     ]
    }
   ],
   "source": [
    "\n",
    "autogluon_res = run_backtest(\n",
    "    lambda initial_capital: strategy,\n",
    "    test_df,\n",
    "    initial_capital=10000\n",
    ")\n"
   ]
  },
  {
   "cell_type": "markdown",
   "metadata": {},
   "source": [
    "## Development // Drafts // WIP"
   ]
  },
  {
   "cell_type": "code",
   "execution_count": null,
   "metadata": {},
   "outputs": [],
   "source": [
    "from autogluon.timeseries import TimeSeriesDataFrame, TimeSeriesPredictor\n",
    "\n",
    "df = df.head(1000)\n",
    "\n",
    "train_df = TimeSeriesDataFrame.from_data_frame(\n",
    "    df,          # drop last NaN caused by shift\n",
    "    timestamp_column='timestamp',\n",
    "    id_column='id',\n",
    "    static_features_df=None\n",
    ")\n",
    "\n",
    "\n",
    "model = TimeSeriesPredictor(\n",
    "    target='return',\n",
    "    prediction_length=1,\n",
    "    eval_metric='rmse',\n",
    "    verbosity=4\n",
    ")\n"
   ]
  },
  {
   "cell_type": "code",
   "execution_count": 2,
   "metadata": {},
   "outputs": [
    {
     "ename": "NameError",
     "evalue": "name 'run_backtest' is not defined",
     "output_type": "error",
     "traceback": [
      "\u001b[31m---------------------------------------------------------------------------\u001b[39m",
      "\u001b[31mNameError\u001b[39m                                 Traceback (most recent call last)",
      "\u001b[36mCell\u001b[39m\u001b[36m \u001b[39m\u001b[32mIn[2]\u001b[39m\u001b[32m, line 1\u001b[39m\n\u001b[32m----> \u001b[39m\u001b[32m1\u001b[39m \u001b[43mrun_backtest\u001b[49m(AutoMLStrategy, df)\n",
      "\u001b[31mNameError\u001b[39m: name 'run_backtest' is not defined"
     ]
    }
   ],
   "source": [
    "run_backtest(AutoMLStrategy, df)"
   ]
  },
  {
   "cell_type": "code",
   "execution_count": null,
   "metadata": {},
   "outputs": [],
   "source": [
    "# create a new strategy\n",
    "class AutoMLStrategy(Strategy):\n",
    "    def __init__(self, initial_capital=10000):\n",
    "        super().__init__(initial_capital)\n",
    "        self.has_bought = False\n",
    "        self.model = model\n",
    "\n",
    "    def process_bar(self, bar):\n",
    "        self.current_bar = bar\n",
    "        self.model.predict(bar)\n",
    "\n",
    "    def get_signal(self):\n",
    "        if not self.has_bought:\n",
    "            self.has_bought = True"
   ]
  }
 ],
 "metadata": {
  "kernelspec": {
   "display_name": ".venv",
   "language": "python",
   "name": "python3"
  },
  "language_info": {
   "codemirror_mode": {
    "name": "ipython",
    "version": 3
   },
   "file_extension": ".py",
   "mimetype": "text/x-python",
   "name": "python",
   "nbconvert_exporter": "python",
   "pygments_lexer": "ipython3",
   "version": "3.12.8"
  }
 },
 "nbformat": 4,
 "nbformat_minor": 2
}
